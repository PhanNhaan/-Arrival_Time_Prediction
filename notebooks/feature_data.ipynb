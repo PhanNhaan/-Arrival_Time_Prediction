{
 "cells": [
  {
   "cell_type": "code",
   "execution_count": 1,
   "metadata": {},
   "outputs": [
    {
     "name": "stderr",
     "output_type": "stream",
     "text": [
      "2024-06-27 22:44:07.940283: I tensorflow/core/platform/cpu_feature_guard.cc:193] This TensorFlow binary is optimized with oneAPI Deep Neural Network Library (oneDNN) to use the following CPU instructions in performance-critical operations:  AVX2 AVX_VNNI FMA\n",
      "To enable them in other operations, rebuild TensorFlow with the appropriate compiler flags.\n",
      "2024-06-27 22:44:08.262478: I tensorflow/core/util/port.cc:104] oneDNN custom operations are on. You may see slightly different numerical results due to floating-point round-off errors from different computation orders. To turn them off, set the environment variable `TF_ENABLE_ONEDNN_OPTS=0`.\n",
      "2024-06-27 22:44:09.663878: W tensorflow/compiler/xla/stream_executor/platform/default/dso_loader.cc:64] Could not load dynamic library 'libnvinfer.so.7'; dlerror: libnvinfer.so.7: cannot open shared object file: No such file or directory\n",
      "2024-06-27 22:44:09.664022: W tensorflow/compiler/xla/stream_executor/platform/default/dso_loader.cc:64] Could not load dynamic library 'libnvinfer_plugin.so.7'; dlerror: libnvinfer_plugin.so.7: cannot open shared object file: No such file or directory\n",
      "2024-06-27 22:44:09.664030: W tensorflow/compiler/tf2tensorrt/utils/py_utils.cc:38] TF-TRT Warning: Cannot dlopen some TensorRT libraries. If you would like to use Nvidia GPU with TensorRT, please make sure the missing libraries mentioned above are installed properly.\n"
     ]
    }
   ],
   "source": [
    "import numpy as np\n",
    "from pyspark.sql import SparkSession\n",
    "from pyspark.sql import functions as f\n",
    "from pyspark.sql.types import *\n",
    "# import os.path\n",
    "# from os import path\n",
    "\n",
    "import tensorflow as tf\n",
    "from tensorflow.keras.preprocessing.text import Tokenizer\n",
    "from tensorflow.keras.preprocessing.sequence import pad_sequences\n",
    "# from tensorflow.keras.models import Sequential\n",
    "# from tensorflow.keras.layers import LSTM, Dropout, Dense\n",
    "# from tensorflowonspark import TFCluster\n",
    "# from sklearn.preprocessing import MinMaxScaler\n",
    "\n",
    "from pyspark.ml.linalg import Vectors, VectorUDT, DenseVector\n",
    "from pyspark.sql.functions import udf \n",
    "\n",
    "from pyspark.ml.feature import VectorAssembler, StringIndexer, MinMaxScaler\n"
   ]
  },
  {
   "cell_type": "code",
   "execution_count": 2,
   "metadata": {},
   "outputs": [
    {
     "name": "stderr",
     "output_type": "stream",
     "text": [
      "your 131072x1 screen size is bogus. expect trouble\n",
      "24/06/27 22:44:14 WARN Utils: Your hostname, LAPTOP-VD1TNFDJ resolves to a loopback address: 127.0.1.1; using 10.255.255.254 instead (on interface lo)\n",
      "24/06/27 22:44:14 WARN Utils: Set SPARK_LOCAL_IP if you need to bind to another address\n",
      "Setting default log level to \"WARN\".\n",
      "To adjust logging level use sc.setLogLevel(newLevel). For SparkR, use setLogLevel(newLevel).\n",
      "24/06/27 22:44:15 WARN NativeCodeLoader: Unable to load native-hadoop library for your platform... using builtin-java classes where applicable\n"
     ]
    }
   ],
   "source": [
    "# Khởi tạo Spark Session\n",
    "spark = SparkSession.builder.appName(\"kafka\").getOrCreate()\n",
    "sc = spark.sparkContext"
   ]
  },
  {
   "cell_type": "code",
   "execution_count": null,
   "metadata": {},
   "outputs": [],
   "source": []
  },
  {
   "cell_type": "markdown",
   "metadata": {},
   "source": [
    "# 1.Bus"
   ]
  },
  {
   "cell_type": "markdown",
   "metadata": {},
   "source": [
    "## 1.1 Load data"
   ]
  },
  {
   "cell_type": "code",
   "execution_count": 156,
   "metadata": {},
   "outputs": [
    {
     "data": {
      "text/html": [
       "<div>\n",
       "<style scoped>\n",
       "    .dataframe tbody tr th:only-of-type {\n",
       "        vertical-align: middle;\n",
       "    }\n",
       "\n",
       "    .dataframe tbody tr th {\n",
       "        vertical-align: top;\n",
       "    }\n",
       "\n",
       "    .dataframe thead th {\n",
       "        text-align: right;\n",
       "    }\n",
       "</style>\n",
       "<table border=\"1\" class=\"dataframe\">\n",
       "  <thead>\n",
       "    <tr style=\"text-align: right;\">\n",
       "      <th></th>\n",
       "      <th>date</th>\n",
       "      <th>route</th>\n",
       "      <th>time</th>\n",
       "      <th>day</th>\n",
       "      <th>location</th>\n",
       "      <th>incident</th>\n",
       "      <th>min_delay</th>\n",
       "      <th>min_gap</th>\n",
       "      <th>direction</th>\n",
       "      <th>vehicle</th>\n",
       "      <th>day_month</th>\n",
       "      <th>month</th>\n",
       "      <th>hour</th>\n",
       "      <th>min</th>\n",
       "    </tr>\n",
       "  </thead>\n",
       "  <tbody>\n",
       "    <tr>\n",
       "      <th>0</th>\n",
       "      <td>2023-01-01</td>\n",
       "      <td>69</td>\n",
       "      <td>2024-06-10 02:34:00</td>\n",
       "      <td>Sunday</td>\n",
       "      <td>warden station</td>\n",
       "      <td>Security</td>\n",
       "      <td>22</td>\n",
       "      <td>44</td>\n",
       "      <td>S</td>\n",
       "      <td>8407</td>\n",
       "      <td>1</td>\n",
       "      <td>1</td>\n",
       "      <td>2</td>\n",
       "      <td>34</td>\n",
       "    </tr>\n",
       "    <tr>\n",
       "      <th>1</th>\n",
       "      <td>2023-01-01</td>\n",
       "      <td>35</td>\n",
       "      <td>2024-06-10 03:06:00</td>\n",
       "      <td>Sunday</td>\n",
       "      <td>jane station</td>\n",
       "      <td>Cleaning - Unsanitary</td>\n",
       "      <td>30</td>\n",
       "      <td>60</td>\n",
       "      <td>N</td>\n",
       "      <td>1051</td>\n",
       "      <td>1</td>\n",
       "      <td>1</td>\n",
       "      <td>3</td>\n",
       "      <td>6</td>\n",
       "    </tr>\n",
       "    <tr>\n",
       "      <th>2</th>\n",
       "      <td>2023-01-01</td>\n",
       "      <td>900</td>\n",
       "      <td>2024-06-10 03:14:00</td>\n",
       "      <td>Sunday</td>\n",
       "      <td>kipling station</td>\n",
       "      <td>Security</td>\n",
       "      <td>17</td>\n",
       "      <td>17</td>\n",
       "      <td>unknown</td>\n",
       "      <td>3334</td>\n",
       "      <td>1</td>\n",
       "      <td>1</td>\n",
       "      <td>3</td>\n",
       "      <td>14</td>\n",
       "    </tr>\n",
       "    <tr>\n",
       "      <th>3</th>\n",
       "      <td>2023-01-01</td>\n",
       "      <td>52</td>\n",
       "      <td>2024-06-10 04:25:00</td>\n",
       "      <td>Sunday</td>\n",
       "      <td>lawrence and yonge</td>\n",
       "      <td>Emergency Services</td>\n",
       "      <td>30</td>\n",
       "      <td>60</td>\n",
       "      <td>E</td>\n",
       "      <td>3520</td>\n",
       "      <td>1</td>\n",
       "      <td>1</td>\n",
       "      <td>4</td>\n",
       "      <td>25</td>\n",
       "    </tr>\n",
       "    <tr>\n",
       "      <th>4</th>\n",
       "      <td>2023-01-01</td>\n",
       "      <td>24</td>\n",
       "      <td>2024-06-10 04:35:00</td>\n",
       "      <td>Sunday</td>\n",
       "      <td>danforth and main</td>\n",
       "      <td>Cleaning - Unsanitary</td>\n",
       "      <td>20</td>\n",
       "      <td>40</td>\n",
       "      <td>W</td>\n",
       "      <td>8404</td>\n",
       "      <td>1</td>\n",
       "      <td>1</td>\n",
       "      <td>4</td>\n",
       "      <td>35</td>\n",
       "    </tr>\n",
       "    <tr>\n",
       "      <th>...</th>\n",
       "      <td>...</td>\n",
       "      <td>...</td>\n",
       "      <td>...</td>\n",
       "      <td>...</td>\n",
       "      <td>...</td>\n",
       "      <td>...</td>\n",
       "      <td>...</td>\n",
       "      <td>...</td>\n",
       "      <td>...</td>\n",
       "      <td>...</td>\n",
       "      <td>...</td>\n",
       "      <td>...</td>\n",
       "      <td>...</td>\n",
       "      <td>...</td>\n",
       "    </tr>\n",
       "    <tr>\n",
       "      <th>49046</th>\n",
       "      <td>2023-12-31</td>\n",
       "      <td>960</td>\n",
       "      <td>2024-06-10 00:24:00</td>\n",
       "      <td>Sunday</td>\n",
       "      <td>steeles and village ga</td>\n",
       "      <td>Mechanical</td>\n",
       "      <td>10</td>\n",
       "      <td>20</td>\n",
       "      <td>E</td>\n",
       "      <td>7118</td>\n",
       "      <td>31</td>\n",
       "      <td>12</td>\n",
       "      <td>0</td>\n",
       "      <td>24</td>\n",
       "    </tr>\n",
       "    <tr>\n",
       "      <th>49047</th>\n",
       "      <td>2023-12-31</td>\n",
       "      <td>41</td>\n",
       "      <td>2024-06-10 01:26:00</td>\n",
       "      <td>Sunday</td>\n",
       "      <td>keele and eglinton</td>\n",
       "      <td>Operations - Operator</td>\n",
       "      <td>28</td>\n",
       "      <td>53</td>\n",
       "      <td>N</td>\n",
       "      <td>1133</td>\n",
       "      <td>31</td>\n",
       "      <td>12</td>\n",
       "      <td>1</td>\n",
       "      <td>26</td>\n",
       "    </tr>\n",
       "    <tr>\n",
       "      <th>49048</th>\n",
       "      <td>2023-12-31</td>\n",
       "      <td>94</td>\n",
       "      <td>2024-06-10 01:31:00</td>\n",
       "      <td>Sunday</td>\n",
       "      <td>castle frank station</td>\n",
       "      <td>Emergency Services</td>\n",
       "      <td>10</td>\n",
       "      <td>20</td>\n",
       "      <td>unknown</td>\n",
       "      <td>8415</td>\n",
       "      <td>31</td>\n",
       "      <td>12</td>\n",
       "      <td>1</td>\n",
       "      <td>31</td>\n",
       "    </tr>\n",
       "    <tr>\n",
       "      <th>49049</th>\n",
       "      <td>2023-12-31</td>\n",
       "      <td>63</td>\n",
       "      <td>2024-06-10 01:40:00</td>\n",
       "      <td>Sunday</td>\n",
       "      <td>oakwood and vaughan</td>\n",
       "      <td>Diversion</td>\n",
       "      <td>33</td>\n",
       "      <td>43</td>\n",
       "      <td>N</td>\n",
       "      <td>7010</td>\n",
       "      <td>31</td>\n",
       "      <td>12</td>\n",
       "      <td>1</td>\n",
       "      <td>40</td>\n",
       "    </tr>\n",
       "    <tr>\n",
       "      <th>49050</th>\n",
       "      <td>2023-12-31</td>\n",
       "      <td>41</td>\n",
       "      <td>2024-06-10 01:55:00</td>\n",
       "      <td>Sunday</td>\n",
       "      <td>keele and rogers</td>\n",
       "      <td>General Delay</td>\n",
       "      <td>25</td>\n",
       "      <td>53</td>\n",
       "      <td>N</td>\n",
       "      <td>7287</td>\n",
       "      <td>31</td>\n",
       "      <td>12</td>\n",
       "      <td>1</td>\n",
       "      <td>55</td>\n",
       "    </tr>\n",
       "  </tbody>\n",
       "</table>\n",
       "<p>49051 rows × 14 columns</p>\n",
       "</div>"
      ],
      "text/plain": [
       "             date  route                time     day                location  \\\n",
       "0      2023-01-01     69 2024-06-10 02:34:00  Sunday          warden station   \n",
       "1      2023-01-01     35 2024-06-10 03:06:00  Sunday            jane station   \n",
       "2      2023-01-01    900 2024-06-10 03:14:00  Sunday         kipling station   \n",
       "3      2023-01-01     52 2024-06-10 04:25:00  Sunday      lawrence and yonge   \n",
       "4      2023-01-01     24 2024-06-10 04:35:00  Sunday       danforth and main   \n",
       "...           ...    ...                 ...     ...                     ...   \n",
       "49046  2023-12-31    960 2024-06-10 00:24:00  Sunday  steeles and village ga   \n",
       "49047  2023-12-31     41 2024-06-10 01:26:00  Sunday      keele and eglinton   \n",
       "49048  2023-12-31     94 2024-06-10 01:31:00  Sunday    castle frank station   \n",
       "49049  2023-12-31     63 2024-06-10 01:40:00  Sunday     oakwood and vaughan   \n",
       "49050  2023-12-31     41 2024-06-10 01:55:00  Sunday        keele and rogers   \n",
       "\n",
       "                    incident  min_delay  min_gap direction  vehicle  \\\n",
       "0                   Security         22       44         S     8407   \n",
       "1      Cleaning - Unsanitary         30       60         N     1051   \n",
       "2                   Security         17       17   unknown     3334   \n",
       "3         Emergency Services         30       60         E     3520   \n",
       "4      Cleaning - Unsanitary         20       40         W     8404   \n",
       "...                      ...        ...      ...       ...      ...   \n",
       "49046             Mechanical         10       20         E     7118   \n",
       "49047  Operations - Operator         28       53         N     1133   \n",
       "49048     Emergency Services         10       20   unknown     8415   \n",
       "49049              Diversion         33       43         N     7010   \n",
       "49050          General Delay         25       53         N     7287   \n",
       "\n",
       "       day_month  month  hour  min  \n",
       "0              1      1     2   34  \n",
       "1              1      1     3    6  \n",
       "2              1      1     3   14  \n",
       "3              1      1     4   25  \n",
       "4              1      1     4   35  \n",
       "...          ...    ...   ...  ...  \n",
       "49046         31     12     0   24  \n",
       "49047         31     12     1   26  \n",
       "49048         31     12     1   31  \n",
       "49049         31     12     1   40  \n",
       "49050         31     12     1   55  \n",
       "\n",
       "[49051 rows x 14 columns]"
      ]
     },
     "execution_count": 156,
     "metadata": {},
     "output_type": "execute_result"
    }
   ],
   "source": [
    "bus = spark.read.csv(\"../data/clean_data/bus_clean.csv\", inferSchema=True, header=True)\n",
    "bus.toPandas()"
   ]
  },
  {
   "cell_type": "code",
   "execution_count": 157,
   "metadata": {},
   "outputs": [],
   "source": [
    "bus_drop = bus.drop(\"date\", \"time\")"
   ]
  },
  {
   "cell_type": "code",
   "execution_count": 158,
   "metadata": {},
   "outputs": [
    {
     "name": "stdout",
     "output_type": "stream",
     "text": [
      "<class 'pandas.core.frame.DataFrame'>\n",
      "RangeIndex: 49051 entries, 0 to 49050\n",
      "Data columns (total 12 columns):\n",
      " #   Column     Non-Null Count  Dtype \n",
      "---  ------     --------------  ----- \n",
      " 0   route      49051 non-null  int32 \n",
      " 1   day        49051 non-null  object\n",
      " 2   location   49051 non-null  object\n",
      " 3   incident   49051 non-null  object\n",
      " 4   min_delay  49051 non-null  int32 \n",
      " 5   min_gap    49051 non-null  int32 \n",
      " 6   direction  49051 non-null  object\n",
      " 7   vehicle    49051 non-null  int32 \n",
      " 8   day_month  49051 non-null  int32 \n",
      " 9   month      49051 non-null  int32 \n",
      " 10  hour       49051 non-null  int32 \n",
      " 11  min        49051 non-null  int32 \n",
      "dtypes: int32(8), object(4)\n",
      "memory usage: 3.0+ MB\n"
     ]
    }
   ],
   "source": [
    "bus_drop.toPandas().info()"
   ]
  },
  {
   "cell_type": "markdown",
   "metadata": {},
   "source": [
    "## 1.2 StringIndexer col categorical"
   ]
  },
  {
   "cell_type": "code",
   "execution_count": 159,
   "metadata": {},
   "outputs": [],
   "source": [
    "categorical_cols = [\"day\", \"incident\", \"direction\", \"location\"]"
   ]
  },
  {
   "cell_type": "code",
   "execution_count": 160,
   "metadata": {},
   "outputs": [],
   "source": [
    "indexed_data = bus_drop"
   ]
  },
  {
   "cell_type": "code",
   "execution_count": 161,
   "metadata": {},
   "outputs": [],
   "source": [
    "for col in categorical_cols:\n",
    "    string_indexer = StringIndexer(inputCol=col, outputCol=col + \"_indexed\")\n",
    "    indexed_data = string_indexer.fit(indexed_data).transform(indexed_data)"
   ]
  },
  {
   "cell_type": "code",
   "execution_count": 162,
   "metadata": {},
   "outputs": [
    {
     "name": "stdout",
     "output_type": "stream",
     "text": [
      "<class 'pandas.core.frame.DataFrame'>\n",
      "RangeIndex: 49051 entries, 0 to 49050\n",
      "Data columns (total 16 columns):\n",
      " #   Column             Non-Null Count  Dtype  \n",
      "---  ------             --------------  -----  \n",
      " 0   route              49051 non-null  int32  \n",
      " 1   day                49051 non-null  object \n",
      " 2   location           49051 non-null  object \n",
      " 3   incident           49051 non-null  object \n",
      " 4   min_delay          49051 non-null  int32  \n",
      " 5   min_gap            49051 non-null  int32  \n",
      " 6   direction          49051 non-null  object \n",
      " 7   vehicle            49051 non-null  int32  \n",
      " 8   day_month          49051 non-null  int32  \n",
      " 9   month              49051 non-null  int32  \n",
      " 10  hour               49051 non-null  int32  \n",
      " 11  min                49051 non-null  int32  \n",
      " 12  day_indexed        49051 non-null  float64\n",
      " 13  incident_indexed   49051 non-null  float64\n",
      " 14  direction_indexed  49051 non-null  float64\n",
      " 15  location_indexed   49051 non-null  float64\n",
      "dtypes: float64(4), int32(8), object(4)\n",
      "memory usage: 4.5+ MB\n"
     ]
    }
   ],
   "source": [
    "indexed_data.toPandas().info()"
   ]
  },
  {
   "cell_type": "markdown",
   "metadata": {},
   "source": [
    "## 1.3 W2v col direction"
   ]
  },
  {
   "cell_type": "code",
   "execution_count": 163,
   "metadata": {},
   "outputs": [
    {
     "name": "stdout",
     "output_type": "stream",
     "text": [
      "7\n"
     ]
    }
   ],
   "source": [
    "maxlen = max(len(s.split()) for s in indexed_data.toPandas()['location'])\n",
    "print(maxlen)"
   ]
  },
  {
   "cell_type": "code",
   "execution_count": 164,
   "metadata": {},
   "outputs": [],
   "source": [
    "tokenizer = Tokenizer(num_words=10000)\n",
    "tokenizer.fit_on_texts(indexed_data.toPandas()['location']) \n",
    "sequences = tokenizer.texts_to_sequences(indexed_data.toPandas()['location'])\n",
    "station_w2v = pad_sequences(sequences, maxlen=7) \n",
    "station_w2v_list = [x.tolist() for x in station_w2v]\n",
    "\n",
    "# Create the DataFrame\n",
    "station_w2v_df = spark.createDataFrame(station_w2v_list, ArrayType(IntegerType())).toDF(\"location_w2v\")\n",
    "\n",
    "indexed_data = indexed_data.withColumn(\"id\", f.monotonically_increasing_id())\n",
    "station_w2v_df = station_w2v_df.withColumn(\"id\", f.monotonically_increasing_id())\n",
    "indexed_data = indexed_data.join(station_w2v_df, \"id\").drop(\"id\")\n",
    "\n",
    "# indexed_data = indexed_data.withColumn('station_w2v', f.lit(station_w2v_list))"
   ]
  },
  {
   "cell_type": "code",
   "execution_count": 165,
   "metadata": {},
   "outputs": [
    {
     "name": "stdout",
     "output_type": "stream",
     "text": [
      "<class 'pandas.core.frame.DataFrame'>\n",
      "RangeIndex: 6144 entries, 0 to 6143\n",
      "Data columns (total 17 columns):\n",
      " #   Column             Non-Null Count  Dtype  \n",
      "---  ------             --------------  -----  \n",
      " 0   route              6144 non-null   int32  \n",
      " 1   day                6144 non-null   object \n",
      " 2   location           6144 non-null   object \n",
      " 3   incident           6144 non-null   object \n",
      " 4   min_delay          6144 non-null   int32  \n",
      " 5   min_gap            6144 non-null   int32  \n",
      " 6   direction          6144 non-null   object \n",
      " 7   vehicle            6144 non-null   int32  \n",
      " 8   day_month          6144 non-null   int32  \n",
      " 9   month              6144 non-null   int32  \n",
      " 10  hour               6144 non-null   int32  \n",
      " 11  min                6144 non-null   int32  \n",
      " 12  day_indexed        6144 non-null   float64\n",
      " 13  incident_indexed   6144 non-null   float64\n",
      " 14  direction_indexed  6144 non-null   float64\n",
      " 15  location_indexed   6144 non-null   float64\n",
      " 16  location_w2v       6144 non-null   object \n",
      "dtypes: float64(4), int32(8), object(5)\n",
      "memory usage: 624.1+ KB\n"
     ]
    }
   ],
   "source": [
    "indexed_data.toPandas().info()"
   ]
  },
  {
   "cell_type": "markdown",
   "metadata": {},
   "source": [
    "## 1.4 Vector and scala feature col"
   ]
  },
  {
   "cell_type": "code",
   "execution_count": 175,
   "metadata": {},
   "outputs": [
    {
     "data": {
      "text/plain": [
       "['route',\n",
       " 'min_gap',\n",
       " 'vehicle',\n",
       " 'day_month',\n",
       " 'month',\n",
       " 'hour',\n",
       " 'min',\n",
       " 'day_indexed',\n",
       " 'incident_indexed',\n",
       " 'direction_indexed',\n",
       " 'location_indexed']"
      ]
     },
     "execution_count": 175,
     "metadata": {},
     "output_type": "execute_result"
    }
   ],
   "source": [
    "feature_cols = [col for col, dtype in indexed_data.dtypes if dtype in [\"int\", \"bigint\", \"float\", \"double\"]]\n",
    "feature_cols.remove(\"min_delay\")\n",
    "feature_cols"
   ]
  },
  {
   "cell_type": "code",
   "execution_count": 176,
   "metadata": {},
   "outputs": [],
   "source": [
    "# with location encoding\n",
    "vector_assembler = VectorAssembler(inputCols=feature_cols, outputCol=\"features\")\n",
    "assembled_data = vector_assembler.transform(indexed_data)\n",
    "\n",
    "scaler = MinMaxScaler(inputCol=\"features\", outputCol=\"scaled_features\")\n",
    "scaler_model = scaler.fit(assembled_data)\n",
    "scaled_data = scaler_model.transform(assembled_data)"
   ]
  },
  {
   "cell_type": "code",
   "execution_count": 168,
   "metadata": {},
   "outputs": [],
   "source": [
    "feature_cols.remove('location_indexed')"
   ]
  },
  {
   "cell_type": "code",
   "execution_count": 177,
   "metadata": {},
   "outputs": [],
   "source": [
    "# with location w2v\n",
    "list_to_vector_udf = udf(lambda l: Vectors.dense(l), VectorUDT())\n",
    "\n",
    "scaled_data = scaled_data.withColumn(\"location_w2v_vector\", list_to_vector_udf(\"location_w2v\"))\n",
    "\n",
    "feature_cols = [\"location_w2v_vector\"] + feature_cols\n",
    "vector_assembler = VectorAssembler(inputCols=feature_cols, outputCol=\"features_w2v\")\n",
    "assembled_data_w2v = vector_assembler.transform(scaled_data)"
   ]
  },
  {
   "cell_type": "code",
   "execution_count": 178,
   "metadata": {},
   "outputs": [
    {
     "name": "stderr",
     "output_type": "stream",
     "text": [
      "                                                                                \r"
     ]
    },
    {
     "data": {
      "text/plain": [
       "DenseVector([0.0, 0.0, 0.0, 0.0, 0.0, 19.0, 2.0, 69.0, 44.0, 8407.0, 1.0, 1.0, 2.0, 34.0, 6.0, 2.0, 1.0, 8.0])"
      ]
     },
     "execution_count": 178,
     "metadata": {},
     "output_type": "execute_result"
    }
   ],
   "source": [
    "assembled_data_w2v.toPandas()['features_w2v'][0]"
   ]
  },
  {
   "cell_type": "code",
   "execution_count": 181,
   "metadata": {},
   "outputs": [
    {
     "name": "stderr",
     "output_type": "stream",
     "text": [
      "                                                                                \r"
     ]
    }
   ],
   "source": [
    "scaler = MinMaxScaler(inputCol=\"features_w2v\", outputCol=\"scaled_features_w2v\")\n",
    "scaler_model = scaler.fit(assembled_data_w2v)\n",
    "scaled_data_w2v = scaler_model.transform(assembled_data_w2v)\n",
    "\n",
    "to_dense = udf(lambda v: DenseVector(v.toArray()), VectorUDT())\n",
    "\n",
    "scaled_data_w2v = scaled_data_w2v.withColumn(\"scaled_features_w2v\", to_dense(scaled_data_w2v[\"scaled_features_w2v\"]))"
   ]
  },
  {
   "cell_type": "code",
   "execution_count": 152,
   "metadata": {},
   "outputs": [
    {
     "data": {
      "text/plain": [
       "DataFrame[route: int, day: string, location: string, incident: string, min_delay: int, min_gap: int, direction: string, vehicle: int, day_month: int, month: int, hour: int, min: int, day_indexed: double, incident_indexed: double, direction_indexed: double, location_indexed: double, location_w2v: array<int>, features: vector, scaled_features: vector, location_w2v_vector: vector, features_w2v: vector, scaled_features_w2v: vector]"
      ]
     },
     "execution_count": 152,
     "metadata": {},
     "output_type": "execute_result"
    }
   ],
   "source": [
    "scaled_data_w2v"
   ]
  },
  {
   "cell_type": "markdown",
   "metadata": {},
   "source": [
    "## 1.6 Save data featured"
   ]
  },
  {
   "cell_type": "code",
   "execution_count": 183,
   "metadata": {},
   "outputs": [
    {
     "name": "stderr",
     "output_type": "stream",
     "text": [
      "                                                                                \r"
     ]
    },
    {
     "name": "stdout",
     "output_type": "stream",
     "text": [
      "<class 'pandas.core.frame.DataFrame'>\n",
      "RangeIndex: 6144 entries, 0 to 6143\n",
      "Data columns (total 22 columns):\n",
      " #   Column               Non-Null Count  Dtype  \n",
      "---  ------               --------------  -----  \n",
      " 0   route                6144 non-null   int32  \n",
      " 1   day                  6144 non-null   object \n",
      " 2   location             6144 non-null   object \n",
      " 3   incident             6144 non-null   object \n",
      " 4   min_delay            6144 non-null   int32  \n",
      " 5   min_gap              6144 non-null   int32  \n",
      " 6   direction            6144 non-null   object \n",
      " 7   vehicle              6144 non-null   int32  \n",
      " 8   day_month            6144 non-null   int32  \n",
      " 9   month                6144 non-null   int32  \n",
      " 10  hour                 6144 non-null   int32  \n",
      " 11  min                  6144 non-null   int32  \n",
      " 12  day_indexed          6144 non-null   float64\n",
      " 13  incident_indexed     6144 non-null   float64\n",
      " 14  direction_indexed    6144 non-null   float64\n",
      " 15  location_indexed     6144 non-null   float64\n",
      " 16  location_w2v         6144 non-null   object \n",
      " 17  features             6144 non-null   object \n",
      " 18  scaled_features      6144 non-null   object \n",
      " 19  location_w2v_vector  6144 non-null   object \n",
      " 20  features_w2v         6144 non-null   object \n",
      " 21  scaled_features_w2v  6144 non-null   object \n",
      "dtypes: float64(4), int32(8), object(10)\n",
      "memory usage: 864.1+ KB\n"
     ]
    }
   ],
   "source": [
    "scaled_data_w2v.toPandas().info()"
   ]
  },
  {
   "cell_type": "code",
   "execution_count": 184,
   "metadata": {},
   "outputs": [
    {
     "name": "stderr",
     "output_type": "stream",
     "text": [
      "                                                                                \r"
     ]
    }
   ],
   "source": [
    "scaled_data_w2v.toPandas().to_csv('../data/features_data/bus_feature.csv', index=False)"
   ]
  },
  {
   "cell_type": "markdown",
   "metadata": {},
   "source": [
    "# 2.Subway"
   ]
  },
  {
   "cell_type": "markdown",
   "metadata": {},
   "source": [
    "## 2.1 Load data"
   ]
  },
  {
   "cell_type": "code",
   "execution_count": 19,
   "metadata": {},
   "outputs": [],
   "source": [
    "subway = spark.read.csv(\"../data/clean_data/subway_cleaned.csv\", inferSchema=True, header=True)\n"
   ]
  },
  {
   "cell_type": "code",
   "execution_count": 20,
   "metadata": {},
   "outputs": [
    {
     "data": {
      "text/html": [
       "<div>\n",
       "<style scoped>\n",
       "    .dataframe tbody tr th:only-of-type {\n",
       "        vertical-align: middle;\n",
       "    }\n",
       "\n",
       "    .dataframe tbody tr th {\n",
       "        vertical-align: top;\n",
       "    }\n",
       "\n",
       "    .dataframe thead th {\n",
       "        text-align: right;\n",
       "    }\n",
       "</style>\n",
       "<table border=\"1\" class=\"dataframe\">\n",
       "  <thead>\n",
       "    <tr style=\"text-align: right;\">\n",
       "      <th></th>\n",
       "      <th>day</th>\n",
       "      <th>station</th>\n",
       "      <th>code</th>\n",
       "      <th>min_delay</th>\n",
       "      <th>min_gap</th>\n",
       "      <th>bound</th>\n",
       "      <th>line</th>\n",
       "      <th>vehicle</th>\n",
       "      <th>day_month</th>\n",
       "      <th>month</th>\n",
       "      <th>hour</th>\n",
       "      <th>min</th>\n",
       "      <th>at_station</th>\n",
       "    </tr>\n",
       "  </thead>\n",
       "  <tbody>\n",
       "    <tr>\n",
       "      <th>0</th>\n",
       "      <td>Sunday</td>\n",
       "      <td>museum station</td>\n",
       "      <td>MUPAA</td>\n",
       "      <td>3</td>\n",
       "      <td>9</td>\n",
       "      <td>S</td>\n",
       "      <td>YU</td>\n",
       "      <td>5931</td>\n",
       "      <td>1</td>\n",
       "      <td>1</td>\n",
       "      <td>2</td>\n",
       "      <td>22</td>\n",
       "      <td>1</td>\n",
       "    </tr>\n",
       "    <tr>\n",
       "      <th>1</th>\n",
       "      <td>Sunday</td>\n",
       "      <td>vaughan mc station</td>\n",
       "      <td>TUNOA</td>\n",
       "      <td>6</td>\n",
       "      <td>12</td>\n",
       "      <td>S</td>\n",
       "      <td>YU</td>\n",
       "      <td>5451</td>\n",
       "      <td>1</td>\n",
       "      <td>1</td>\n",
       "      <td>8</td>\n",
       "      <td>2</td>\n",
       "      <td>1</td>\n",
       "    </tr>\n",
       "    <tr>\n",
       "      <th>2</th>\n",
       "      <td>Sunday</td>\n",
       "      <td>greenwood station</td>\n",
       "      <td>MUNOA</td>\n",
       "      <td>5</td>\n",
       "      <td>10</td>\n",
       "      <td>E</td>\n",
       "      <td>BD</td>\n",
       "      <td>0</td>\n",
       "      <td>1</td>\n",
       "      <td>1</td>\n",
       "      <td>8</td>\n",
       "      <td>11</td>\n",
       "      <td>1</td>\n",
       "    </tr>\n",
       "    <tr>\n",
       "      <th>3</th>\n",
       "      <td>Sunday</td>\n",
       "      <td>keele station</td>\n",
       "      <td>TUNOA</td>\n",
       "      <td>5</td>\n",
       "      <td>10</td>\n",
       "      <td>W</td>\n",
       "      <td>BD</td>\n",
       "      <td>0</td>\n",
       "      <td>1</td>\n",
       "      <td>1</td>\n",
       "      <td>8</td>\n",
       "      <td>15</td>\n",
       "      <td>1</td>\n",
       "    </tr>\n",
       "    <tr>\n",
       "      <th>4</th>\n",
       "      <td>Sunday</td>\n",
       "      <td>greenwood station</td>\n",
       "      <td>TUNOA</td>\n",
       "      <td>5</td>\n",
       "      <td>10</td>\n",
       "      <td>E</td>\n",
       "      <td>BD</td>\n",
       "      <td>0</td>\n",
       "      <td>1</td>\n",
       "      <td>1</td>\n",
       "      <td>8</td>\n",
       "      <td>16</td>\n",
       "      <td>1</td>\n",
       "    </tr>\n",
       "    <tr>\n",
       "      <th>...</th>\n",
       "      <td>...</td>\n",
       "      <td>...</td>\n",
       "      <td>...</td>\n",
       "      <td>...</td>\n",
       "      <td>...</td>\n",
       "      <td>...</td>\n",
       "      <td>...</td>\n",
       "      <td>...</td>\n",
       "      <td>...</td>\n",
       "      <td>...</td>\n",
       "      <td>...</td>\n",
       "      <td>...</td>\n",
       "      <td>...</td>\n",
       "    </tr>\n",
       "    <tr>\n",
       "      <th>7377</th>\n",
       "      <td>Thursday</td>\n",
       "      <td>glencairn station</td>\n",
       "      <td>SUUT</td>\n",
       "      <td>14</td>\n",
       "      <td>19</td>\n",
       "      <td>S</td>\n",
       "      <td>YU</td>\n",
       "      <td>5761</td>\n",
       "      <td>30</td>\n",
       "      <td>11</td>\n",
       "      <td>22</td>\n",
       "      <td>37</td>\n",
       "      <td>1</td>\n",
       "    </tr>\n",
       "    <tr>\n",
       "      <th>7378</th>\n",
       "      <td>Thursday</td>\n",
       "      <td>bloor yonge station</td>\n",
       "      <td>MUSAN</td>\n",
       "      <td>5</td>\n",
       "      <td>10</td>\n",
       "      <td>S</td>\n",
       "      <td>YU</td>\n",
       "      <td>5666</td>\n",
       "      <td>30</td>\n",
       "      <td>11</td>\n",
       "      <td>23</td>\n",
       "      <td>9</td>\n",
       "      <td>1</td>\n",
       "    </tr>\n",
       "    <tr>\n",
       "      <th>7379</th>\n",
       "      <td>Thursday</td>\n",
       "      <td>sheppard yonge station</td>\n",
       "      <td>MUATC</td>\n",
       "      <td>5</td>\n",
       "      <td>10</td>\n",
       "      <td>N</td>\n",
       "      <td>YU</td>\n",
       "      <td>6066</td>\n",
       "      <td>30</td>\n",
       "      <td>11</td>\n",
       "      <td>1</td>\n",
       "      <td>57</td>\n",
       "      <td>1</td>\n",
       "    </tr>\n",
       "    <tr>\n",
       "      <th>7380</th>\n",
       "      <td>Thursday</td>\n",
       "      <td>bessarion station</td>\n",
       "      <td>TUML</td>\n",
       "      <td>7</td>\n",
       "      <td>0</td>\n",
       "      <td>E</td>\n",
       "      <td>SHP</td>\n",
       "      <td>6186</td>\n",
       "      <td>30</td>\n",
       "      <td>11</td>\n",
       "      <td>6</td>\n",
       "      <td>29</td>\n",
       "      <td>1</td>\n",
       "    </tr>\n",
       "    <tr>\n",
       "      <th>7381</th>\n",
       "      <td>Thursday</td>\n",
       "      <td>leslie station</td>\n",
       "      <td>PUOPO</td>\n",
       "      <td>9</td>\n",
       "      <td>16</td>\n",
       "      <td>W</td>\n",
       "      <td>SHP</td>\n",
       "      <td>6181</td>\n",
       "      <td>30</td>\n",
       "      <td>11</td>\n",
       "      <td>7</td>\n",
       "      <td>39</td>\n",
       "      <td>1</td>\n",
       "    </tr>\n",
       "  </tbody>\n",
       "</table>\n",
       "<p>7382 rows × 13 columns</p>\n",
       "</div>"
      ],
      "text/plain": [
       "           day                 station   code  min_delay  min_gap bound line  \\\n",
       "0       Sunday          museum station  MUPAA          3        9     S   YU   \n",
       "1       Sunday      vaughan mc station  TUNOA          6       12     S   YU   \n",
       "2       Sunday       greenwood station  MUNOA          5       10     E   BD   \n",
       "3       Sunday           keele station  TUNOA          5       10     W   BD   \n",
       "4       Sunday       greenwood station  TUNOA          5       10     E   BD   \n",
       "...        ...                     ...    ...        ...      ...   ...  ...   \n",
       "7377  Thursday       glencairn station   SUUT         14       19     S   YU   \n",
       "7378  Thursday     bloor yonge station  MUSAN          5       10     S   YU   \n",
       "7379  Thursday  sheppard yonge station  MUATC          5       10     N   YU   \n",
       "7380  Thursday       bessarion station   TUML          7        0     E  SHP   \n",
       "7381  Thursday          leslie station  PUOPO          9       16     W  SHP   \n",
       "\n",
       "      vehicle  day_month  month  hour  min  at_station  \n",
       "0        5931          1      1     2   22           1  \n",
       "1        5451          1      1     8    2           1  \n",
       "2           0          1      1     8   11           1  \n",
       "3           0          1      1     8   15           1  \n",
       "4           0          1      1     8   16           1  \n",
       "...       ...        ...    ...   ...  ...         ...  \n",
       "7377     5761         30     11    22   37           1  \n",
       "7378     5666         30     11    23    9           1  \n",
       "7379     6066         30     11     1   57           1  \n",
       "7380     6186         30     11     6   29           1  \n",
       "7381     6181         30     11     7   39           1  \n",
       "\n",
       "[7382 rows x 13 columns]"
      ]
     },
     "execution_count": 20,
     "metadata": {},
     "output_type": "execute_result"
    }
   ],
   "source": [
    "subway_drop = subway.drop(\"date\", \"time\")\n",
    "subway_drop.toPandas()"
   ]
  },
  {
   "cell_type": "code",
   "execution_count": 21,
   "metadata": {},
   "outputs": [
    {
     "name": "stdout",
     "output_type": "stream",
     "text": [
      "<class 'pandas.core.frame.DataFrame'>\n",
      "RangeIndex: 7382 entries, 0 to 7381\n",
      "Data columns (total 13 columns):\n",
      " #   Column      Non-Null Count  Dtype \n",
      "---  ------      --------------  ----- \n",
      " 0   day         7382 non-null   object\n",
      " 1   station     7382 non-null   object\n",
      " 2   code        7382 non-null   object\n",
      " 3   min_delay   7382 non-null   int32 \n",
      " 4   min_gap     7382 non-null   int32 \n",
      " 5   bound       7382 non-null   object\n",
      " 6   line        7382 non-null   object\n",
      " 7   vehicle     7382 non-null   int32 \n",
      " 8   day_month   7382 non-null   int32 \n",
      " 9   month       7382 non-null   int32 \n",
      " 10  hour        7382 non-null   int32 \n",
      " 11  min         7382 non-null   int32 \n",
      " 12  at_station  7382 non-null   int32 \n",
      "dtypes: int32(8), object(5)\n",
      "memory usage: 519.2+ KB\n"
     ]
    }
   ],
   "source": [
    "subway_drop.toPandas().info()"
   ]
  },
  {
   "cell_type": "markdown",
   "metadata": {},
   "source": [
    "## 2.2 StringIndexer col categorical"
   ]
  },
  {
   "cell_type": "code",
   "execution_count": 22,
   "metadata": {},
   "outputs": [],
   "source": [
    "categorical_cols = [\"day\", \"code\", \"bound\", \"line\", \"station\"]"
   ]
  },
  {
   "cell_type": "code",
   "execution_count": 23,
   "metadata": {},
   "outputs": [],
   "source": [
    "indexed_data = subway_drop"
   ]
  },
  {
   "cell_type": "code",
   "execution_count": 24,
   "metadata": {},
   "outputs": [],
   "source": [
    "for col in categorical_cols:\n",
    "    string_indexer = StringIndexer(inputCol=col, outputCol=col + \"_indexed\")\n",
    "    indexed_data = string_indexer.fit(indexed_data).transform(indexed_data)"
   ]
  },
  {
   "cell_type": "markdown",
   "metadata": {},
   "source": [
    "## 2.3 W2v cal station"
   ]
  },
  {
   "cell_type": "code",
   "execution_count": 26,
   "metadata": {},
   "outputs": [
    {
     "name": "stdout",
     "output_type": "stream",
     "text": [
      "4\n"
     ]
    }
   ],
   "source": [
    "maxlen = max(len(s.split()) for s in indexed_data.toPandas()['station'])\n",
    "print(maxlen)"
   ]
  },
  {
   "cell_type": "code",
   "execution_count": 27,
   "metadata": {},
   "outputs": [],
   "source": [
    "tokenizer = Tokenizer(num_words=10000)\n",
    "tokenizer.fit_on_texts(indexed_data.toPandas()['station']) \n",
    "sequences = tokenizer.texts_to_sequences(indexed_data.toPandas()['station'])\n",
    "station_w2v = pad_sequences(sequences, maxlen=4) \n",
    "station_w2v_list = [x.tolist() for x in station_w2v]\n",
    "\n",
    "# Create the DataFrame\n",
    "station_w2v_df = spark.createDataFrame(station_w2v_list, ArrayType(IntegerType())).toDF(\"station_w2v\")\n",
    "\n",
    "indexed_data = indexed_data.withColumn(\"id\", f.monotonically_increasing_id())\n",
    "station_w2v_df = station_w2v_df.withColumn(\"id\", f.monotonically_increasing_id())\n",
    "indexed_data = indexed_data.join(station_w2v_df, \"id\").drop(\"id\")\n",
    "\n",
    "# indexed_data = indexed_data.withColumn('station_w2v', f.lit(station_w2v_list))"
   ]
  },
  {
   "cell_type": "code",
   "execution_count": 28,
   "metadata": {},
   "outputs": [
    {
     "name": "stdout",
     "output_type": "stream",
     "text": [
      "<class 'pandas.core.frame.DataFrame'>\n",
      "RangeIndex: 461 entries, 0 to 460\n",
      "Data columns (total 19 columns):\n",
      " #   Column           Non-Null Count  Dtype  \n",
      "---  ------           --------------  -----  \n",
      " 0   day              461 non-null    object \n",
      " 1   station          461 non-null    object \n",
      " 2   code             461 non-null    object \n",
      " 3   min_delay        461 non-null    int32  \n",
      " 4   min_gap          461 non-null    int32  \n",
      " 5   bound            461 non-null    object \n",
      " 6   line             461 non-null    object \n",
      " 7   vehicle          461 non-null    int32  \n",
      " 8   day_month        461 non-null    int32  \n",
      " 9   month            461 non-null    int32  \n",
      " 10  hour             461 non-null    int32  \n",
      " 11  min              461 non-null    int32  \n",
      " 12  at_station       461 non-null    int32  \n",
      " 13  day_indexed      461 non-null    float64\n",
      " 14  code_indexed     461 non-null    float64\n",
      " 15  bound_indexed    461 non-null    float64\n",
      " 16  line_indexed     461 non-null    float64\n",
      " 17  station_indexed  461 non-null    float64\n",
      " 18  station_w2v      461 non-null    object \n",
      "dtypes: float64(5), int32(8), object(6)\n",
      "memory usage: 54.1+ KB\n"
     ]
    }
   ],
   "source": [
    "indexed_data.toPandas().info()"
   ]
  },
  {
   "cell_type": "markdown",
   "metadata": {},
   "source": [
    "## 2.4 Vector and scala feature col"
   ]
  },
  {
   "cell_type": "code",
   "execution_count": 29,
   "metadata": {},
   "outputs": [],
   "source": [
    "feature_cols = [col for col, dtype in indexed_data.dtypes if dtype in [\"int\", \"bigint\", \"float\", \"double\"]]\n",
    "feature_cols.remove(\"min_delay\")\n",
    "# feature_cols.append(\"station_w2v\")\n",
    "\n"
   ]
  },
  {
   "cell_type": "code",
   "execution_count": 30,
   "metadata": {},
   "outputs": [],
   "source": [
    "# with location encoding\n",
    "vector_assembler = VectorAssembler(inputCols=feature_cols, outputCol=\"features\")\n",
    "assembled_data = vector_assembler.transform(indexed_data)\n",
    "\n",
    "scaler = MinMaxScaler(inputCol=\"features\", outputCol=\"scaled_features\")\n",
    "scaler_model = scaler.fit(assembled_data)\n",
    "scaled_data = scaler_model.transform(assembled_data)"
   ]
  },
  {
   "cell_type": "code",
   "execution_count": 31,
   "metadata": {},
   "outputs": [],
   "source": [
    "feature_cols.remove('station_indexed')"
   ]
  },
  {
   "cell_type": "code",
   "execution_count": 32,
   "metadata": {},
   "outputs": [],
   "source": [
    "# with location w2v\n",
    "list_to_vector_udf = udf(lambda l: Vectors.dense(l), VectorUDT())\n",
    "\n",
    "scaled_data = scaled_data.withColumn(\"station_w2v_vector\", list_to_vector_udf(\"station_w2v\"))\n",
    "\n",
    "feature_cols = [\"station_w2v_vector\"] + feature_cols\n",
    "vector_assembler = VectorAssembler(inputCols=feature_cols, outputCol=\"features_w2v\")\n",
    "assembled_data_w2v = vector_assembler.transform(scaled_data)"
   ]
  },
  {
   "cell_type": "code",
   "execution_count": 33,
   "metadata": {},
   "outputs": [
    {
     "name": "stderr",
     "output_type": "stream",
     "text": [
      "                                                                                \r"
     ]
    }
   ],
   "source": [
    "scaler = MinMaxScaler(inputCol=\"features_w2v\", outputCol=\"scaled_features_w2v\")\n",
    "scaler_model = scaler.fit(assembled_data_w2v)\n",
    "scaled_data_w2v = scaler_model.transform(assembled_data_w2v)"
   ]
  },
  {
   "cell_type": "markdown",
   "metadata": {},
   "source": [
    "## 2.6 Save data featured"
   ]
  },
  {
   "cell_type": "code",
   "execution_count": 34,
   "metadata": {},
   "outputs": [
    {
     "name": "stdout",
     "output_type": "stream",
     "text": [
      "<class 'pandas.core.frame.DataFrame'>\n",
      "RangeIndex: 461 entries, 0 to 460\n",
      "Data columns (total 24 columns):\n",
      " #   Column               Non-Null Count  Dtype  \n",
      "---  ------               --------------  -----  \n",
      " 0   day                  461 non-null    object \n",
      " 1   station              461 non-null    object \n",
      " 2   code                 461 non-null    object \n",
      " 3   min_delay            461 non-null    int32  \n",
      " 4   min_gap              461 non-null    int32  \n",
      " 5   bound                461 non-null    object \n",
      " 6   line                 461 non-null    object \n",
      " 7   vehicle              461 non-null    int32  \n",
      " 8   day_month            461 non-null    int32  \n",
      " 9   month                461 non-null    int32  \n",
      " 10  hour                 461 non-null    int32  \n",
      " 11  min                  461 non-null    int32  \n",
      " 12  at_station           461 non-null    int32  \n",
      " 13  day_indexed          461 non-null    float64\n",
      " 14  code_indexed         461 non-null    float64\n",
      " 15  bound_indexed        461 non-null    float64\n",
      " 16  line_indexed         461 non-null    float64\n",
      " 17  station_indexed      461 non-null    float64\n",
      " 18  station_w2v          461 non-null    object \n",
      " 19  features             461 non-null    object \n",
      " 20  scaled_features      461 non-null    object \n",
      " 21  station_w2v_vector   461 non-null    object \n",
      " 22  features_w2v         461 non-null    object \n",
      " 23  scaled_features_w2v  461 non-null    object \n",
      "dtypes: float64(5), int32(8), object(11)\n",
      "memory usage: 72.2+ KB\n"
     ]
    }
   ],
   "source": [
    "scaled_data_w2v.toPandas().info()"
   ]
  },
  {
   "cell_type": "code",
   "execution_count": 35,
   "metadata": {},
   "outputs": [],
   "source": [
    "scaled_data_w2v.toPandas().to_csv('../data/features_data/subway_feature.csv', index=False)"
   ]
  }
 ],
 "metadata": {
  "kernelspec": {
   "display_name": "Python 3",
   "language": "python",
   "name": "python3"
  },
  "language_info": {
   "codemirror_mode": {
    "name": "ipython",
    "version": 3
   },
   "file_extension": ".py",
   "mimetype": "text/x-python",
   "name": "python",
   "nbconvert_exporter": "python",
   "pygments_lexer": "ipython3",
   "version": "3.10.12"
  }
 },
 "nbformat": 4,
 "nbformat_minor": 2
}
