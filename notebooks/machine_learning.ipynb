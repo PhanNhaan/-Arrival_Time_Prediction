{
 "cells": [
  {
   "cell_type": "code",
   "execution_count": 37,
   "metadata": {},
   "outputs": [],
   "source": [
    "# %pip install pyspark -qq"
   ]
  },
  {
   "cell_type": "code",
   "execution_count": 38,
   "metadata": {},
   "outputs": [],
   "source": [
    "import numpy as np\n",
    "from pyspark.sql import SparkSession\n",
    "from pyspark.sql import functions as f\n",
    "from pyspark.sql.types import *\n",
    "\n",
    "from pyspark.ml.linalg import Vectors, VectorUDT\n",
    "from pyspark.sql.functions import udf\n",
    "import ast\n",
    "from pyspark.ml.tuning import ParamGridBuilder, CrossValidator\n",
    "\n",
    "from pyspark.ml.feature import VectorAssembler, StringIndexer, MinMaxScaler\n",
    "from pyspark.ml.evaluation import RegressionEvaluator\n",
    "from pyspark.ml.regression import LinearRegression, DecisionTreeRegressor, RandomForestRegressor, GBTRegressor"
   ]
  },
  {
   "cell_type": "code",
   "execution_count": 39,
   "metadata": {},
   "outputs": [],
   "source": [
    "# Khởi tạo Spark Session\n",
    "# spark = SparkSession.builder.appName(\"kafka\").getOrCreate()\n",
    "# sc = spark.sparkContext\n",
    "\n",
    "\n",
    "spark = SparkSession.builder \\\n",
    "    .appName(\"YourApp\") \\\n",
    "    .config(\"spark.executor.memory\", \"4g\") \\\n",
    "    .config(\"spark.driver.memory\", \"4g\") \\\n",
    "    .getOrCreate()"
   ]
  },
  {
   "cell_type": "code",
   "execution_count": 40,
   "metadata": {},
   "outputs": [],
   "source": [
    "def evaluator(predictions):\n",
    "    # Tạo RegressionEvaluator\n",
    "    evaluator = RegressionEvaluator(predictionCol=\"prediction\", labelCol=\"min_delay\", metricName=\"mse\")\n",
    "    mse = evaluator.evaluate(predictions)\n",
    "\n",
    "    evaluator.setMetricName(\"rmse\")\n",
    "    rmse = evaluator.evaluate(predictions)\n",
    "\n",
    "    evaluator.setMetricName(\"mae\")\n",
    "    mae = evaluator.evaluate(predictions)\n",
    "\n",
    "    evaluator.setMetricName(\"r2\")\n",
    "    r2 = evaluator.evaluate(predictions)\n",
    "\n",
    "    # In ra các chỉ số đánh giá\n",
    "    print(\"MSE:\", mse)\n",
    "    print(\"RMSE:\",rmse)\n",
    "    print(\"MAE:\", mae)\n",
    "    print(\"R-squared:\",r2)"
   ]
  },
  {
   "cell_type": "markdown",
   "metadata": {},
   "source": [
    "# 1. Bus"
   ]
  },
  {
   "cell_type": "code",
   "execution_count": 41,
   "metadata": {},
   "outputs": [
    {
     "name": "stdout",
     "output_type": "stream",
     "text": [
      "<class 'pandas.core.frame.DataFrame'>\n",
      "RangeIndex: 49051 entries, 0 to 49050\n",
      "Data columns (total 23 columns):\n",
      " #   Column             Non-Null Count  Dtype         \n",
      "---  ------             --------------  -----         \n",
      " 0   date               49051 non-null  object        \n",
      " 1   route              49051 non-null  int32         \n",
      " 2   time               49051 non-null  datetime64[ns]\n",
      " 3   day                49051 non-null  object        \n",
      " 4   location           49051 non-null  object        \n",
      " 5   incident           49051 non-null  object        \n",
      " 6   min_delay          49051 non-null  int32         \n",
      " 7   min_gap            49051 non-null  int32         \n",
      " 8   direction          49051 non-null  object        \n",
      " 9   vehicle            49051 non-null  int32         \n",
      " 10  day_month          49051 non-null  int32         \n",
      " 11  month              49051 non-null  int32         \n",
      " 12  hour               49051 non-null  int32         \n",
      " 13  min                49051 non-null  int32         \n",
      " 14  day_indexed        49051 non-null  int32         \n",
      " 15  incident_indexed   49051 non-null  int32         \n",
      " 16  direction_indexed  49051 non-null  int32         \n",
      " 17  location_indexed   49051 non-null  int32         \n",
      " 18  location_w2v       49051 non-null  object        \n",
      " 19  features           49051 non-null  object        \n",
      " 20  scaled             49051 non-null  object        \n",
      " 21  features_index     49051 non-null  object        \n",
      " 22  scaled_index       49051 non-null  object        \n",
      "dtypes: datetime64[ns](1), int32(12), object(10)\n",
      "memory usage: 6.4+ MB\n"
     ]
    }
   ],
   "source": [
    "bus = spark.read.csv(\"../data/features_data/bus_feature_pd.csv\", inferSchema=True, header=True)\n",
    "bus.toPandas().info()"
   ]
  },
  {
   "cell_type": "code",
   "execution_count": 42,
   "metadata": {},
   "outputs": [],
   "source": [
    "string_to_list_udf = udf(lambda s: ast.literal_eval(s), ArrayType(FloatType()))\n",
    "\n",
    "bus = bus.withColumn(\"scaled_features_list\", string_to_list_udf(\"scaled\"))\n",
    "\n",
    "list_to_vector_udf = udf(lambda l: Vectors.dense(l), VectorUDT())\n",
    "\n",
    "bus = bus.withColumn(\"scaled_features_vector\", list_to_vector_udf(\"scaled_features_list\"))"
   ]
  },
  {
   "cell_type": "code",
   "execution_count": 43,
   "metadata": {},
   "outputs": [],
   "source": [
    "train_data, dev_data, test_data = bus.randomSplit([0.7, 0.15, 0.15], seed=42)"
   ]
  },
  {
   "cell_type": "code",
   "execution_count": 44,
   "metadata": {},
   "outputs": [
    {
     "data": {
      "text/plain": [
       "DataFrame[date: date, route: int, time: timestamp, day: string, location: string, incident: string, min_delay: int, min_gap: int, direction: string, vehicle: int, day_month: int, month: int, hour: int, min: int, day_indexed: int, incident_indexed: int, direction_indexed: int, location_indexed: int, location_w2v: string, features: string, scaled: string, features_index: string, scaled_index: string, scaled_features_list: array<float>, scaled_features_vector: vector]"
      ]
     },
     "execution_count": 44,
     "metadata": {},
     "output_type": "execute_result"
    }
   ],
   "source": [
    "train_data"
   ]
  },
  {
   "cell_type": "markdown",
   "metadata": {},
   "source": [
    "### 1.2 Ridge regression"
   ]
  },
  {
   "cell_type": "code",
   "execution_count": 12,
   "metadata": {},
   "outputs": [
    {
     "name": "stderr",
     "output_type": "stream",
     "text": [
      "24/06/28 22:44:59 WARN SparkStringUtils: Truncated the string representation of a plan since it was too large. This behavior can be adjusted by setting 'spark.sql.debug.maxToStringFields'.\n",
      "                                                                                \r"
     ]
    }
   ],
   "source": [
    "# # Tạo một mô hình\n",
    "# model = LinearRegression(featuresCol=\"scaled_features_vector\", labelCol=\"min_delay\", elasticNetParam=0.0)\n",
    "\n",
    "# # Tạo một ParamGridBuilder\n",
    "# param_grid = ParamGridBuilder() \\\n",
    "#     .addGrid(model.regParam, [0.1, 0.01, 0.001]) \\\n",
    "#     .build()\n",
    "\n",
    "# # Tạo một CrossValidator\n",
    "# crossval = CrossValidator(estimator=model,\n",
    "#                           estimatorParamMaps=param_grid,\n",
    "#                           evaluator=RegressionEvaluator(metricName=\"rmse\", labelCol=\"min_delay\"),\n",
    "#                           numFolds=3)\n",
    "\n",
    "# fitModel = crossval.fit(dev_data)\n",
    "\n",
    "# best_model = fitModel.bestModel\n",
    "\n",
    "# print(\"regParam:\", best_model.getOrDefault(\"regParam\"))"
   ]
  },
  {
   "cell_type": "code",
   "execution_count": 45,
   "metadata": {},
   "outputs": [
    {
     "name": "stderr",
     "output_type": "stream",
     "text": [
      "                                                                                \r"
     ]
    }
   ],
   "source": [
    "# Tạo một mô hình Ridge Regression\n",
    "ridge = LinearRegression(featuresCol=\"scaled_features_vector\", labelCol=\"min_delay\", elasticNetParam=0.0, regParam=0.001)\n",
    "# ridge = fitModel.bestModel\n",
    "ridge_model = ridge.fit(train_data)\n"
   ]
  },
  {
   "cell_type": "code",
   "execution_count": 46,
   "metadata": {},
   "outputs": [
    {
     "name": "stderr",
     "output_type": "stream",
     "text": [
      "                                                                                \r"
     ]
    },
    {
     "name": "stdout",
     "output_type": "stream",
     "text": [
      "MSE: 16.603038100324348\n",
      "RMSE: 4.074682576633958\n",
      "MAE: 1.7349701565562081\n",
      "R-squared: 0.7981149544162256\n"
     ]
    },
    {
     "name": "stderr",
     "output_type": "stream",
     "text": [
      "                                                                                \r"
     ]
    }
   ],
   "source": [
    "ridge_predictions = ridge_model.transform(test_data)\n",
    "evaluator(ridge_predictions)"
   ]
  },
  {
   "cell_type": "code",
   "execution_count": 22,
   "metadata": {},
   "outputs": [],
   "source": [
    "# MSE: 17.144832245575387\n",
    "# RMSE: 4.140631865497751\n",
    "# MAE: 1.7613354508365346\n",
    "# R-squared: 0.7890555745043117"
   ]
  },
  {
   "cell_type": "markdown",
   "metadata": {},
   "source": [
    "### decision trees"
   ]
  },
  {
   "cell_type": "code",
   "execution_count": 20,
   "metadata": {},
   "outputs": [
    {
     "name": "stderr",
     "output_type": "stream",
     "text": [
      "24/06/28 22:47:51 WARN CacheManager: Asked to cache already cached data.\n",
      "24/06/28 22:47:51 WARN CacheManager: Asked to cache already cached data.\n",
      "[Stage 1443:======>                                                 (1 + 8) / 9]\r"
     ]
    },
    {
     "name": "stdout",
     "output_type": "stream",
     "text": [
      "maxDepth: 5\n",
      "maxBins: 128\n"
     ]
    },
    {
     "name": "stderr",
     "output_type": "stream",
     "text": [
      "                                                                                \r"
     ]
    }
   ],
   "source": [
    "# # Tạo một mô hình\n",
    "# model = DecisionTreeRegressor(featuresCol=\"scaled_features_vector\", labelCol=\"min_delay\")\n",
    "\n",
    "# # Tạo một ParamGridBuilder\n",
    "# param_grid = ParamGridBuilder() \\\n",
    "#             .addGrid(model.maxDepth, [2, 5, 10, 20, 30]) \\\n",
    "#             .addGrid(model.maxBins, [32, 64, 128]) \\\n",
    "#             .build()\n",
    "\n",
    "# # Tạo một CrossValidator\n",
    "# crossval = CrossValidator(estimator=model,\n",
    "#                           estimatorParamMaps=param_grid,\n",
    "#                           evaluator=RegressionEvaluator(metricName=\"rmse\", labelCol=\"min_delay\"),\n",
    "#                           numFolds=3)\n",
    "\n",
    "# fitModel = crossval.fit(dev_data)\n",
    "\n",
    "# best_model = fitModel.bestModel\n",
    "\n",
    "# print(\"maxDepth:\", best_model.getOrDefault(\"maxDepth\"))\n",
    "# print(\"maxBins:\", best_model.getOrDefault(\"maxBins\"))"
   ]
  },
  {
   "cell_type": "code",
   "execution_count": 47,
   "metadata": {},
   "outputs": [
    {
     "name": "stderr",
     "output_type": "stream",
     "text": [
      "                                                                                \r"
     ]
    }
   ],
   "source": [
    "decision_tree = DecisionTreeRegressor(featuresCol=\"scaled_features_vector\", labelCol=\"min_delay\", maxDepth=5, maxBins=128)\n",
    "decision_tree_model = decision_tree.fit(train_data)"
   ]
  },
  {
   "cell_type": "code",
   "execution_count": 48,
   "metadata": {},
   "outputs": [
    {
     "name": "stderr",
     "output_type": "stream",
     "text": [
      "[Stage 1475:======>                                                 (1 + 8) / 9]\r"
     ]
    },
    {
     "name": "stdout",
     "output_type": "stream",
     "text": [
      "MSE: 11.240706612913698\n",
      "RMSE: 3.352716303672844\n",
      "MAE: 1.2377103149265793\n",
      "R-squared: 0.8633183545547857\n"
     ]
    },
    {
     "name": "stderr",
     "output_type": "stream",
     "text": [
      "                                                                                \r"
     ]
    }
   ],
   "source": [
    "decision_tree_predictions = decision_tree_model.transform(test_data)\n",
    "evaluator(decision_tree_predictions)"
   ]
  },
  {
   "cell_type": "code",
   "execution_count": null,
   "metadata": {},
   "outputs": [],
   "source": [
    "# MSE: 11.149358988243241\n",
    "# RMSE: 3.3390655860948946\n",
    "# MAE: 1.1966344948117174\n",
    "# R-squared: 0.8628219225051258"
   ]
  },
  {
   "cell_type": "markdown",
   "metadata": {},
   "source": [
    "### random forests"
   ]
  },
  {
   "cell_type": "code",
   "execution_count": 9,
   "metadata": {},
   "outputs": [
    {
     "name": "stderr",
     "output_type": "stream",
     "text": [
      "24/06/28 22:54:06 WARN SparkStringUtils: Truncated the string representation of a plan since it was too large. This behavior can be adjusted by setting 'spark.sql.debug.maxToStringFields'.\n",
      "24/06/28 22:54:21 WARN DAGScheduler: Broadcasting large task binary with size 1077.7 KiB\n",
      "24/06/28 22:54:21 WARN DAGScheduler: Broadcasting large task binary with size 1521.0 KiB\n",
      "24/06/28 22:54:22 WARN DAGScheduler: Broadcasting large task binary with size 1018.7 KiB\n",
      "24/06/28 22:54:22 WARN DAGScheduler: Broadcasting large task binary with size 1546.7 KiB\n",
      "24/06/28 22:54:23 WARN DAGScheduler: Broadcasting large task binary with size 2.2 MiB\n",
      "24/06/28 22:54:25 WARN DAGScheduler: Broadcasting large task binary with size 1014.3 KiB\n",
      "24/06/28 22:54:26 WARN DAGScheduler: Broadcasting large task binary with size 1420.5 KiB\n",
      "24/06/28 22:54:27 WARN DAGScheduler: Broadcasting large task binary with size 1479.4 KiB\n",
      "24/06/28 22:54:28 WARN DAGScheduler: Broadcasting large task binary with size 2.1 MiB\n",
      "24/06/28 22:54:31 WARN DAGScheduler: Broadcasting large task binary with size 1377.3 KiB\n",
      "24/06/28 22:54:33 WARN DAGScheduler: Broadcasting large task binary with size 1451.0 KiB\n",
      "24/06/28 22:54:33 WARN DAGScheduler: Broadcasting large task binary with size 2.0 MiB\n",
      "24/06/28 22:54:35 WARN DAGScheduler: Broadcasting large task binary with size 1048.8 KiB\n",
      "24/06/28 22:54:35 WARN DAGScheduler: Broadcasting large task binary with size 1315.3 KiB\n",
      "24/06/28 22:54:35 WARN DAGScheduler: Broadcasting large task binary with size 1571.5 KiB\n",
      "24/06/28 22:54:36 WARN DAGScheduler: Broadcasting large task binary with size 1806.8 KiB\n",
      "24/06/28 22:54:36 WARN DAGScheduler: Broadcasting large task binary with size 1998.8 KiB\n",
      "24/06/28 22:54:37 WARN DAGScheduler: Broadcasting large task binary with size 1077.7 KiB\n",
      "24/06/28 22:54:37 WARN DAGScheduler: Broadcasting large task binary with size 1521.0 KiB\n",
      "24/06/28 22:54:38 WARN DAGScheduler: Broadcasting large task binary with size 2024.3 KiB\n",
      "24/06/28 22:54:38 WARN DAGScheduler: Broadcasting large task binary with size 2.5 MiB\n",
      "24/06/28 22:54:38 WARN DAGScheduler: Broadcasting large task binary with size 3.0 MiB\n",
      "24/06/28 22:54:39 WARN DAGScheduler: Broadcasting large task binary with size 3.4 MiB\n",
      "24/06/28 22:54:39 WARN DAGScheduler: Broadcasting large task binary with size 3.7 MiB\n",
      "24/06/28 22:54:41 WARN DAGScheduler: Broadcasting large task binary with size 1018.7 KiB\n",
      "24/06/28 22:54:41 WARN DAGScheduler: Broadcasting large task binary with size 1546.7 KiB\n",
      "24/06/28 22:54:41 WARN DAGScheduler: Broadcasting large task binary with size 2.2 MiB\n",
      "24/06/28 22:54:41 WARN DAGScheduler: Broadcasting large task binary with size 2.9 MiB\n",
      "24/06/28 22:54:42 WARN DAGScheduler: Broadcasting large task binary with size 3.7 MiB\n",
      "24/06/28 22:54:43 WARN DAGScheduler: Broadcasting large task binary with size 4.5 MiB\n",
      "24/06/28 22:54:43 WARN DAGScheduler: Broadcasting large task binary with size 5.1 MiB\n",
      "24/06/28 22:54:44 WARN DAGScheduler: Broadcasting large task binary with size 5.7 MiB\n",
      "24/06/28 22:54:46 WARN DAGScheduler: Broadcasting large task binary with size 1222.2 KiB\n",
      "24/06/28 22:54:46 WARN DAGScheduler: Broadcasting large task binary with size 1467.4 KiB\n",
      "24/06/28 22:54:46 WARN DAGScheduler: Broadcasting large task binary with size 1687.7 KiB\n",
      "24/06/28 22:54:47 WARN DAGScheduler: Broadcasting large task binary with size 1870.9 KiB\n",
      "24/06/28 22:54:48 WARN DAGScheduler: Broadcasting large task binary with size 1014.3 KiB\n",
      "24/06/28 22:54:48 WARN DAGScheduler: Broadcasting large task binary with size 1420.5 KiB\n",
      "24/06/28 22:54:48 WARN DAGScheduler: Broadcasting large task binary with size 1887.2 KiB\n",
      "24/06/28 22:54:49 WARN DAGScheduler: Broadcasting large task binary with size 2.3 MiB\n",
      "24/06/28 22:54:49 WARN DAGScheduler: Broadcasting large task binary with size 2.8 MiB\n",
      "24/06/28 22:54:50 WARN DAGScheduler: Broadcasting large task binary with size 3.2 MiB\n",
      "24/06/28 22:54:50 WARN DAGScheduler: Broadcasting large task binary with size 3.5 MiB\n",
      "24/06/28 22:54:52 WARN DAGScheduler: Broadcasting large task binary with size 1479.4 KiB\n",
      "24/06/28 22:54:52 WARN DAGScheduler: Broadcasting large task binary with size 2.1 MiB\n",
      "24/06/28 22:54:53 WARN DAGScheduler: Broadcasting large task binary with size 2.8 MiB\n",
      "24/06/28 22:54:53 WARN DAGScheduler: Broadcasting large task binary with size 3.5 MiB\n",
      "24/06/28 22:54:54 WARN DAGScheduler: Broadcasting large task binary with size 4.2 MiB\n",
      "24/06/28 22:54:55 WARN DAGScheduler: Broadcasting large task binary with size 4.8 MiB\n",
      "24/06/28 22:54:55 WARN DAGScheduler: Broadcasting large task binary with size 5.4 MiB\n",
      "24/06/28 22:54:58 WARN DAGScheduler: Broadcasting large task binary with size 1223.1 KiB\n",
      "24/06/28 22:54:58 WARN DAGScheduler: Broadcasting large task binary with size 1454.7 KiB\n",
      "24/06/28 22:54:58 WARN DAGScheduler: Broadcasting large task binary with size 1657.1 KiB\n",
      "24/06/28 22:54:59 WARN DAGScheduler: Broadcasting large task binary with size 1825.1 KiB\n",
      "24/06/28 22:55:00 WARN DAGScheduler: Broadcasting large task binary with size 1377.3 KiB\n",
      "24/06/28 22:55:01 WARN DAGScheduler: Broadcasting large task binary with size 1818.2 KiB\n",
      "24/06/28 22:55:01 WARN DAGScheduler: Broadcasting large task binary with size 2.2 MiB\n",
      "24/06/28 22:55:02 WARN DAGScheduler: Broadcasting large task binary with size 2.7 MiB\n",
      "24/06/28 22:55:02 WARN DAGScheduler: Broadcasting large task binary with size 3.0 MiB\n",
      "24/06/28 22:55:03 WARN DAGScheduler: Broadcasting large task binary with size 3.4 MiB\n",
      "24/06/28 22:55:05 WARN DAGScheduler: Broadcasting large task binary with size 1451.0 KiB\n",
      "24/06/28 22:55:05 WARN DAGScheduler: Broadcasting large task binary with size 2.0 MiB\n",
      "24/06/28 22:55:06 WARN DAGScheduler: Broadcasting large task binary with size 2.7 MiB\n",
      "24/06/28 22:55:07 WARN DAGScheduler: Broadcasting large task binary with size 3.4 MiB\n",
      "24/06/28 22:55:08 WARN DAGScheduler: Broadcasting large task binary with size 4.1 MiB\n",
      "24/06/28 22:55:08 WARN DAGScheduler: Broadcasting large task binary with size 4.7 MiB\n",
      "24/06/28 22:55:09 WARN DAGScheduler: Broadcasting large task binary with size 5.2 MiB\n",
      "24/06/28 22:55:19 WARN DAGScheduler: Broadcasting large task binary with size 1077.9 KiB\n",
      "24/06/28 22:55:19 WARN DAGScheduler: Broadcasting large task binary with size 1523.0 KiB\n",
      "24/06/28 22:55:21 WARN DAGScheduler: Broadcasting large task binary with size 1493.5 KiB\n",
      "24/06/28 22:55:21 WARN DAGScheduler: Broadcasting large task binary with size 2.1 MiB\n",
      "24/06/28 22:55:24 WARN DAGScheduler: Broadcasting large task binary with size 1380.7 KiB\n",
      "24/06/28 22:55:25 WARN DAGScheduler: Broadcasting large task binary with size 1397.5 KiB\n",
      "24/06/28 22:55:26 WARN DAGScheduler: Broadcasting large task binary with size 1973.2 KiB\n",
      "24/06/28 22:55:28 WARN DAGScheduler: Broadcasting large task binary with size 1323.6 KiB\n",
      "24/06/28 22:55:30 WARN DAGScheduler: Broadcasting large task binary with size 1380.7 KiB\n",
      "24/06/28 22:55:31 WARN DAGScheduler: Broadcasting large task binary with size 1956.0 KiB\n",
      "24/06/28 22:55:32 WARN DAGScheduler: Broadcasting large task binary with size 1024.6 KiB\n",
      "24/06/28 22:55:32 WARN DAGScheduler: Broadcasting large task binary with size 1284.0 KiB\n",
      "24/06/28 22:55:33 WARN DAGScheduler: Broadcasting large task binary with size 1548.9 KiB\n",
      "24/06/28 22:55:33 WARN DAGScheduler: Broadcasting large task binary with size 1790.0 KiB\n",
      "24/06/28 22:55:33 WARN DAGScheduler: Broadcasting large task binary with size 1989.5 KiB\n",
      "24/06/28 22:55:34 WARN DAGScheduler: Broadcasting large task binary with size 1077.9 KiB\n",
      "24/06/28 22:55:34 WARN DAGScheduler: Broadcasting large task binary with size 1523.0 KiB\n",
      "24/06/28 22:55:34 WARN DAGScheduler: Broadcasting large task binary with size 2027.1 KiB\n",
      "24/06/28 22:55:35 WARN DAGScheduler: Broadcasting large task binary with size 2.5 MiB\n",
      "24/06/28 22:55:35 WARN DAGScheduler: Broadcasting large task binary with size 3.0 MiB\n",
      "24/06/28 22:55:35 WARN DAGScheduler: Broadcasting large task binary with size 3.4 MiB\n",
      "24/06/28 22:55:36 WARN DAGScheduler: Broadcasting large task binary with size 3.7 MiB\n",
      "24/06/28 22:55:37 WARN DAGScheduler: Broadcasting large task binary with size 1493.5 KiB\n",
      "24/06/28 22:55:37 WARN DAGScheduler: Broadcasting large task binary with size 2.1 MiB\n",
      "24/06/28 22:55:38 WARN DAGScheduler: Broadcasting large task binary with size 2.8 MiB\n",
      "24/06/28 22:55:38 WARN DAGScheduler: Broadcasting large task binary with size 3.5 MiB\n",
      "24/06/28 22:55:39 WARN DAGScheduler: Broadcasting large task binary with size 4.3 MiB\n",
      "24/06/28 22:55:40 WARN DAGScheduler: Broadcasting large task binary with size 4.9 MiB\n",
      "24/06/28 22:55:40 WARN DAGScheduler: Broadcasting large task binary with size 5.4 MiB\n",
      "24/06/28 22:55:42 WARN DAGScheduler: Broadcasting large task binary with size 1206.7 KiB\n",
      "24/06/28 22:55:42 WARN DAGScheduler: Broadcasting large task binary with size 1443.3 KiB\n",
      "24/06/28 22:55:42 WARN DAGScheduler: Broadcasting large task binary with size 1664.4 KiB\n",
      "24/06/28 22:55:43 WARN DAGScheduler: Broadcasting large task binary with size 1852.6 KiB\n",
      "24/06/28 22:55:44 WARN DAGScheduler: Broadcasting large task binary with size 1380.7 KiB\n",
      "24/06/28 22:55:44 WARN DAGScheduler: Broadcasting large task binary with size 1820.9 KiB\n",
      "24/06/28 22:55:45 WARN DAGScheduler: Broadcasting large task binary with size 2.2 MiB\n",
      "24/06/28 22:55:45 WARN DAGScheduler: Broadcasting large task binary with size 2.7 MiB\n",
      "24/06/28 22:55:45 WARN DAGScheduler: Broadcasting large task binary with size 3.0 MiB\n",
      "24/06/28 22:55:46 WARN DAGScheduler: Broadcasting large task binary with size 3.4 MiB\n",
      "24/06/28 22:55:47 WARN DAGScheduler: Broadcasting large task binary with size 1397.5 KiB\n",
      "24/06/28 22:55:47 WARN DAGScheduler: Broadcasting large task binary with size 1973.2 KiB\n",
      "24/06/28 22:55:48 WARN DAGScheduler: Broadcasting large task binary with size 2.6 MiB\n",
      "24/06/28 22:55:49 WARN DAGScheduler: Broadcasting large task binary with size 3.3 MiB\n",
      "24/06/28 22:55:49 WARN DAGScheduler: Broadcasting large task binary with size 4.0 MiB\n",
      "24/06/28 22:55:50 WARN DAGScheduler: Broadcasting large task binary with size 4.6 MiB\n",
      "24/06/28 22:55:50 WARN DAGScheduler: Broadcasting large task binary with size 5.1 MiB\n",
      "24/06/28 22:55:52 WARN DAGScheduler: Broadcasting large task binary with size 1218.8 KiB\n",
      "24/06/28 22:55:52 WARN DAGScheduler: Broadcasting large task binary with size 1446.6 KiB\n",
      "24/06/28 22:55:53 WARN DAGScheduler: Broadcasting large task binary with size 1656.6 KiB\n",
      "24/06/28 22:55:53 WARN DAGScheduler: Broadcasting large task binary with size 1835.6 KiB\n",
      "24/06/28 22:55:54 WARN DAGScheduler: Broadcasting large task binary with size 1323.6 KiB\n",
      "24/06/28 22:55:55 WARN DAGScheduler: Broadcasting large task binary with size 1749.5 KiB\n",
      "24/06/28 22:55:55 WARN DAGScheduler: Broadcasting large task binary with size 2.2 MiB\n",
      "24/06/28 22:55:56 WARN DAGScheduler: Broadcasting large task binary with size 2.6 MiB\n",
      "24/06/28 22:55:56 WARN DAGScheduler: Broadcasting large task binary with size 3.0 MiB\n",
      "24/06/28 22:55:56 WARN DAGScheduler: Broadcasting large task binary with size 3.3 MiB\n",
      "24/06/28 22:55:58 WARN DAGScheduler: Broadcasting large task binary with size 1380.7 KiB\n",
      "24/06/28 22:55:59 WARN DAGScheduler: Broadcasting large task binary with size 1956.0 KiB\n",
      "24/06/28 22:55:59 WARN DAGScheduler: Broadcasting large task binary with size 2.6 MiB\n",
      "24/06/28 22:56:00 WARN DAGScheduler: Broadcasting large task binary with size 3.2 MiB\n",
      "24/06/28 22:56:01 WARN DAGScheduler: Broadcasting large task binary with size 3.9 MiB\n",
      "24/06/28 22:56:01 WARN DAGScheduler: Broadcasting large task binary with size 4.5 MiB\n",
      "24/06/28 22:56:02 WARN DAGScheduler: Broadcasting large task binary with size 5.0 MiB\n",
      "24/06/28 22:56:11 WARN DAGScheduler: Broadcasting large task binary with size 1096.5 KiB\n",
      "24/06/28 22:56:11 WARN DAGScheduler: Broadcasting large task binary with size 1552.1 KiB\n",
      "24/06/28 22:56:12 WARN DAGScheduler: Broadcasting large task binary with size 1011.9 KiB\n",
      "24/06/28 22:56:13 WARN DAGScheduler: Broadcasting large task binary with size 1537.9 KiB\n",
      "24/06/28 22:56:13 WARN DAGScheduler: Broadcasting large task binary with size 2.2 MiB\n",
      "24/06/28 22:56:16 WARN DAGScheduler: Broadcasting large task binary with size 1049.6 KiB\n",
      "24/06/28 22:56:16 WARN DAGScheduler: Broadcasting large task binary with size 1474.4 KiB\n",
      "24/06/28 22:56:17 WARN DAGScheduler: Broadcasting large task binary with size 1454.1 KiB\n",
      "24/06/28 22:56:18 WARN DAGScheduler: Broadcasting large task binary with size 2.0 MiB\n",
      "24/06/28 22:56:20 WARN DAGScheduler: Broadcasting large task binary with size 1023.3 KiB\n",
      "24/06/28 22:56:21 WARN DAGScheduler: Broadcasting large task binary with size 1425.8 KiB\n",
      "24/06/28 22:56:23 WARN DAGScheduler: Broadcasting large task binary with size 1400.3 KiB\n",
      "24/06/28 22:56:23 WARN DAGScheduler: Broadcasting large task binary with size 1983.5 KiB\n",
      "24/06/28 22:56:25 WARN DAGScheduler: Broadcasting large task binary with size 1070.3 KiB\n",
      "24/06/28 22:56:25 WARN DAGScheduler: Broadcasting large task binary with size 1340.8 KiB\n",
      "24/06/28 22:56:25 WARN DAGScheduler: Broadcasting large task binary with size 1598.0 KiB\n",
      "24/06/28 22:56:25 WARN DAGScheduler: Broadcasting large task binary with size 1822.0 KiB\n",
      "24/06/28 22:56:26 WARN DAGScheduler: Broadcasting large task binary with size 1996.8 KiB\n",
      "24/06/28 22:56:27 WARN DAGScheduler: Broadcasting large task binary with size 1096.5 KiB\n",
      "24/06/28 22:56:27 WARN DAGScheduler: Broadcasting large task binary with size 1552.1 KiB\n",
      "24/06/28 22:56:27 WARN DAGScheduler: Broadcasting large task binary with size 2.0 MiB\n",
      "24/06/28 22:56:27 WARN DAGScheduler: Broadcasting large task binary with size 2.5 MiB\n",
      "24/06/28 22:56:28 WARN DAGScheduler: Broadcasting large task binary with size 3.0 MiB\n",
      "24/06/28 22:56:28 WARN DAGScheduler: Broadcasting large task binary with size 3.5 MiB\n",
      "24/06/28 22:56:28 WARN DAGScheduler: Broadcasting large task binary with size 3.8 MiB\n",
      "24/06/28 22:56:30 WARN DAGScheduler: Broadcasting large task binary with size 1011.9 KiB\n",
      "24/06/28 22:56:30 WARN DAGScheduler: Broadcasting large task binary with size 1537.9 KiB\n",
      "24/06/28 22:56:30 WARN DAGScheduler: Broadcasting large task binary with size 2.2 MiB\n",
      "24/06/28 22:56:31 WARN DAGScheduler: Broadcasting large task binary with size 2.9 MiB\n",
      "24/06/28 22:56:31 WARN DAGScheduler: Broadcasting large task binary with size 3.7 MiB\n",
      "24/06/28 22:56:32 WARN DAGScheduler: Broadcasting large task binary with size 4.4 MiB\n",
      "24/06/28 22:56:32 WARN DAGScheduler: Broadcasting large task binary with size 5.1 MiB\n",
      "24/06/28 22:56:33 WARN DAGScheduler: Broadcasting large task binary with size 5.6 MiB\n",
      "24/06/28 22:56:35 WARN DAGScheduler: Broadcasting large task binary with size 1022.2 KiB\n",
      "24/06/28 22:56:35 WARN DAGScheduler: Broadcasting large task binary with size 1277.9 KiB\n",
      "24/06/28 22:56:35 WARN DAGScheduler: Broadcasting large task binary with size 1526.0 KiB\n",
      "24/06/28 22:56:35 WARN DAGScheduler: Broadcasting large task binary with size 1745.2 KiB\n",
      "24/06/28 22:56:35 WARN DAGScheduler: Broadcasting large task binary with size 1925.4 KiB\n",
      "24/06/28 22:56:37 WARN DAGScheduler: Broadcasting large task binary with size 1049.6 KiB\n",
      "24/06/28 22:56:37 WARN DAGScheduler: Broadcasting large task binary with size 1474.4 KiB\n",
      "24/06/28 22:56:37 WARN DAGScheduler: Broadcasting large task binary with size 1948.5 KiB\n",
      "24/06/28 22:56:38 WARN DAGScheduler: Broadcasting large task binary with size 2.4 MiB\n",
      "24/06/28 22:56:38 WARN DAGScheduler: Broadcasting large task binary with size 2.8 MiB\n",
      "24/06/28 22:56:38 WARN DAGScheduler: Broadcasting large task binary with size 3.2 MiB\n",
      "24/06/28 22:56:39 WARN DAGScheduler: Broadcasting large task binary with size 3.5 MiB\n",
      "24/06/28 22:56:40 WARN DAGScheduler: Broadcasting large task binary with size 1454.1 KiB\n",
      "24/06/28 22:56:41 WARN DAGScheduler: Broadcasting large task binary with size 2.0 MiB\n",
      "24/06/28 22:56:41 WARN DAGScheduler: Broadcasting large task binary with size 2.7 MiB\n",
      "24/06/28 22:56:42 WARN DAGScheduler: Broadcasting large task binary with size 3.5 MiB\n",
      "24/06/28 22:56:43 WARN DAGScheduler: Broadcasting large task binary with size 4.2 MiB\n",
      "24/06/28 22:56:43 WARN DAGScheduler: Broadcasting large task binary with size 4.8 MiB\n",
      "24/06/28 22:56:44 WARN DAGScheduler: Broadcasting large task binary with size 5.3 MiB\n",
      "24/06/28 22:56:46 WARN DAGScheduler: Broadcasting large task binary with size 1248.5 KiB\n",
      "24/06/28 22:56:46 WARN DAGScheduler: Broadcasting large task binary with size 1488.8 KiB\n",
      "24/06/28 22:56:47 WARN DAGScheduler: Broadcasting large task binary with size 1705.5 KiB\n",
      "24/06/28 22:56:47 WARN DAGScheduler: Broadcasting large task binary with size 1880.5 KiB\n",
      "24/06/28 22:56:48 WARN DAGScheduler: Broadcasting large task binary with size 1023.3 KiB\n",
      "24/06/28 22:56:48 WARN DAGScheduler: Broadcasting large task binary with size 1425.8 KiB\n",
      "24/06/28 22:56:49 WARN DAGScheduler: Broadcasting large task binary with size 1886.4 KiB\n",
      "24/06/28 22:56:49 WARN DAGScheduler: Broadcasting large task binary with size 2.3 MiB\n",
      "24/06/28 22:56:50 WARN DAGScheduler: Broadcasting large task binary with size 2.7 MiB\n",
      "24/06/28 22:56:50 WARN DAGScheduler: Broadcasting large task binary with size 3.1 MiB\n",
      "24/06/28 22:56:51 WARN DAGScheduler: Broadcasting large task binary with size 3.5 MiB\n",
      "24/06/28 22:56:52 WARN DAGScheduler: Broadcasting large task binary with size 1400.3 KiB\n",
      "24/06/28 22:56:53 WARN DAGScheduler: Broadcasting large task binary with size 1983.5 KiB\n",
      "24/06/28 22:56:53 WARN DAGScheduler: Broadcasting large task binary with size 2.6 MiB\n",
      "24/06/28 22:56:54 WARN DAGScheduler: Broadcasting large task binary with size 3.3 MiB\n",
      "24/06/28 22:56:55 WARN DAGScheduler: Broadcasting large task binary with size 4.0 MiB\n",
      "24/06/28 22:56:56 WARN DAGScheduler: Broadcasting large task binary with size 4.6 MiB\n",
      "24/06/28 22:56:57 WARN DAGScheduler: Broadcasting large task binary with size 5.1 MiB\n",
      "24/06/28 22:57:02 WARN DAGScheduler: Broadcasting large task binary with size 1073.3 KiB\n",
      "24/06/28 22:57:02 WARN DAGScheduler: Broadcasting large task binary with size 1539.0 KiB\n",
      "24/06/28 22:57:03 WARN DAGScheduler: Broadcasting large task binary with size 2.1 MiB\n",
      "24/06/28 22:57:04 WARN DAGScheduler: Broadcasting large task binary with size 2.7 MiB\n",
      "24/06/28 22:57:04 WARN DAGScheduler: Broadcasting large task binary with size 3.3 MiB\n",
      "24/06/28 22:57:05 WARN DAGScheduler: Broadcasting large task binary with size 3.9 MiB\n",
      "24/06/28 22:57:06 WARN DAGScheduler: Broadcasting large task binary with size 4.4 MiB\n"
     ]
    },
    {
     "name": "stdout",
     "output_type": "stream",
     "text": [
      "maxDepth: 15\n",
      "maxBins: 128\n",
      "numTrees: 20\n"
     ]
    }
   ],
   "source": [
    "# # Tạo một mô hình\n",
    "# model = RandomForestRegressor(featuresCol=\"scaled_features_vector\", labelCol=\"min_delay\")\n",
    "\n",
    "# # Tạo một ParamGridBuilder\n",
    "# param_grid = ParamGridBuilder() \\\n",
    "#             .addGrid(model.maxDepth, [5, 10, 15]) \\\n",
    "#             .addGrid(model.maxBins, [32, 64, 128]) \\\n",
    "#             .addGrid(model.numTrees, [10, 20, 30]) \\\n",
    "#             .build()\n",
    "\n",
    "# # Tạo một CrossValidator\n",
    "# crossval = CrossValidator(estimator=model,\n",
    "#                           estimatorParamMaps=param_grid,\n",
    "#                           evaluator=RegressionEvaluator(metricName=\"rmse\", labelCol=\"min_delay\"),\n",
    "#                           numFolds=3)\n",
    "\n",
    "# fitModel = crossval.fit(dev_data)\n",
    "\n",
    "# best_model = fitModel.bestModel\n",
    "\n",
    "# print(\"maxDepth:\", best_model.getOrDefault(\"maxDepth\"))\n",
    "# print(\"maxBins:\", best_model.getOrDefault(\"maxBins\"))\n",
    "# print(\"numTrees:\", best_model.getOrDefault(\"numTrees\"))"
   ]
  },
  {
   "cell_type": "code",
   "execution_count": 49,
   "metadata": {},
   "outputs": [
    {
     "name": "stderr",
     "output_type": "stream",
     "text": [
      "24/07/02 23:21:42 WARN DAGScheduler: Broadcasting large task binary with size 1418.8 KiB\n",
      "24/07/02 23:21:43 WARN DAGScheduler: Broadcasting large task binary with size 2.3 MiB\n",
      "24/07/02 23:21:44 WARN DAGScheduler: Broadcasting large task binary with size 3.6 MiB\n",
      "24/07/02 23:21:46 WARN DAGScheduler: Broadcasting large task binary with size 5.3 MiB\n",
      "24/07/02 23:21:47 WARN DAGScheduler: Broadcasting large task binary with size 7.6 MiB\n",
      "24/07/02 23:21:50 WARN DAGScheduler: Broadcasting large task binary with size 10.2 MiB\n",
      "24/07/02 23:21:51 WARN DAGScheduler: Broadcasting large task binary with size 1128.7 KiB\n",
      "24/07/02 23:21:53 WARN DAGScheduler: Broadcasting large task binary with size 13.1 MiB\n",
      "24/07/02 23:21:55 WARN DAGScheduler: Broadcasting large task binary with size 1184.7 KiB\n",
      "                                                                                \r"
     ]
    }
   ],
   "source": [
    "random_forests = RandomForestRegressor(featuresCol=\"scaled_features_vector\", labelCol=\"min_delay\", maxDepth=15, maxBins=128, numTrees= 20)\n",
    "random_forests_model = random_forests.fit(train_data)"
   ]
  },
  {
   "cell_type": "code",
   "execution_count": 50,
   "metadata": {},
   "outputs": [
    {
     "name": "stderr",
     "output_type": "stream",
     "text": [
      "[Stage 1517:===========================================>            (7 + 2) / 9]\r"
     ]
    },
    {
     "name": "stdout",
     "output_type": "stream",
     "text": [
      "MSE: 10.118249850435042\n",
      "RMSE: 3.180919654822335\n",
      "MAE: 1.1891150901873278\n",
      "R-squared: 0.8769668948574423\n"
     ]
    },
    {
     "name": "stderr",
     "output_type": "stream",
     "text": [
      "                                                                                \r"
     ]
    }
   ],
   "source": [
    "random_forests_predictions = random_forests_model.transform(test_data)\n",
    "evaluator(random_forests_predictions)"
   ]
  },
  {
   "cell_type": "code",
   "execution_count": 51,
   "metadata": {},
   "outputs": [],
   "source": [
    "# MSE: 9.978423469054947\n",
    "# RMSE: 3.158864268855967\n",
    "# MAE: 1.1805625191047229\n",
    "# R-squared: 0.8772287313236498"
   ]
  },
  {
   "cell_type": "markdown",
   "metadata": {},
   "source": [
    "### gradient-boosted trees"
   ]
  },
  {
   "cell_type": "code",
   "execution_count": 11,
   "metadata": {},
   "outputs": [
    {
     "name": "stderr",
     "output_type": "stream",
     "text": [
      "24/06/28 23:05:50 WARN SparkStringUtils: Truncated the string representation of a plan since it was too large. This behavior can be adjusted by setting 'spark.sql.debug.maxToStringFields'.\n",
      "24/06/28 23:05:55 WARN InstanceBuilder: Failed to load implementation from:dev.ludovic.netlib.blas.JNIBLAS\n",
      "24/06/28 23:06:57 WARN DAGScheduler: Broadcasting large task binary with size 1003.4 KiB\n",
      "24/06/28 23:06:57 WARN DAGScheduler: Broadcasting large task binary with size 1000.2 KiB\n",
      "24/06/28 23:06:57 WARN DAGScheduler: Broadcasting large task binary with size 1001.4 KiB\n",
      "24/06/28 23:06:57 WARN DAGScheduler: Broadcasting large task binary with size 1003.6 KiB\n",
      "24/06/28 23:06:58 WARN DAGScheduler: Broadcasting large task binary with size 1008.1 KiB\n",
      "24/06/28 23:06:58 WARN DAGScheduler: Broadcasting large task binary with size 1016.3 KiB\n",
      "24/06/28 23:06:58 WARN DAGScheduler: Broadcasting large task binary with size 1027.3 KiB\n",
      "24/06/28 23:06:58 WARN DAGScheduler: Broadcasting large task binary with size 1041.6 KiB\n",
      "24/06/28 23:06:58 WARN DAGScheduler: Broadcasting large task binary with size 1062.4 KiB\n",
      "24/06/28 23:06:58 WARN DAGScheduler: Broadcasting large task binary with size 1054.8 KiB\n",
      "24/06/28 23:06:58 WARN DAGScheduler: Broadcasting large task binary with size 1055.4 KiB\n",
      "24/06/28 23:06:58 WARN DAGScheduler: Broadcasting large task binary with size 1055.9 KiB\n",
      "24/06/28 23:06:58 WARN DAGScheduler: Broadcasting large task binary with size 1057.0 KiB\n",
      "24/06/28 23:06:58 WARN DAGScheduler: Broadcasting large task binary with size 1059.3 KiB\n",
      "24/06/28 23:06:58 WARN DAGScheduler: Broadcasting large task binary with size 1063.7 KiB\n",
      "24/06/28 23:06:58 WARN DAGScheduler: Broadcasting large task binary with size 1071.2 KiB\n",
      "24/06/28 23:06:58 WARN DAGScheduler: Broadcasting large task binary with size 1083.0 KiB\n",
      "24/06/28 23:06:58 WARN DAGScheduler: Broadcasting large task binary with size 1100.5 KiB\n",
      "24/06/28 23:06:58 WARN DAGScheduler: Broadcasting large task binary with size 1126.4 KiB\n",
      "24/06/28 23:06:59 WARN DAGScheduler: Broadcasting large task binary with size 1120.8 KiB\n",
      "24/06/28 23:06:59 WARN DAGScheduler: Broadcasting large task binary with size 1121.3 KiB\n",
      "24/06/28 23:06:59 WARN DAGScheduler: Broadcasting large task binary with size 1121.8 KiB\n",
      "24/06/28 23:06:59 WARN DAGScheduler: Broadcasting large task binary with size 1122.9 KiB\n",
      "24/06/28 23:06:59 WARN DAGScheduler: Broadcasting large task binary with size 1125.2 KiB\n",
      "24/06/28 23:06:59 WARN DAGScheduler: Broadcasting large task binary with size 1129.1 KiB\n",
      "24/06/28 23:06:59 WARN DAGScheduler: Broadcasting large task binary with size 1135.9 KiB\n",
      "24/06/28 23:06:59 WARN DAGScheduler: Broadcasting large task binary with size 1147.0 KiB\n",
      "24/06/28 23:06:59 WARN DAGScheduler: Broadcasting large task binary with size 1164.8 KiB\n",
      "24/06/28 23:06:59 WARN DAGScheduler: Broadcasting large task binary with size 1192.6 KiB\n",
      "24/06/28 23:06:59 WARN DAGScheduler: Broadcasting large task binary with size 1188.3 KiB\n",
      "24/06/28 23:06:59 WARN DAGScheduler: Broadcasting large task binary with size 1188.9 KiB\n",
      "24/06/28 23:06:59 WARN DAGScheduler: Broadcasting large task binary with size 1189.3 KiB\n",
      "24/06/28 23:06:59 WARN DAGScheduler: Broadcasting large task binary with size 1190.5 KiB\n",
      "24/06/28 23:07:00 WARN DAGScheduler: Broadcasting large task binary with size 1192.7 KiB\n",
      "24/06/28 23:07:00 WARN DAGScheduler: Broadcasting large task binary with size 1196.9 KiB\n",
      "24/06/28 23:07:00 WARN DAGScheduler: Broadcasting large task binary with size 1204.0 KiB\n",
      "24/06/28 23:07:00 WARN DAGScheduler: Broadcasting large task binary with size 1214.6 KiB\n",
      "24/06/28 23:07:00 WARN DAGScheduler: Broadcasting large task binary with size 1231.1 KiB\n",
      "24/06/28 23:07:00 WARN DAGScheduler: Broadcasting large task binary with size 1254.5 KiB\n",
      "24/06/28 23:07:23 WARN DAGScheduler: Broadcasting large task binary with size 1024.2 KiB\n",
      "24/06/28 23:07:23 WARN DAGScheduler: Broadcasting large task binary with size 1017.3 KiB\n",
      "24/06/28 23:07:23 WARN DAGScheduler: Broadcasting large task binary with size 1017.9 KiB\n",
      "24/06/28 23:07:23 WARN DAGScheduler: Broadcasting large task binary with size 1018.4 KiB\n",
      "24/06/28 23:07:23 WARN DAGScheduler: Broadcasting large task binary with size 1019.5 KiB\n",
      "24/06/28 23:07:23 WARN DAGScheduler: Broadcasting large task binary with size 1021.7 KiB\n",
      "24/06/28 23:07:23 WARN DAGScheduler: Broadcasting large task binary with size 1025.7 KiB\n",
      "24/06/28 23:07:23 WARN DAGScheduler: Broadcasting large task binary with size 1032.8 KiB\n",
      "24/06/28 23:07:23 WARN DAGScheduler: Broadcasting large task binary with size 1043.9 KiB\n",
      "24/06/28 23:07:23 WARN DAGScheduler: Broadcasting large task binary with size 1058.2 KiB\n",
      "24/06/28 23:07:23 WARN DAGScheduler: Broadcasting large task binary with size 1077.3 KiB\n",
      "24/06/28 23:07:23 WARN DAGScheduler: Broadcasting large task binary with size 1070.3 KiB\n",
      "24/06/28 23:07:23 WARN DAGScheduler: Broadcasting large task binary with size 1070.8 KiB\n",
      "24/06/28 23:07:24 WARN DAGScheduler: Broadcasting large task binary with size 1071.3 KiB\n",
      "24/06/28 23:07:24 WARN DAGScheduler: Broadcasting large task binary with size 1072.4 KiB\n",
      "24/06/28 23:07:24 WARN DAGScheduler: Broadcasting large task binary with size 1074.4 KiB\n",
      "24/06/28 23:07:24 WARN DAGScheduler: Broadcasting large task binary with size 1078.3 KiB\n",
      "24/06/28 23:07:24 WARN DAGScheduler: Broadcasting large task binary with size 1084.2 KiB\n",
      "24/06/28 23:07:24 WARN DAGScheduler: Broadcasting large task binary with size 1092.3 KiB\n",
      "24/06/28 23:07:24 WARN DAGScheduler: Broadcasting large task binary with size 1102.7 KiB\n",
      "24/06/28 23:07:24 WARN DAGScheduler: Broadcasting large task binary with size 1116.4 KiB\n",
      "24/06/28 23:07:24 WARN DAGScheduler: Broadcasting large task binary with size 1108.3 KiB\n",
      "24/06/28 23:07:24 WARN DAGScheduler: Broadcasting large task binary with size 1108.9 KiB\n",
      "24/06/28 23:07:24 WARN DAGScheduler: Broadcasting large task binary with size 1109.4 KiB\n",
      "24/06/28 23:07:24 WARN DAGScheduler: Broadcasting large task binary with size 1110.5 KiB\n",
      "24/06/28 23:07:24 WARN DAGScheduler: Broadcasting large task binary with size 1112.8 KiB\n",
      "24/06/28 23:07:24 WARN DAGScheduler: Broadcasting large task binary with size 1117.2 KiB\n",
      "24/06/28 23:07:24 WARN DAGScheduler: Broadcasting large task binary with size 1124.1 KiB\n",
      "24/06/28 23:07:25 WARN DAGScheduler: Broadcasting large task binary with size 1135.3 KiB\n",
      "24/06/28 23:07:25 WARN DAGScheduler: Broadcasting large task binary with size 1151.8 KiB\n",
      "24/06/28 23:07:25 WARN DAGScheduler: Broadcasting large task binary with size 1173.1 KiB\n",
      "24/06/28 23:07:25 WARN DAGScheduler: Broadcasting large task binary with size 1165.7 KiB\n",
      "24/06/28 23:07:25 WARN DAGScheduler: Broadcasting large task binary with size 1166.3 KiB\n",
      "24/06/28 23:07:25 WARN DAGScheduler: Broadcasting large task binary with size 1166.8 KiB\n",
      "24/06/28 23:07:25 WARN DAGScheduler: Broadcasting large task binary with size 1167.9 KiB\n",
      "24/06/28 23:07:25 WARN DAGScheduler: Broadcasting large task binary with size 1169.8 KiB\n",
      "24/06/28 23:07:25 WARN DAGScheduler: Broadcasting large task binary with size 1173.4 KiB\n",
      "24/06/28 23:07:25 WARN DAGScheduler: Broadcasting large task binary with size 1178.9 KiB\n",
      "24/06/28 23:07:25 WARN DAGScheduler: Broadcasting large task binary with size 1186.6 KiB\n",
      "24/06/28 23:07:25 WARN DAGScheduler: Broadcasting large task binary with size 1197.1 KiB\n",
      "24/06/28 23:07:25 WARN DAGScheduler: Broadcasting large task binary with size 1209.6 KiB\n",
      "24/06/28 23:07:51 WARN DAGScheduler: Broadcasting large task binary with size 1002.8 KiB\n",
      "24/06/28 23:07:51 WARN DAGScheduler: Broadcasting large task binary with size 1000.9 KiB\n",
      "24/06/28 23:07:51 WARN DAGScheduler: Broadcasting large task binary with size 1003.1 KiB\n",
      "24/06/28 23:07:52 WARN DAGScheduler: Broadcasting large task binary with size 1007.6 KiB\n",
      "24/06/28 23:07:52 WARN DAGScheduler: Broadcasting large task binary with size 1015.4 KiB\n",
      "24/06/28 23:07:52 WARN DAGScheduler: Broadcasting large task binary with size 1029.2 KiB\n",
      "24/06/28 23:07:52 WARN DAGScheduler: Broadcasting large task binary with size 1049.9 KiB\n",
      "24/06/28 23:07:52 WARN DAGScheduler: Broadcasting large task binary with size 1079.2 KiB\n",
      "24/06/28 23:07:52 WARN DAGScheduler: Broadcasting large task binary with size 1071.2 KiB\n",
      "24/06/28 23:07:52 WARN DAGScheduler: Broadcasting large task binary with size 1071.8 KiB\n",
      "24/06/28 23:07:52 WARN DAGScheduler: Broadcasting large task binary with size 1072.3 KiB\n",
      "24/06/28 23:07:52 WARN DAGScheduler: Broadcasting large task binary with size 1073.4 KiB\n",
      "24/06/28 23:07:52 WARN DAGScheduler: Broadcasting large task binary with size 1075.7 KiB\n",
      "24/06/28 23:07:52 WARN DAGScheduler: Broadcasting large task binary with size 1080.1 KiB\n",
      "24/06/28 23:07:53 WARN DAGScheduler: Broadcasting large task binary with size 1087.9 KiB\n",
      "24/06/28 23:07:53 WARN DAGScheduler: Broadcasting large task binary with size 1099.1 KiB\n",
      "24/06/28 23:07:53 WARN DAGScheduler: Broadcasting large task binary with size 1113.9 KiB\n",
      "24/06/28 23:07:53 WARN DAGScheduler: Broadcasting large task binary with size 1134.6 KiB\n",
      "24/06/28 23:07:53 WARN DAGScheduler: Broadcasting large task binary with size 1127.7 KiB\n",
      "24/06/28 23:07:53 WARN DAGScheduler: Broadcasting large task binary with size 1128.3 KiB\n",
      "24/06/28 23:07:53 WARN DAGScheduler: Broadcasting large task binary with size 1128.8 KiB\n",
      "24/06/28 23:07:53 WARN DAGScheduler: Broadcasting large task binary with size 1129.9 KiB\n",
      "24/06/28 23:07:53 WARN DAGScheduler: Broadcasting large task binary with size 1132.1 KiB\n",
      "24/06/28 23:07:53 WARN DAGScheduler: Broadcasting large task binary with size 1135.1 KiB\n",
      "24/06/28 23:07:53 WARN DAGScheduler: Broadcasting large task binary with size 1140.5 KiB\n",
      "24/06/28 23:07:53 WARN DAGScheduler: Broadcasting large task binary with size 1150.0 KiB\n",
      "24/06/28 23:07:54 WARN DAGScheduler: Broadcasting large task binary with size 1163.3 KiB\n",
      "24/06/28 23:07:54 WARN DAGScheduler: Broadcasting large task binary with size 1179.2 KiB\n",
      "24/06/28 23:09:04 WARN DAGScheduler: Broadcasting large task binary with size 1007.7 KiB\n",
      "24/06/28 23:09:04 WARN DAGScheduler: Broadcasting large task binary with size 1022.9 KiB\n",
      "24/06/28 23:09:04 WARN DAGScheduler: Broadcasting large task binary with size 1045.9 KiB\n",
      "24/06/28 23:09:04 WARN DAGScheduler: Broadcasting large task binary with size 1041.0 KiB\n",
      "24/06/28 23:09:04 WARN DAGScheduler: Broadcasting large task binary with size 1041.6 KiB\n",
      "24/06/28 23:09:04 WARN DAGScheduler: Broadcasting large task binary with size 1042.0 KiB\n",
      "24/06/28 23:09:04 WARN DAGScheduler: Broadcasting large task binary with size 1042.9 KiB\n",
      "24/06/28 23:09:04 WARN DAGScheduler: Broadcasting large task binary with size 1044.6 KiB\n",
      "24/06/28 23:09:04 WARN DAGScheduler: Broadcasting large task binary with size 1048.0 KiB\n",
      "24/06/28 23:09:04 WARN DAGScheduler: Broadcasting large task binary with size 1054.7 KiB\n",
      "24/06/28 23:09:04 WARN DAGScheduler: Broadcasting large task binary with size 1067.2 KiB\n",
      "24/06/28 23:09:04 WARN DAGScheduler: Broadcasting large task binary with size 1087.3 KiB\n",
      "24/06/28 23:09:04 WARN DAGScheduler: Broadcasting large task binary with size 1119.2 KiB\n",
      "24/06/28 23:09:04 WARN DAGScheduler: Broadcasting large task binary with size 1115.1 KiB\n",
      "24/06/28 23:09:04 WARN DAGScheduler: Broadcasting large task binary with size 1115.7 KiB\n",
      "24/06/28 23:09:04 WARN DAGScheduler: Broadcasting large task binary with size 1116.1 KiB\n",
      "24/06/28 23:09:05 WARN DAGScheduler: Broadcasting large task binary with size 1117.3 KiB\n",
      "24/06/28 23:09:05 WARN DAGScheduler: Broadcasting large task binary with size 1119.2 KiB\n",
      "24/06/28 23:09:05 WARN DAGScheduler: Broadcasting large task binary with size 1122.2 KiB\n",
      "24/06/28 23:09:05 WARN DAGScheduler: Broadcasting large task binary with size 1127.6 KiB\n",
      "24/06/28 23:09:05 WARN DAGScheduler: Broadcasting large task binary with size 1137.7 KiB\n",
      "24/06/28 23:09:05 WARN DAGScheduler: Broadcasting large task binary with size 1151.7 KiB\n",
      "24/06/28 23:09:05 WARN DAGScheduler: Broadcasting large task binary with size 1169.9 KiB\n",
      "24/06/28 23:09:05 WARN DAGScheduler: Broadcasting large task binary with size 1165.4 KiB\n",
      "24/06/28 23:09:05 WARN DAGScheduler: Broadcasting large task binary with size 1166.0 KiB\n",
      "24/06/28 23:09:05 WARN DAGScheduler: Broadcasting large task binary with size 1166.4 KiB\n",
      "24/06/28 23:09:05 WARN DAGScheduler: Broadcasting large task binary with size 1167.6 KiB\n",
      "24/06/28 23:09:05 WARN DAGScheduler: Broadcasting large task binary with size 1169.8 KiB\n",
      "24/06/28 23:09:05 WARN DAGScheduler: Broadcasting large task binary with size 1174.1 KiB\n",
      "24/06/28 23:09:05 WARN DAGScheduler: Broadcasting large task binary with size 1182.1 KiB\n",
      "24/06/28 23:09:05 WARN DAGScheduler: Broadcasting large task binary with size 1195.0 KiB\n",
      "24/06/28 23:09:06 WARN DAGScheduler: Broadcasting large task binary with size 1216.9 KiB\n",
      "24/06/28 23:09:06 WARN DAGScheduler: Broadcasting large task binary with size 1245.4 KiB\n",
      "24/06/28 23:09:06 WARN DAGScheduler: Broadcasting large task binary with size 1236.7 KiB\n",
      "24/06/28 23:09:06 WARN DAGScheduler: Broadcasting large task binary with size 1237.3 KiB\n",
      "24/06/28 23:09:06 WARN DAGScheduler: Broadcasting large task binary with size 1237.8 KiB\n",
      "24/06/28 23:09:06 WARN DAGScheduler: Broadcasting large task binary with size 1238.9 KiB\n",
      "24/06/28 23:09:06 WARN DAGScheduler: Broadcasting large task binary with size 1241.2 KiB\n",
      "24/06/28 23:09:06 WARN DAGScheduler: Broadcasting large task binary with size 1245.6 KiB\n",
      "24/06/28 23:09:06 WARN DAGScheduler: Broadcasting large task binary with size 1253.5 KiB\n",
      "24/06/28 23:09:06 WARN DAGScheduler: Broadcasting large task binary with size 1267.4 KiB\n",
      "24/06/28 23:09:06 WARN DAGScheduler: Broadcasting large task binary with size 1287.3 KiB\n",
      "24/06/28 23:09:06 WARN DAGScheduler: Broadcasting large task binary with size 1317.0 KiB\n",
      "24/06/28 23:09:28 WARN DAGScheduler: Broadcasting large task binary with size 1015.9 KiB\n",
      "24/06/28 23:09:28 WARN DAGScheduler: Broadcasting large task binary with size 1007.6 KiB\n",
      "24/06/28 23:09:28 WARN DAGScheduler: Broadcasting large task binary with size 1008.1 KiB\n",
      "24/06/28 23:09:28 WARN DAGScheduler: Broadcasting large task binary with size 1008.6 KiB\n",
      "24/06/28 23:09:29 WARN DAGScheduler: Broadcasting large task binary with size 1009.8 KiB\n",
      "24/06/28 23:09:29 WARN DAGScheduler: Broadcasting large task binary with size 1012.0 KiB\n",
      "24/06/28 23:09:29 WARN DAGScheduler: Broadcasting large task binary with size 1016.2 KiB\n",
      "24/06/28 23:09:29 WARN DAGScheduler: Broadcasting large task binary with size 1023.7 KiB\n",
      "24/06/28 23:09:29 WARN DAGScheduler: Broadcasting large task binary with size 1035.5 KiB\n",
      "24/06/28 23:09:29 WARN DAGScheduler: Broadcasting large task binary with size 1052.2 KiB\n",
      "24/06/28 23:09:29 WARN DAGScheduler: Broadcasting large task binary with size 1073.4 KiB\n",
      "24/06/28 23:09:29 WARN DAGScheduler: Broadcasting large task binary with size 1063.7 KiB\n",
      "24/06/28 23:09:29 WARN DAGScheduler: Broadcasting large task binary with size 1064.2 KiB\n",
      "24/06/28 23:09:29 WARN DAGScheduler: Broadcasting large task binary with size 1064.7 KiB\n",
      "24/06/28 23:09:29 WARN DAGScheduler: Broadcasting large task binary with size 1065.6 KiB\n",
      "24/06/28 23:09:29 WARN DAGScheduler: Broadcasting large task binary with size 1067.3 KiB\n",
      "24/06/28 23:09:29 WARN DAGScheduler: Broadcasting large task binary with size 1070.6 KiB\n",
      "24/06/28 23:09:29 WARN DAGScheduler: Broadcasting large task binary with size 1076.1 KiB\n",
      "24/06/28 23:09:29 WARN DAGScheduler: Broadcasting large task binary with size 1085.1 KiB\n",
      "24/06/28 23:09:29 WARN DAGScheduler: Broadcasting large task binary with size 1098.4 KiB\n",
      "24/06/28 23:09:30 WARN DAGScheduler: Broadcasting large task binary with size 1116.1 KiB\n",
      "24/06/28 23:09:30 WARN DAGScheduler: Broadcasting large task binary with size 1110.1 KiB\n",
      "24/06/28 23:09:30 WARN DAGScheduler: Broadcasting large task binary with size 1110.7 KiB\n",
      "24/06/28 23:09:30 WARN DAGScheduler: Broadcasting large task binary with size 1111.2 KiB\n",
      "24/06/28 23:09:30 WARN DAGScheduler: Broadcasting large task binary with size 1112.3 KiB\n",
      "24/06/28 23:09:30 WARN DAGScheduler: Broadcasting large task binary with size 1114.6 KiB\n",
      "24/06/28 23:09:30 WARN DAGScheduler: Broadcasting large task binary with size 1118.7 KiB\n",
      "24/06/28 23:09:30 WARN DAGScheduler: Broadcasting large task binary with size 1126.2 KiB\n",
      "24/06/28 23:09:30 WARN DAGScheduler: Broadcasting large task binary with size 1137.3 KiB\n",
      "24/06/28 23:09:30 WARN DAGScheduler: Broadcasting large task binary with size 1152.4 KiB\n",
      "24/06/28 23:09:30 WARN DAGScheduler: Broadcasting large task binary with size 1171.8 KiB\n",
      "24/06/28 23:11:02 WARN DAGScheduler: Broadcasting large task binary with size 1015.4 KiB\n",
      "24/06/28 23:11:02 WARN DAGScheduler: Broadcasting large task binary with size 1039.2 KiB\n",
      "24/06/28 23:11:02 WARN DAGScheduler: Broadcasting large task binary with size 1032.2 KiB\n",
      "24/06/28 23:11:02 WARN DAGScheduler: Broadcasting large task binary with size 1032.8 KiB\n",
      "24/06/28 23:11:02 WARN DAGScheduler: Broadcasting large task binary with size 1033.2 KiB\n",
      "24/06/28 23:11:02 WARN DAGScheduler: Broadcasting large task binary with size 1034.4 KiB\n",
      "24/06/28 23:11:02 WARN DAGScheduler: Broadcasting large task binary with size 1036.6 KiB\n",
      "24/06/28 23:11:02 WARN DAGScheduler: Broadcasting large task binary with size 1040.5 KiB\n",
      "24/06/28 23:11:02 WARN DAGScheduler: Broadcasting large task binary with size 1047.2 KiB\n",
      "24/06/28 23:11:03 WARN DAGScheduler: Broadcasting large task binary with size 1057.6 KiB\n",
      "24/06/28 23:11:03 WARN DAGScheduler: Broadcasting large task binary with size 1071.1 KiB\n",
      "24/06/28 23:11:03 WARN DAGScheduler: Broadcasting large task binary with size 1090.5 KiB\n",
      "24/06/28 23:11:03 WARN DAGScheduler: Broadcasting large task binary with size 1084.8 KiB\n",
      "24/06/28 23:11:03 WARN DAGScheduler: Broadcasting large task binary with size 1085.4 KiB\n",
      "24/06/28 23:11:03 WARN DAGScheduler: Broadcasting large task binary with size 1085.9 KiB\n",
      "24/06/28 23:11:03 WARN DAGScheduler: Broadcasting large task binary with size 1087.0 KiB\n",
      "24/06/28 23:11:03 WARN DAGScheduler: Broadcasting large task binary with size 1089.2 KiB\n",
      "24/06/28 23:11:03 WARN DAGScheduler: Broadcasting large task binary with size 1092.6 KiB\n",
      "24/06/28 23:11:03 WARN DAGScheduler: Broadcasting large task binary with size 1099.1 KiB\n",
      "24/06/28 23:11:03 WARN DAGScheduler: Broadcasting large task binary with size 1108.7 KiB\n",
      "24/06/28 23:11:03 WARN DAGScheduler: Broadcasting large task binary with size 1123.9 KiB\n",
      "24/06/28 23:11:03 WARN DAGScheduler: Broadcasting large task binary with size 1146.4 KiB\n",
      "24/06/28 23:11:03 WARN DAGScheduler: Broadcasting large task binary with size 1141.8 KiB\n",
      "24/06/28 23:11:03 WARN DAGScheduler: Broadcasting large task binary with size 1142.3 KiB\n",
      "24/06/28 23:11:04 WARN DAGScheduler: Broadcasting large task binary with size 1142.8 KiB\n",
      "24/06/28 23:11:04 WARN DAGScheduler: Broadcasting large task binary with size 1143.9 KiB\n",
      "24/06/28 23:11:04 WARN DAGScheduler: Broadcasting large task binary with size 1145.7 KiB\n",
      "24/06/28 23:11:04 WARN DAGScheduler: Broadcasting large task binary with size 1149.0 KiB\n",
      "24/06/28 23:11:04 WARN DAGScheduler: Broadcasting large task binary with size 1154.9 KiB\n",
      "24/06/28 23:11:04 WARN DAGScheduler: Broadcasting large task binary with size 1165.9 KiB\n",
      "24/06/28 23:11:04 WARN DAGScheduler: Broadcasting large task binary with size 1185.3 KiB\n",
      "24/06/28 23:11:04 WARN DAGScheduler: Broadcasting large task binary with size 1214.9 KiB\n",
      "24/06/28 23:11:26 WARN DAGScheduler: Broadcasting large task binary with size 1010.1 KiB\n",
      "24/06/28 23:11:26 WARN DAGScheduler: Broadcasting large task binary with size 1029.1 KiB\n",
      "24/06/28 23:11:26 WARN DAGScheduler: Broadcasting large task binary with size 1059.5 KiB\n",
      "24/06/28 23:11:26 WARN DAGScheduler: Broadcasting large task binary with size 1053.7 KiB\n",
      "24/06/28 23:11:26 WARN DAGScheduler: Broadcasting large task binary with size 1054.3 KiB\n",
      "24/06/28 23:11:26 WARN DAGScheduler: Broadcasting large task binary with size 1054.8 KiB\n",
      "24/06/28 23:11:26 WARN DAGScheduler: Broadcasting large task binary with size 1055.9 KiB\n",
      "24/06/28 23:11:26 WARN DAGScheduler: Broadcasting large task binary with size 1058.2 KiB\n",
      "24/06/28 23:11:26 WARN DAGScheduler: Broadcasting large task binary with size 1062.6 KiB\n",
      "24/06/28 23:11:26 WARN DAGScheduler: Broadcasting large task binary with size 1070.1 KiB\n",
      "24/06/28 23:11:26 WARN DAGScheduler: Broadcasting large task binary with size 1082.2 KiB\n",
      "24/06/28 23:11:26 WARN DAGScheduler: Broadcasting large task binary with size 1100.1 KiB\n",
      "24/06/28 23:11:26 WARN DAGScheduler: Broadcasting large task binary with size 1125.9 KiB\n",
      "24/06/28 23:11:26 WARN DAGScheduler: Broadcasting large task binary with size 1117.8 KiB\n",
      "24/06/28 23:11:27 WARN DAGScheduler: Broadcasting large task binary with size 1118.4 KiB\n",
      "24/06/28 23:11:27 WARN DAGScheduler: Broadcasting large task binary with size 1118.9 KiB\n",
      "24/06/28 23:11:27 WARN DAGScheduler: Broadcasting large task binary with size 1120.0 KiB\n",
      "24/06/28 23:11:27 WARN DAGScheduler: Broadcasting large task binary with size 1121.9 KiB\n",
      "24/06/28 23:11:27 WARN DAGScheduler: Broadcasting large task binary with size 1125.2 KiB\n",
      "24/06/28 23:11:27 WARN DAGScheduler: Broadcasting large task binary with size 1130.5 KiB\n",
      "24/06/28 23:11:27 WARN DAGScheduler: Broadcasting large task binary with size 1139.2 KiB\n",
      "24/06/28 23:11:27 WARN DAGScheduler: Broadcasting large task binary with size 1151.2 KiB\n",
      "24/06/28 23:11:27 WARN DAGScheduler: Broadcasting large task binary with size 1170.6 KiB\n",
      "24/06/28 23:11:27 WARN DAGScheduler: Broadcasting large task binary with size 1167.7 KiB\n",
      "24/06/28 23:11:27 WARN DAGScheduler: Broadcasting large task binary with size 1168.3 KiB\n",
      "24/06/28 23:11:27 WARN DAGScheduler: Broadcasting large task binary with size 1168.8 KiB\n",
      "24/06/28 23:11:27 WARN DAGScheduler: Broadcasting large task binary with size 1169.9 KiB\n",
      "24/06/28 23:11:27 WARN DAGScheduler: Broadcasting large task binary with size 1172.2 KiB\n",
      "24/06/28 23:11:28 WARN DAGScheduler: Broadcasting large task binary with size 1176.7 KiB\n",
      "24/06/28 23:11:28 WARN DAGScheduler: Broadcasting large task binary with size 1184.8 KiB\n",
      "24/06/28 23:11:28 WARN DAGScheduler: Broadcasting large task binary with size 1196.5 KiB\n",
      "24/06/28 23:11:28 WARN DAGScheduler: Broadcasting large task binary with size 1213.1 KiB\n",
      "24/06/28 23:11:28 WARN DAGScheduler: Broadcasting large task binary with size 1237.7 KiB\n",
      "24/06/28 23:11:28 WARN DAGScheduler: Broadcasting large task binary with size 1230.5 KiB\n",
      "24/06/28 23:11:28 WARN DAGScheduler: Broadcasting large task binary with size 1231.0 KiB\n",
      "24/06/28 23:11:28 WARN DAGScheduler: Broadcasting large task binary with size 1231.5 KiB\n",
      "24/06/28 23:11:28 WARN DAGScheduler: Broadcasting large task binary with size 1232.7 KiB\n",
      "24/06/28 23:11:28 WARN DAGScheduler: Broadcasting large task binary with size 1234.9 KiB\n",
      "24/06/28 23:11:28 WARN DAGScheduler: Broadcasting large task binary with size 1239.0 KiB\n",
      "24/06/28 23:11:28 WARN DAGScheduler: Broadcasting large task binary with size 1245.8 KiB\n",
      "24/06/28 23:11:28 WARN DAGScheduler: Broadcasting large task binary with size 1254.6 KiB\n",
      "24/06/28 23:11:28 WARN DAGScheduler: Broadcasting large task binary with size 1266.6 KiB\n",
      "24/06/28 23:11:29 WARN DAGScheduler: Broadcasting large task binary with size 1285.1 KiB\n",
      "24/06/28 23:11:51 WARN DAGScheduler: Broadcasting large task binary with size 1007.5 KiB\n",
      "24/06/28 23:11:51 WARN DAGScheduler: Broadcasting large task binary with size 1000.1 KiB\n",
      "24/06/28 23:11:51 WARN DAGScheduler: Broadcasting large task binary with size 1000.7 KiB\n",
      "24/06/28 23:11:51 WARN DAGScheduler: Broadcasting large task binary with size 1001.2 KiB\n",
      "24/06/28 23:11:51 WARN DAGScheduler: Broadcasting large task binary with size 1002.3 KiB\n",
      "24/06/28 23:11:51 WARN DAGScheduler: Broadcasting large task binary with size 1004.3 KiB\n",
      "24/06/28 23:11:51 WARN DAGScheduler: Broadcasting large task binary with size 1008.2 KiB\n",
      "24/06/28 23:11:52 WARN DAGScheduler: Broadcasting large task binary with size 1014.8 KiB\n",
      "24/06/28 23:11:52 WARN DAGScheduler: Broadcasting large task binary with size 1025.0 KiB\n",
      "24/06/28 23:11:52 WARN DAGScheduler: Broadcasting large task binary with size 1040.8 KiB\n",
      "24/06/28 23:11:52 WARN DAGScheduler: Broadcasting large task binary with size 1061.1 KiB\n",
      "24/06/28 23:11:52 WARN DAGScheduler: Broadcasting large task binary with size 1054.0 KiB\n",
      "24/06/28 23:11:52 WARN DAGScheduler: Broadcasting large task binary with size 1054.6 KiB\n",
      "24/06/28 23:11:52 WARN DAGScheduler: Broadcasting large task binary with size 1055.0 KiB\n",
      "24/06/28 23:11:52 WARN DAGScheduler: Broadcasting large task binary with size 1056.2 KiB\n",
      "24/06/28 23:11:52 WARN DAGScheduler: Broadcasting large task binary with size 1058.4 KiB\n",
      "24/06/28 23:11:52 WARN DAGScheduler: Broadcasting large task binary with size 1062.5 KiB\n",
      "24/06/28 23:11:52 WARN DAGScheduler: Broadcasting large task binary with size 1068.9 KiB\n",
      "24/06/28 23:11:52 WARN DAGScheduler: Broadcasting large task binary with size 1079.3 KiB\n",
      "24/06/28 23:11:52 WARN DAGScheduler: Broadcasting large task binary with size 1091.9 KiB\n",
      "24/06/28 23:11:52 WARN DAGScheduler: Broadcasting large task binary with size 1108.5 KiB\n",
      "24/06/28 23:11:53 WARN DAGScheduler: Broadcasting large task binary with size 1100.8 KiB\n",
      "24/06/28 23:11:53 WARN DAGScheduler: Broadcasting large task binary with size 1101.3 KiB\n",
      "24/06/28 23:11:53 WARN DAGScheduler: Broadcasting large task binary with size 1101.8 KiB\n",
      "24/06/28 23:11:53 WARN DAGScheduler: Broadcasting large task binary with size 1102.9 KiB\n",
      "24/06/28 23:11:53 WARN DAGScheduler: Broadcasting large task binary with size 1105.2 KiB\n",
      "24/06/28 23:11:53 WARN DAGScheduler: Broadcasting large task binary with size 1109.4 KiB\n",
      "24/06/28 23:11:53 WARN DAGScheduler: Broadcasting large task binary with size 1116.9 KiB\n",
      "24/06/28 23:11:53 WARN DAGScheduler: Broadcasting large task binary with size 1130.0 KiB\n",
      "24/06/28 23:11:53 WARN DAGScheduler: Broadcasting large task binary with size 1147.4 KiB\n",
      "24/06/28 23:11:53 WARN DAGScheduler: Broadcasting large task binary with size 1170.5 KiB\n",
      "24/06/28 23:11:53 WARN DAGScheduler: Broadcasting large task binary with size 1162.6 KiB\n",
      "24/06/28 23:11:53 WARN DAGScheduler: Broadcasting large task binary with size 1163.2 KiB\n",
      "24/06/28 23:11:53 WARN DAGScheduler: Broadcasting large task binary with size 1163.6 KiB\n",
      "24/06/28 23:11:53 WARN DAGScheduler: Broadcasting large task binary with size 1164.8 KiB\n",
      "24/06/28 23:11:53 WARN DAGScheduler: Broadcasting large task binary with size 1167.0 KiB\n",
      "24/06/28 23:11:54 WARN DAGScheduler: Broadcasting large task binary with size 1170.0 KiB\n",
      "24/06/28 23:11:54 WARN DAGScheduler: Broadcasting large task binary with size 1174.5 KiB\n",
      "24/06/28 23:11:54 WARN DAGScheduler: Broadcasting large task binary with size 1182.4 KiB\n",
      "24/06/28 23:11:54 WARN DAGScheduler: Broadcasting large task binary with size 1193.5 KiB\n",
      "24/06/28 23:11:54 WARN DAGScheduler: Broadcasting large task binary with size 1210.5 KiB\n",
      "                                                                                \r"
     ]
    },
    {
     "name": "stdout",
     "output_type": "stream",
     "text": [
      "maxDepth: 2\n",
      "maxBins: 128\n",
      "maxIter: 20\n"
     ]
    }
   ],
   "source": [
    "# # Tạo một mô hình\n",
    "# model = GBTRegressor(featuresCol=\"scaled_features_vector\", labelCol=\"min_delay\")\n",
    "\n",
    "# # Tạo một ParamGridBuilder\n",
    "# param_grid = ParamGridBuilder() \\\n",
    "#             .addGrid(model.maxDepth, [2, 5, 10]) \\\n",
    "#             .addGrid(model.maxBins, [32, 64, 128]) \\\n",
    "#             .addGrid(model.maxIter, [10, 20, 15]) \\\n",
    "#             .build()\n",
    "\n",
    "# # Tạo một CrossValidator\n",
    "# crossval = CrossValidator(estimator=model,\n",
    "#                           estimatorParamMaps=param_grid,\n",
    "#                           evaluator=RegressionEvaluator(metricName=\"rmse\", labelCol=\"min_delay\"),\n",
    "#                           numFolds=3)\n",
    "\n",
    "# fitModel = crossval.fit(dev_data)\n",
    "\n",
    "# best_model = fitModel.bestModel\n",
    "\n",
    "# print(\"maxDepth:\", best_model.getOrDefault(\"maxDepth\"))\n",
    "# print(\"maxBins:\", best_model.getOrDefault(\"maxBins\"))\n",
    "# print(\"maxIter:\", best_model.getOrDefault(\"maxIter\"))"
   ]
  },
  {
   "cell_type": "code",
   "execution_count": 52,
   "metadata": {},
   "outputs": [
    {
     "name": "stderr",
     "output_type": "stream",
     "text": [
      "                                                                                \r"
     ]
    }
   ],
   "source": [
    "gbt = GBTRegressor(featuresCol=\"scaled_features_vector\", labelCol=\"min_delay\", maxDepth=5, maxBins=128, maxIter=20)\n",
    "gbt_model = gbt.fit(train_data)"
   ]
  },
  {
   "cell_type": "code",
   "execution_count": 53,
   "metadata": {},
   "outputs": [
    {
     "name": "stderr",
     "output_type": "stream",
     "text": [
      "                                                                                \r"
     ]
    },
    {
     "name": "stdout",
     "output_type": "stream",
     "text": [
      "MSE: 9.86400380320847\n",
      "RMSE: 3.1407011642638767\n",
      "MAE: 1.0983258690286752\n",
      "R-squared: 0.8800584058522178\n"
     ]
    },
    {
     "name": "stderr",
     "output_type": "stream",
     "text": [
      "                                                                                \r"
     ]
    }
   ],
   "source": [
    "gbt_predictions = gbt_model.transform(test_data)\n",
    "evaluator(gbt_predictions)"
   ]
  },
  {
   "cell_type": "code",
   "execution_count": null,
   "metadata": {},
   "outputs": [],
   "source": [
    "# MSE: 10.536299213621342\n",
    "# RMSE: 3.245966606978781\n",
    "# MAE: 1.111105763901118\n",
    "# R-squared: 0.8703648100702991"
   ]
  },
  {
   "cell_type": "markdown",
   "metadata": {},
   "source": [
    "# 2. Subway"
   ]
  },
  {
   "cell_type": "code",
   "execution_count": 21,
   "metadata": {},
   "outputs": [
    {
     "name": "stderr",
     "output_type": "stream",
     "text": [
      "                                                                                \r"
     ]
    },
    {
     "name": "stdout",
     "output_type": "stream",
     "text": [
      "<class 'pandas.core.frame.DataFrame'>\n",
      "RangeIndex: 7382 entries, 0 to 7381\n",
      "Data columns (total 25 columns):\n",
      " #   Column           Non-Null Count  Dtype         \n",
      "---  ------           --------------  -----         \n",
      " 0   date             7382 non-null   object        \n",
      " 1   time             7382 non-null   datetime64[ns]\n",
      " 2   day              7382 non-null   object        \n",
      " 3   station          7382 non-null   object        \n",
      " 4   code             7382 non-null   object        \n",
      " 5   min_delay        7382 non-null   int32         \n",
      " 6   min_gap          7382 non-null   int32         \n",
      " 7   bound            7382 non-null   object        \n",
      " 8   line             7382 non-null   object        \n",
      " 9   vehicle          7382 non-null   int32         \n",
      " 10  day_month        7382 non-null   int32         \n",
      " 11  month            7382 non-null   int32         \n",
      " 12  hour             7382 non-null   int32         \n",
      " 13  min              7382 non-null   int32         \n",
      " 14  at_station       7382 non-null   int32         \n",
      " 15  day_indexed      7382 non-null   int32         \n",
      " 16  code_indexed     7382 non-null   int32         \n",
      " 17  bound_indexed    7382 non-null   int32         \n",
      " 18  line_indexed     7382 non-null   int32         \n",
      " 19  station_indexed  7382 non-null   int32         \n",
      " 20  station_w2v      7382 non-null   object        \n",
      " 21  features         7382 non-null   object        \n",
      " 22  scaled           7382 non-null   object        \n",
      " 23  features_index   7382 non-null   object        \n",
      " 24  scaled_index     7382 non-null   object        \n",
      "dtypes: datetime64[ns](1), int32(13), object(11)\n",
      "memory usage: 1.0+ MB\n"
     ]
    }
   ],
   "source": [
    "subway = spark.read.csv(\"../data/features_data/subway_feature_pd.csv\", inferSchema=True, header=True)\n",
    "subway.toPandas().info()"
   ]
  },
  {
   "cell_type": "code",
   "execution_count": 65,
   "metadata": {},
   "outputs": [],
   "source": [
    "# string_to_list_udf = udf(lambda s: ast.literal_eval(s), ArrayType(FloatType()))\n",
    "\n",
    "# subway = subway.withColumn(\"scaled_features_list\", string_to_list_udf(\"scaled_features\"))\n",
    "# list_to_vector_udf = udf(lambda l: Vectors.dense(l), VectorUDT())\n",
    "\n",
    "# subway = subway.withColumn(\"scaled_features_vector\", list_to_vector_udf(\"scaled_features_list\"))"
   ]
  },
  {
   "cell_type": "code",
   "execution_count": 22,
   "metadata": {},
   "outputs": [],
   "source": [
    "string_to_list_udf = udf(lambda s: ast.literal_eval(s), ArrayType(FloatType()))\n",
    "\n",
    "subway = subway.withColumn(\"scaled_features_list\", string_to_list_udf(\"scaled\"))\n",
    "\n",
    "list_to_vector_udf = udf(lambda l: Vectors.dense(l), VectorUDT())\n",
    "\n",
    "subway = subway.withColumn(\"scaled_features_vector\", list_to_vector_udf(\"scaled_features_list\"))"
   ]
  },
  {
   "cell_type": "code",
   "execution_count": 23,
   "metadata": {},
   "outputs": [
    {
     "name": "stderr",
     "output_type": "stream",
     "text": [
      "                                                                                \r"
     ]
    },
    {
     "name": "stdout",
     "output_type": "stream",
     "text": [
      "<class 'pandas.core.frame.DataFrame'>\n",
      "RangeIndex: 7382 entries, 0 to 7381\n",
      "Data columns (total 27 columns):\n",
      " #   Column                  Non-Null Count  Dtype         \n",
      "---  ------                  --------------  -----         \n",
      " 0   date                    7382 non-null   object        \n",
      " 1   time                    7382 non-null   datetime64[ns]\n",
      " 2   day                     7382 non-null   object        \n",
      " 3   station                 7382 non-null   object        \n",
      " 4   code                    7382 non-null   object        \n",
      " 5   min_delay               7382 non-null   int32         \n",
      " 6   min_gap                 7382 non-null   int32         \n",
      " 7   bound                   7382 non-null   object        \n",
      " 8   line                    7382 non-null   object        \n",
      " 9   vehicle                 7382 non-null   int32         \n",
      " 10  day_month               7382 non-null   int32         \n",
      " 11  month                   7382 non-null   int32         \n",
      " 12  hour                    7382 non-null   int32         \n",
      " 13  min                     7382 non-null   int32         \n",
      " 14  at_station              7382 non-null   int32         \n",
      " 15  day_indexed             7382 non-null   int32         \n",
      " 16  code_indexed            7382 non-null   int32         \n",
      " 17  bound_indexed           7382 non-null   int32         \n",
      " 18  line_indexed            7382 non-null   int32         \n",
      " 19  station_indexed         7382 non-null   int32         \n",
      " 20  station_w2v             7382 non-null   object        \n",
      " 21  features                7382 non-null   object        \n",
      " 22  scaled                  7382 non-null   object        \n",
      " 23  features_index          7382 non-null   object        \n",
      " 24  scaled_index            7382 non-null   object        \n",
      " 25  scaled_features_list    7382 non-null   object        \n",
      " 26  scaled_features_vector  7382 non-null   object        \n",
      "dtypes: datetime64[ns](1), int32(13), object(13)\n",
      "memory usage: 1.2+ MB\n"
     ]
    }
   ],
   "source": [
    "subway.toPandas().info()"
   ]
  },
  {
   "cell_type": "code",
   "execution_count": 24,
   "metadata": {},
   "outputs": [],
   "source": [
    "train_data, dev_data, test_data = subway.randomSplit([0.7, 0.15, 0.15], seed=42)"
   ]
  },
  {
   "cell_type": "markdown",
   "metadata": {},
   "source": [
    "### 1.2 Ridge regression"
   ]
  },
  {
   "cell_type": "code",
   "execution_count": 77,
   "metadata": {},
   "outputs": [
    {
     "name": "stdout",
     "output_type": "stream",
     "text": [
      "regParam: 0.1\n"
     ]
    }
   ],
   "source": [
    "# # Tạo một mô hình\n",
    "# model = LinearRegression(featuresCol=\"scaled_features_vector\", labelCol=\"min_delay\", elasticNetParam=0.0)\n",
    "\n",
    "# # Tạo một ParamGridBuilder\n",
    "# param_grid = ParamGridBuilder() \\\n",
    "#     .addGrid(model.regParam, [0.1, 0.01, 0.001]) \\\n",
    "#     .build()\n",
    "\n",
    "# # Tạo một CrossValidator\n",
    "# crossval = CrossValidator(estimator=model,\n",
    "#                           estimatorParamMaps=param_grid,\n",
    "#                           evaluator=RegressionEvaluator(metricName=\"rmse\", labelCol=\"min_delay\"),\n",
    "#                           numFolds=3)\n",
    "\n",
    "# fitModel = crossval.fit(dev_data)\n",
    "\n",
    "# best_model = fitModel.bestModel\n",
    "\n",
    "# print(\"regParam:\", best_model.getOrDefault(\"regParam\"))"
   ]
  },
  {
   "cell_type": "code",
   "execution_count": 25,
   "metadata": {},
   "outputs": [
    {
     "name": "stderr",
     "output_type": "stream",
     "text": [
      "                                                                                \r"
     ]
    }
   ],
   "source": [
    "# Tạo một mô hình Ridge Regression\n",
    "ridge = LinearRegression(featuresCol=\"scaled_features_vector\", labelCol=\"min_delay\", elasticNetParam=0.0, regParam=0.1)\n",
    "ridge_model = ridge.fit(train_data)\n"
   ]
  },
  {
   "cell_type": "code",
   "execution_count": 26,
   "metadata": {},
   "outputs": [
    {
     "name": "stdout",
     "output_type": "stream",
     "text": [
      "MSE: 7.442551664266598\n",
      "RMSE: 2.728104042053125\n",
      "MAE: 1.4477730151606374\n",
      "R-squared: 0.7841985634475148\n"
     ]
    }
   ],
   "source": [
    "ridge_predictions = ridge_model.transform(test_data)\n",
    "evaluator(ridge_predictions)"
   ]
  },
  {
   "cell_type": "code",
   "execution_count": null,
   "metadata": {},
   "outputs": [],
   "source": [
    "# MSE: 7.442551664266598\n",
    "# RMSE: 2.728104042053125\n",
    "# MAE: 1.4477730151606374\n",
    "# R-squared: 0.7841985634475148"
   ]
  },
  {
   "cell_type": "markdown",
   "metadata": {},
   "source": [
    "### decision trees"
   ]
  },
  {
   "cell_type": "code",
   "execution_count": 16,
   "metadata": {},
   "outputs": [
    {
     "name": "stdout",
     "output_type": "stream",
     "text": [
      "maxDepth: 5\n",
      "maxBins: 64\n"
     ]
    }
   ],
   "source": [
    "# # Tạo một mô hình\n",
    "# model = DecisionTreeRegressor(featuresCol=\"scaled_features_vector\", labelCol=\"min_delay\")\n",
    "\n",
    "# # Tạo một ParamGridBuilder\n",
    "# param_grid = ParamGridBuilder() \\\n",
    "#             .addGrid(model.maxDepth, [2, 5, 10, 20, 30]) \\\n",
    "#             .addGrid(model.maxBins, [32, 64, 128]) \\\n",
    "#             .build()\n",
    "\n",
    "# # Tạo một CrossValidator\n",
    "# crossval = CrossValidator(estimator=model,\n",
    "#                           estimatorParamMaps=param_grid,\n",
    "#                           evaluator=RegressionEvaluator(metricName=\"rmse\", labelCol=\"min_delay\"),\n",
    "#                           numFolds=3)\n",
    "\n",
    "# fitModel = crossval.fit(dev_data)\n",
    "\n",
    "# best_model = fitModel.bestModel\n",
    "\n",
    "# print(\"maxDepth:\", best_model.getOrDefault(\"maxDepth\"))\n",
    "# print(\"maxBins:\", best_model.getOrDefault(\"maxBins\"))"
   ]
  },
  {
   "cell_type": "code",
   "execution_count": 27,
   "metadata": {},
   "outputs": [],
   "source": [
    "decision_tree = DecisionTreeRegressor(featuresCol=\"scaled_features_vector\", labelCol=\"min_delay\", maxDepth=5, maxBins=128)\n",
    "decision_tree_model = decision_tree.fit(train_data)"
   ]
  },
  {
   "cell_type": "code",
   "execution_count": 28,
   "metadata": {},
   "outputs": [
    {
     "name": "stdout",
     "output_type": "stream",
     "text": [
      "MSE: 3.233354002637506\n",
      "RMSE: 1.79815294194835\n",
      "MAE: 0.9424879280879955\n",
      "R-squared: 0.906246880085224\n"
     ]
    }
   ],
   "source": [
    "decision_tree_predictions = decision_tree_model.transform(test_data)\n",
    "evaluator(decision_tree_predictions)"
   ]
  },
  {
   "cell_type": "code",
   "execution_count": null,
   "metadata": {},
   "outputs": [],
   "source": [
    "# MSE: 2.2079554382698614\n",
    "# RMSE: 1.485919055086737\n",
    "# MAE: 0.9015402672112608\n",
    "# R-squared: 0.9327149447226201"
   ]
  },
  {
   "cell_type": "markdown",
   "metadata": {},
   "source": [
    "### random forests"
   ]
  },
  {
   "cell_type": "code",
   "execution_count": 92,
   "metadata": {},
   "outputs": [],
   "source": [
    "# # Tạo một mô hình\n",
    "# model = RandomForestRegressor(featuresCol=\"scaled_features_vector\", labelCol=\"min_delay\")\n",
    "\n",
    "# # Tạo một ParamGridBuilder\n",
    "# param_grid = ParamGridBuilder() \\\n",
    "#             .addGrid(model.maxDepth, [5, 10, 15]) \\\n",
    "#             .addGrid(model.maxBins, [32, 64, 128]) \\\n",
    "#             .addGrid(model.numTrees, [10, 20, 30]) \\\n",
    "#             .build()\n",
    "\n",
    "# # Tạo một CrossValidator\n",
    "# crossval = CrossValidator(estimator=model,\n",
    "#                           estimatorParamMaps=param_grid,\n",
    "#                           evaluator=RegressionEvaluator(metricName=\"rmse\", labelCol=\"min_delay\"),\n",
    "#                           numFolds=3)\n",
    "\n",
    "# fitModel = crossval.fit(dev_data)\n",
    "\n",
    "# best_model = fitModel.bestModel\n",
    "\n",
    "# print(\"maxDepth:\", best_model.getOrDefault(\"maxDepth\"))\n",
    "# print(\"maxBins:\", best_model.getOrDefault(\"maxBins\"))\n",
    "# print(\"numTrees:\", best_model.getOrDefault(\"numTrees\"))"
   ]
  },
  {
   "cell_type": "code",
   "execution_count": 29,
   "metadata": {},
   "outputs": [
    {
     "name": "stderr",
     "output_type": "stream",
     "text": [
      "24/07/02 23:12:28 WARN DAGScheduler: Broadcasting large task binary with size 1010.1 KiB\n",
      "24/07/02 23:12:28 WARN DAGScheduler: Broadcasting large task binary with size 1615.0 KiB\n",
      "24/07/02 23:12:29 WARN DAGScheduler: Broadcasting large task binary with size 2.4 MiB\n",
      "24/07/02 23:12:29 WARN DAGScheduler: Broadcasting large task binary with size 3.5 MiB\n",
      "24/07/02 23:12:30 WARN DAGScheduler: Broadcasting large task binary with size 4.8 MiB\n",
      "24/07/02 23:12:31 WARN DAGScheduler: Broadcasting large task binary with size 6.2 MiB\n",
      "24/07/02 23:12:31 WARN DAGScheduler: Broadcasting large task binary with size 7.6 MiB\n",
      "24/07/02 23:12:32 WARN DAGScheduler: Broadcasting large task binary with size 9.0 MiB\n"
     ]
    }
   ],
   "source": [
    "random_forests = RandomForestRegressor(featuresCol=\"scaled_features_vector\", labelCol=\"min_delay\", maxDepth=15, maxBins=128, numTrees= 30)\n",
    "random_forests_model = random_forests.fit(train_data)"
   ]
  },
  {
   "cell_type": "code",
   "execution_count": 30,
   "metadata": {},
   "outputs": [
    {
     "name": "stdout",
     "output_type": "stream",
     "text": [
      "MSE: 3.108324554349222\n",
      "RMSE: 1.7630441158261532\n",
      "MAE: 0.9522713789278683\n",
      "R-squared: 0.9098721870725468\n"
     ]
    }
   ],
   "source": [
    "random_forests_predictions = random_forests_model.transform(test_data)\n",
    "evaluator(random_forests_predictions)"
   ]
  },
  {
   "cell_type": "code",
   "execution_count": null,
   "metadata": {},
   "outputs": [],
   "source": [
    "# MSE: 2.4413778377078024\n",
    "# RMSE: 1.5624909080400444\n",
    "# MAE: 0.9419932877792747\n",
    "# R-squared: 0.9256016494192205"
   ]
  },
  {
   "cell_type": "markdown",
   "metadata": {},
   "source": [
    "### gradient-boosted trees"
   ]
  },
  {
   "cell_type": "code",
   "execution_count": null,
   "metadata": {},
   "outputs": [],
   "source": [
    "# # Tạo một mô hình\n",
    "# model = GBTRegressor(featuresCol=\"scaled_features_vector\", labelCol=\"min_delay\")\n",
    "\n",
    "# # Tạo một ParamGridBuilder\n",
    "# param_grid = ParamGridBuilder() \\\n",
    "#             .addGrid(model.maxDepth, [2, 5, 10]) \\\n",
    "#             .addGrid(model.maxBins, [32, 64, 128]) \\\n",
    "#             .addGrid(model.maxIter, [10, 20, 15]) \\\n",
    "#             .build()\n",
    "\n",
    "# # Tạo một CrossValidator\n",
    "# crossval = CrossValidator(estimator=model,\n",
    "#                           estimatorParamMaps=param_grid,\n",
    "#                           evaluator=RegressionEvaluator(metricName=\"rmse\", labelCol=\"min_delay\"),\n",
    "#                           numFolds=3)\n",
    "\n",
    "# fitModel = crossval.fit(dev_data)\n",
    "\n",
    "# best_model = fitModel.bestModel\n",
    "\n",
    "# print(\"maxDepth:\", best_model.getOrDefault(\"maxDepth\"))\n",
    "# print(\"maxBins:\", best_model.getOrDefault(\"maxBins\"))\n",
    "# print(\"maxIter:\", best_model.getOrDefault(\"maxIter\"))"
   ]
  },
  {
   "cell_type": "code",
   "execution_count": 31,
   "metadata": {},
   "outputs": [],
   "source": [
    "gbt = GBTRegressor(featuresCol=\"scaled_features_vector\", labelCol=\"min_delay\", maxDepth=5, maxBins=128, maxIter=10)\n",
    "gbt_model = gbt.fit(train_data)"
   ]
  },
  {
   "cell_type": "code",
   "execution_count": 32,
   "metadata": {},
   "outputs": [
    {
     "name": "stderr",
     "output_type": "stream",
     "text": [
      "                                                                                \r"
     ]
    },
    {
     "name": "stdout",
     "output_type": "stream",
     "text": [
      "MSE: 2.633249583453101\n",
      "RMSE: 1.622729054233362\n",
      "MAE: 0.8212140801305352\n",
      "R-squared: 0.9236472827405747\n"
     ]
    }
   ],
   "source": [
    "gbt_predictions = gbt_model.transform(test_data)\n",
    "evaluator(gbt_predictions)"
   ]
  },
  {
   "cell_type": "code",
   "execution_count": null,
   "metadata": {},
   "outputs": [],
   "source": [
    "# MSE: 1.8307272936196486\n",
    "# RMSE: 1.3530437146004\n",
    "# MAE: 0.7692065596140352\n",
    "# R-squared: 0.9442105646636013"
   ]
  },
  {
   "cell_type": "code",
   "execution_count": null,
   "metadata": {},
   "outputs": [],
   "source": []
  },
  {
   "cell_type": "code",
   "execution_count": null,
   "metadata": {},
   "outputs": [],
   "source": []
  }
 ],
 "metadata": {
  "kernelspec": {
   "display_name": ".venv",
   "language": "python",
   "name": "python3"
  },
  "language_info": {
   "codemirror_mode": {
    "name": "ipython",
    "version": 3
   },
   "file_extension": ".py",
   "mimetype": "text/x-python",
   "name": "python",
   "nbconvert_exporter": "python",
   "pygments_lexer": "ipython3",
   "version": "3.10.12"
  }
 },
 "nbformat": 4,
 "nbformat_minor": 2
}
