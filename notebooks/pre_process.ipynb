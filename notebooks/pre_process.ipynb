{
 "cells": [
  {
   "cell_type": "code",
   "execution_count": 1,
   "metadata": {},
   "outputs": [],
   "source": [
    "import numpy as np\n",
    "import pandas as pd\n",
    "import matplotlib.pyplot as plt\n",
    "import seaborn as sns\n",
    "import re\n",
    "from string import punctuation"
   ]
  },
  {
   "cell_type": "code",
   "execution_count": 2,
   "metadata": {},
   "outputs": [],
   "source": [
    "pd.set_option('display.max_rows', None)\n",
    "pd.set_option('display.max_columns', None)"
   ]
  },
  {
   "cell_type": "code",
   "execution_count": 3,
   "metadata": {},
   "outputs": [],
   "source": [
    "def trim(dataset):\n",
    "  # using .strip() to remove the leading and the trailing white spaces in each cell\n",
    "  trim = lambda x: x.strip() if type(x) is str else x\n",
    "  return dataset.applymap(trim)"
   ]
  },
  {
   "cell_type": "markdown",
   "metadata": {},
   "source": [
    "# 1. Bus"
   ]
  },
  {
   "cell_type": "code",
   "execution_count": 90,
   "metadata": {},
   "outputs": [
    {
     "data": {
      "text/html": [
       "<div>\n",
       "<style scoped>\n",
       "    .dataframe tbody tr th:only-of-type {\n",
       "        vertical-align: middle;\n",
       "    }\n",
       "\n",
       "    .dataframe tbody tr th {\n",
       "        vertical-align: top;\n",
       "    }\n",
       "\n",
       "    .dataframe thead th {\n",
       "        text-align: right;\n",
       "    }\n",
       "</style>\n",
       "<table border=\"1\" class=\"dataframe\">\n",
       "  <thead>\n",
       "    <tr style=\"text-align: right;\">\n",
       "      <th></th>\n",
       "      <th>Date</th>\n",
       "      <th>Route</th>\n",
       "      <th>Time</th>\n",
       "      <th>Day</th>\n",
       "      <th>Location</th>\n",
       "      <th>Incident</th>\n",
       "      <th>Min Delay</th>\n",
       "      <th>Min Gap</th>\n",
       "      <th>Direction</th>\n",
       "      <th>Vehicle</th>\n",
       "    </tr>\n",
       "  </thead>\n",
       "  <tbody>\n",
       "    <tr>\n",
       "      <th>0</th>\n",
       "      <td>2023-01-01</td>\n",
       "      <td>91</td>\n",
       "      <td>02:30</td>\n",
       "      <td>Sunday</td>\n",
       "      <td>WOODBINE AND MORTIMER</td>\n",
       "      <td>Diversion</td>\n",
       "      <td>81</td>\n",
       "      <td>111</td>\n",
       "      <td>NaN</td>\n",
       "      <td>8772</td>\n",
       "    </tr>\n",
       "    <tr>\n",
       "      <th>1</th>\n",
       "      <td>2023-01-01</td>\n",
       "      <td>69</td>\n",
       "      <td>02:34</td>\n",
       "      <td>Sunday</td>\n",
       "      <td>WARDEN STATION</td>\n",
       "      <td>Security</td>\n",
       "      <td>22</td>\n",
       "      <td>44</td>\n",
       "      <td>S</td>\n",
       "      <td>8407</td>\n",
       "    </tr>\n",
       "    <tr>\n",
       "      <th>2</th>\n",
       "      <td>2023-01-01</td>\n",
       "      <td>35</td>\n",
       "      <td>03:06</td>\n",
       "      <td>Sunday</td>\n",
       "      <td>JANE STATION</td>\n",
       "      <td>Cleaning - Unsanitary</td>\n",
       "      <td>30</td>\n",
       "      <td>60</td>\n",
       "      <td>N</td>\n",
       "      <td>1051</td>\n",
       "    </tr>\n",
       "    <tr>\n",
       "      <th>3</th>\n",
       "      <td>2023-01-01</td>\n",
       "      <td>900</td>\n",
       "      <td>03:14</td>\n",
       "      <td>Sunday</td>\n",
       "      <td>KIPLING STATION</td>\n",
       "      <td>Security</td>\n",
       "      <td>17</td>\n",
       "      <td>17</td>\n",
       "      <td>NaN</td>\n",
       "      <td>3334</td>\n",
       "    </tr>\n",
       "    <tr>\n",
       "      <th>4</th>\n",
       "      <td>2023-01-01</td>\n",
       "      <td>85</td>\n",
       "      <td>03:43</td>\n",
       "      <td>Sunday</td>\n",
       "      <td>MEADOWALE LOOP</td>\n",
       "      <td>Security</td>\n",
       "      <td>1</td>\n",
       "      <td>1</td>\n",
       "      <td>NaN</td>\n",
       "      <td>1559</td>\n",
       "    </tr>\n",
       "  </tbody>\n",
       "</table>\n",
       "</div>"
      ],
      "text/plain": [
       "        Date Route   Time     Day               Location  \\\n",
       "0 2023-01-01    91  02:30  Sunday  WOODBINE AND MORTIMER   \n",
       "1 2023-01-01    69  02:34  Sunday         WARDEN STATION   \n",
       "2 2023-01-01    35  03:06  Sunday           JANE STATION   \n",
       "3 2023-01-01   900  03:14  Sunday        KIPLING STATION   \n",
       "4 2023-01-01    85  03:43  Sunday         MEADOWALE LOOP   \n",
       "\n",
       "                Incident  Min Delay  Min Gap Direction  Vehicle  \n",
       "0              Diversion         81      111       NaN     8772  \n",
       "1               Security         22       44         S     8407  \n",
       "2  Cleaning - Unsanitary         30       60         N     1051  \n",
       "3               Security         17       17       NaN     3334  \n",
       "4               Security          1        1       NaN     1559  "
      ]
     },
     "execution_count": 90,
     "metadata": {},
     "output_type": "execute_result"
    }
   ],
   "source": [
    "df_bus = pd.read_excel('../data/raw_data/ttc-bus-delay-data-2023.xlsx')\n",
    "df_bus.head()"
   ]
  },
  {
   "cell_type": "markdown",
   "metadata": {},
   "source": [
    "## 1.1 Overview"
   ]
  },
  {
   "cell_type": "code",
   "execution_count": 91,
   "metadata": {},
   "outputs": [
    {
     "name": "stdout",
     "output_type": "stream",
     "text": [
      "<class 'pandas.core.frame.DataFrame'>\n",
      "RangeIndex: 56207 entries, 0 to 56206\n",
      "Data columns (total 10 columns):\n",
      " #   Column     Non-Null Count  Dtype         \n",
      "---  ------     --------------  -----         \n",
      " 0   Date       56207 non-null  datetime64[ns]\n",
      " 1   Route      55637 non-null  object        \n",
      " 2   Time       56207 non-null  object        \n",
      " 3   Day        56207 non-null  object        \n",
      " 4   Location   56207 non-null  object        \n",
      " 5   Incident   56207 non-null  object        \n",
      " 6   Min Delay  56207 non-null  int64         \n",
      " 7   Min Gap    56207 non-null  int64         \n",
      " 8   Direction  46667 non-null  object        \n",
      " 9   Vehicle    56207 non-null  int64         \n",
      "dtypes: datetime64[ns](1), int64(3), object(6)\n",
      "memory usage: 4.3+ MB\n"
     ]
    }
   ],
   "source": [
    "df_bus.info()"
   ]
  },
  {
   "cell_type": "code",
   "execution_count": 92,
   "metadata": {},
   "outputs": [
    {
     "name": "stdout",
     "output_type": "stream",
     "text": [
      "Date (365,)\n",
      "Route (264,)\n",
      "Time (1440,)\n",
      "Day (7,)\n",
      "Location (11684,)\n",
      "Incident (13,)\n",
      "Min Delay (500,)\n",
      "Min Gap (538,)\n",
      "Direction (16,)\n",
      "Vehicle (2392,)\n"
     ]
    },
    {
     "data": {
      "text/plain": [
       "[None, None, None, None, None, None, None, None, None, None]"
      ]
     },
     "execution_count": 92,
     "metadata": {},
     "output_type": "execute_result"
    }
   ],
   "source": [
    "[print(i,df_bus[i].value_counts().shape) for i in df_bus.columns]"
   ]
  },
  {
   "cell_type": "code",
   "execution_count": 93,
   "metadata": {},
   "outputs": [],
   "source": [
    "bus_df = df_bus.copy()"
   ]
  },
  {
   "cell_type": "code",
   "execution_count": 94,
   "metadata": {},
   "outputs": [],
   "source": [
    "bus_df.columns = [i.replace(' ', '_').lower() for i in bus_df.columns]"
   ]
  },
  {
   "cell_type": "code",
   "execution_count": 95,
   "metadata": {},
   "outputs": [
    {
     "data": {
      "text/plain": [
       "date            0\n",
       "route         570\n",
       "time            0\n",
       "day             0\n",
       "location        0\n",
       "incident        0\n",
       "min_delay       0\n",
       "min_gap         0\n",
       "direction    9540\n",
       "vehicle         0\n",
       "dtype: int64"
      ]
     },
     "execution_count": 95,
     "metadata": {},
     "output_type": "execute_result"
    }
   ],
   "source": [
    "bus_df.isna().sum()"
   ]
  },
  {
   "cell_type": "code",
   "execution_count": 96,
   "metadata": {},
   "outputs": [],
   "source": [
    "# bus_df['direction'].fillna('unknown', inplace = True)\n",
    "# bus_df.dropna(subset=['route'], inplace=True)"
   ]
  },
  {
   "cell_type": "markdown",
   "metadata": {},
   "source": [
    "## 1.2 Route"
   ]
  },
  {
   "cell_type": "code",
   "execution_count": 97,
   "metadata": {},
   "outputs": [
    {
     "data": {
      "text/plain": [
       "array([91, 69, 35, 900, 85, 40, 336, 52, 24, 36, 300, 320, 960, 307, 96,\n",
       "       73, 102, 90, 112, 72, 34, 106, 84, 81, 63, 25, 57, 86, 124, 38, 59,\n",
       "       43, 51, 87, 104, 47, 32, 71, 165, 108, 68, 89, 929, 53, 95, 504,\n",
       "       13, 60, 94, 11, 7, 927, 39, 65, 935, 116, 161, 17, 14, 98, 335, 45,\n",
       "       131, 31, 80, 118, nan, 33, 120, 169, 61, 985, 100, 939, 79, 83, 29,\n",
       "       56, 168, 109, 353, 30, 12, 105, 134, 121, 110, 15, 76, 107, 41,\n",
       "       129, 54, 44, 123, 75, 10, 160, 133, 67, 126, 50, 70, 905, 167, 925,\n",
       "       984, 600, 46, 42, 310, 954, 945, 995, 127, 62, 941, 135, 122, 26,\n",
       "       996, 19, 113, 9, 176, 111, 21, 924, 989, 952, 119, 130, 22, 37,\n",
       "       902, 986, 953, 944, 97, 92, 501, 74, 16, 101, 66, 77, 937, 20, 385,\n",
       "       999, 943, 396, 363, 82, 312, 324, 55, 125, 99, 23, 132, 48, 28,\n",
       "       343, 329, 334, 64, 88, 171, 78, 339, 301, 968, 'RAD 600', 325,\n",
       "       'RAD', 49, 162, 395, 93, 337, 322, 332, 8, 365, 115, 341, 468, 315,\n",
       "       938, 'SHUTTLE', 354, 'A236', 189, 510, 352, 302, 'LINE 1', 'OTC',\n",
       "       555, 58, 1176, 'RSEM', 'RAD 21', 511, 701, 'LIINE 1', 'FLEET',\n",
       "       'YU', 'BD', 'NON', 'SHP', 304, 899, 'HILLCREST', 128, 1, 2, 512,\n",
       "       810, 232, 202, 506, 200, 384, 306, 'LINE 2',\n",
       "       'SHUTTLE BUS - LINE 2', 'BROADVIEW', 203, 'RAD / 501', 184, 903,\n",
       "       725, 201, 462, 'LINE 3', 'SRT', 505, 'SRT SHUTTE LINE 3', 503,\n",
       "       'CARIBANA', 'A', 1096, 686, 450, 145, 460, 362, 500, 9525, 507,\n",
       "       513, 'LINE1', '600 - ROUTE LINE 1', '927 HIGHWAY 27', '600 (75',\n",
       "       'LINE 1 SHUTTLE - 600', '600 - ROUTE 301',\n",
       "       '52 LAWRENCE WEST - 600', 'CHANGEOF', 1247, 1068, 4,\n",
       "       '600 RAD - 300'], dtype=object)"
      ]
     },
     "execution_count": 97,
     "metadata": {},
     "output_type": "execute_result"
    }
   ],
   "source": [
    "bus_df['route'].unique()"
   ]
  },
  {
   "cell_type": "code",
   "execution_count": 98,
   "metadata": {},
   "outputs": [],
   "source": [
    "bus_df.dropna(subset=['route'], inplace=True)"
   ]
  },
  {
   "cell_type": "code",
   "execution_count": 99,
   "metadata": {},
   "outputs": [],
   "source": [
    "\n",
    "bus_df['route'] = pd.to_numeric(bus_df['route'], errors='coerce')\n",
    "bus_df.dropna(subset=['route'], inplace=True)\n",
    "bus_df['route'] = bus_df['route'].astype('int')"
   ]
  },
  {
   "cell_type": "code",
   "execution_count": 100,
   "metadata": {},
   "outputs": [],
   "source": [
    "bus_df = bus_df[~((bus_df['route'] >= 600) & (bus_df['route'] <900))]\n",
    "bus_df = bus_df.loc[(bus_df['route'] >= 5) & (bus_df['route'] <= 999)]"
   ]
  },
  {
   "cell_type": "markdown",
   "metadata": {},
   "source": [
    "## 1.3 Direction"
   ]
  },
  {
   "cell_type": "code",
   "execution_count": 101,
   "metadata": {},
   "outputs": [
    {
     "data": {
      "text/plain": [
       "direction\n",
       "N    12809\n",
       "S    12081\n",
       "E    11018\n",
       "W    10125\n",
       "B       58\n",
       "`        2\n",
       "D        1\n",
       "1        1\n",
       "\\        1\n",
       "L        1\n",
       "G        1\n",
       "H        1\n",
       "7        1\n",
       "/        1\n",
       "0        1\n",
       "M        1\n",
       "Name: count, dtype: int64"
      ]
     },
     "execution_count": 101,
     "metadata": {},
     "output_type": "execute_result"
    }
   ],
   "source": [
    "bus_df['direction'].value_counts()"
   ]
  },
  {
   "cell_type": "code",
   "execution_count": 102,
   "metadata": {},
   "outputs": [],
   "source": [
    "bus_df['direction'] = bus_df['direction'].replace(['B', '`', 'H','0', '/', '7', '1', 'G','L',\"\\\\\",'D','M'], 'unknown')\n",
    "bus_df['direction'] = bus_df['direction'].fillna('unknown')"
   ]
  },
  {
   "cell_type": "code",
   "execution_count": 103,
   "metadata": {},
   "outputs": [
    {
     "data": {
      "text/plain": [
       "direction\n",
       "N          12809\n",
       "S          12081\n",
       "E          11018\n",
       "W          10125\n",
       "unknown     8952\n",
       "Name: count, dtype: int64"
      ]
     },
     "execution_count": 103,
     "metadata": {},
     "output_type": "execute_result"
    }
   ],
   "source": [
    "bus_df['direction'].value_counts()"
   ]
  },
  {
   "cell_type": "markdown",
   "metadata": {},
   "source": [
    "## 1.4 Location"
   ]
  },
  {
   "cell_type": "code",
   "execution_count": 104,
   "metadata": {},
   "outputs": [
    {
     "data": {
      "text/plain": [
       "11361"
      ]
     },
     "execution_count": 104,
     "metadata": {},
     "output_type": "execute_result"
    }
   ],
   "source": [
    "len(bus_df[\"location\"].value_counts())"
   ]
  },
  {
   "cell_type": "code",
   "execution_count": 105,
   "metadata": {},
   "outputs": [],
   "source": [
    "# chuẩn hóa một số dấu phân cách\n",
    "bus_df['location'] = [i.replace('(', '').lower() for i in bus_df['location']]\n",
    "bus_df['location'] = [i.replace(')', '') for i in bus_df['location']]\n",
    "bus_df['location'] = [i.replace(' ', '_') for i in bus_df['location']]\n",
    "bus_df['location'] = [i.replace('  ', '_') for i in bus_df['location']]\n",
    "bus_df['location'] = [i.replace('.', '_') for i in bus_df['location']]\n",
    "bus_df['location'] = [i.replace(\"'\", '_') for i in bus_df['location']]\n",
    "bus_df['location'] = [i.replace('__', '_') for i in bus_df['location']]\n",
    "bus_df['location'] = [i.replace('___', '_') for i in bus_df['location']]\n",
    "bus_df['location'] = [i.replace('_-_', '_') for i in bus_df['location']]\n",
    "bus_df['location'] = [i.replace('-', '_') for i in bus_df['location']]\n",
    "bus_df['location'] = [i.replace('--', '_') for i in bus_df['location']]\n",
    "\n",
    "bus_df['location'] = [i.replace('_nd_', '/') for i in bus_df['location']]\n",
    "bus_df['location'] = [i.replace('_/_', '/') for i in bus_df['location']]\n",
    "bus_df['location'] = [i.replace('_&_', '/') for i in bus_df['location']]\n",
    "bus_df['location'] = [i.replace('_at_', '/') for i in bus_df['location']]\n",
    "bus_df['location'] = [i.replace('_on_', '/') for i in bus_df['location']]\n",
    "bus_df['location'] = [i.replace('/on_', '/') for i in bus_df['location']]"
   ]
  },
  {
   "cell_type": "code",
   "execution_count": 106,
   "metadata": {},
   "outputs": [],
   "source": [
    "#Thay đổi một số từ viết tắt phổ biến\n",
    "bus_df['location'] = [i.replace('stn', 'station') for i in bus_df['location']]\n",
    "bus_df['location'] = [i.replace('stations', 'station') for i in bus_df['location']]\n",
    "bus_df['location'] = [i.replace('stationq', 'station') for i in bus_df['location']]\n",
    "bus_df['location'] = [i.replace('ave_', 'avenue_') for i in bus_df['location']]\n",
    "bus_df['location'] = [i.replace('_ave', '_avenue') for i in bus_df['location']]\n",
    "bus_df['location'] = [i.replace('street', 'st') for i in bus_df['location']]"
   ]
  },
  {
   "cell_type": "code",
   "execution_count": 107,
   "metadata": {},
   "outputs": [],
   "source": [
    "def checkexpression(expression):\n",
    "    '''\n",
    "    Takes a string and searches for similar entries in the locations dataframe created inside the functio.\n",
    "    expression must be put inside ''. e.g checkexpression('expression')\n",
    "    '''\n",
    "    assert isinstance(expression, str), \"Please add '' to your expresssion\"\n",
    "    locations = pd.DataFrame(bus_df['location'].value_counts())\n",
    "    #locations.reset_index(inplace = True)\n",
    "    locations = locations.rename(columns={\"index\": \"location\", \"location\": \"counts\"})\n",
    "    loop_list = locations.filter(like= expression , axis=0)\n",
    "    return loop_list.head(30)"
   ]
  },
  {
   "cell_type": "code",
   "execution_count": 108,
   "metadata": {},
   "outputs": [],
   "source": [
    "bus_df['location'] = bus_df['location'].replace(['stc_station', 'scarborough_town_centre','scarborough_town_centr', 'scarborough_centre_sta', 'scarborough_center_sta',\n",
    "                                                 'u_of_t_scarb_college_l', 'scarborough_town_stati', 'scarborough_town_cent', 'scarborough_cenntenary', \n",
    "                                                 'scarbrough_town_centre', 'scarbrough_town_centre', 'scarborough_towne_cent', 'scarborough_towne_cent', \n",
    "                                                 'scarborough_town_cente', 'scarborough_centre_cen', 'scarborough_ctr_station', 'scarborough_centre_st',\n",
    "                                                 'scarborough_centre', 'scarborough_town', 'scarborough_centre_bus', 'u_of_t_scarborough', 'u_of_t_scarborough_bus',\n",
    "                                                 'u_of_t_scarborough_c', 'u_of_t_scarborough_col', 'u_of_t_scarborough_loo', 'scarborough_u_of_t_loo'], 'scarborough_town_center_station')\n",
    "\n",
    "bus_df['location'] = bus_df['location'].replace(['kenendy_station'], 'kennedy_station')\n",
    "bus_df['location'] = bus_df['location'].replace(['yorkmills_station', 'york_mill_station'], 'york_mills_station')\n"
   ]
  },
  {
   "cell_type": "code",
   "execution_count": 109,
   "metadata": {},
   "outputs": [],
   "source": [
    "bus_df['location'] = [i.replace('_', ' ') for i in bus_df['location']]\n",
    "bus_df['location'] = [i.replace('/', ' ') for i in bus_df['location']]\n",
    "bus_df['location'] = [i.replace('   ', ' ') for i in bus_df['location']]\n",
    "bus_df['location'] = [i.replace('  ', ' ') for i in bus_df['location']]"
   ]
  },
  {
   "cell_type": "code",
   "execution_count": 110,
   "metadata": {},
   "outputs": [],
   "source": [
    "bus_df['location'] = bus_df['location'].str.lower().str.replace(rf'[{punctuation}]', '')"
   ]
  },
  {
   "cell_type": "code",
   "execution_count": null,
   "metadata": {},
   "outputs": [],
   "source": []
  },
  {
   "cell_type": "markdown",
   "metadata": {},
   "source": [
    "## 1.5 incident"
   ]
  },
  {
   "cell_type": "code",
   "execution_count": 111,
   "metadata": {},
   "outputs": [
    {
     "data": {
      "text/plain": [
       "incident\n",
       "Mechanical                          19001\n",
       "Operations - Operator               11165\n",
       "Security                             4652\n",
       "Diversion                            3777\n",
       "Collision - TTC                      3653\n",
       "General Delay                        3154\n",
       "Emergency Services                   2910\n",
       "Utilized Off Route                   2266\n",
       "Cleaning - Unsanitary                2138\n",
       "Investigation                        1173\n",
       "Vision                                777\n",
       "Road Blocked - NON-TTC Collision      244\n",
       "Held By                                75\n",
       "Name: count, dtype: int64"
      ]
     },
     "execution_count": 111,
     "metadata": {},
     "output_type": "execute_result"
    }
   ],
   "source": [
    "bus_df[\"incident\"].value_counts()"
   ]
  },
  {
   "cell_type": "code",
   "execution_count": 112,
   "metadata": {},
   "outputs": [
    {
     "data": {
      "text/plain": [
       "<Axes: xlabel='incident', ylabel='count'>"
      ]
     },
     "execution_count": 112,
     "metadata": {},
     "output_type": "execute_result"
    },
    {
     "data": {
      "image/png": "[encoded data removed]",
      "text/plain": [
       "<Figure size 2400x1000 with 1 Axes>"
      ]
     },
     "metadata": {},
     "output_type": "display_data"
    }
   ],
   "source": [
    "plt.rcParams[\"figure.figsize\"] = (24,10)\n",
    "Incident = bus_df['incident'].value_counts()\n",
    "sns.barplot(x=Incident.index, y=Incident)"
   ]
  },
  {
   "cell_type": "markdown",
   "metadata": {},
   "source": [
    "## 1.6 min_delay\n"
   ]
  },
  {
   "cell_type": "code",
   "execution_count": 113,
   "metadata": {},
   "outputs": [
    {
     "data": {
      "text/plain": [
       "(0.0, 150.0)"
      ]
     },
     "execution_count": 113,
     "metadata": {},
     "output_type": "execute_result"
    },
    {
     "data": {
      "image/png": "[encoded data removed]",
      "text/plain": [
       "<Figure size 800x400 with 1 Axes>"
      ]
     },
     "metadata": {},
     "output_type": "display_data"
    }
   ],
   "source": [
    "sns.set(rc={'figure.figsize':(8,4)})\n",
    "sns.histplot(data = bus_df['min_delay'], kde=True , color='green')\n",
    "plt.xlim([0,150])"
   ]
  },
  {
   "cell_type": "code",
   "execution_count": 114,
   "metadata": {},
   "outputs": [],
   "source": [
    "# xem trễ trên 60p là ngoại lệ\n",
    "bus_df.drop(bus_df[bus_df[\"min_delay\"] > 90].index, inplace=True)\n",
    "bus_df['min_delay'] = bus_df['min_delay'].astype('int')"
   ]
  },
  {
   "cell_type": "code",
   "execution_count": 115,
   "metadata": {},
   "outputs": [],
   "source": [
    "# remove delay = 0\n",
    "bus_df = bus_df[bus_df['min_delay']>1]"
   ]
  },
  {
   "cell_type": "markdown",
   "metadata": {},
   "source": [
    "## 1.7 min_gap"
   ]
  },
  {
   "cell_type": "code",
   "execution_count": 116,
   "metadata": {},
   "outputs": [
    {
     "data": {
      "text/plain": [
       "(0.0, 150.0)"
      ]
     },
     "execution_count": 116,
     "metadata": {},
     "output_type": "execute_result"
    },
    {
     "data": {
      "image/png": "[encoded data removed]",
      "text/plain": [
       "<Figure size 800x400 with 1 Axes>"
      ]
     },
     "metadata": {},
     "output_type": "display_data"
    }
   ],
   "source": [
    "sns.set(rc={'figure.figsize':(8,4)})\n",
    "sns.histplot(data = bus_df['min_gap'], kde=True , color='green')\n",
    "plt.xlim([0,150])"
   ]
  },
  {
   "cell_type": "code",
   "execution_count": 117,
   "metadata": {},
   "outputs": [],
   "source": [
    "# xem trên 90p là ngoại lệ\n",
    "bus_df.drop(bus_df[bus_df[\"min_gap\"] > 90].index, inplace=True)\n",
    "bus_df['min_gap'] = bus_df['min_gap'].astype('int')"
   ]
  },
  {
   "cell_type": "markdown",
   "metadata": {},
   "source": [
    "## 1.8 Date and Time"
   ]
  },
  {
   "cell_type": "code",
   "execution_count": 118,
   "metadata": {},
   "outputs": [],
   "source": [
    "bus_df['day_month'] = bus_df['date'].dt.day\n",
    "bus_df['month'] = bus_df['date'].dt.month\n",
    "# df['year'] = df['date'].dt.year"
   ]
  },
  {
   "cell_type": "code",
   "execution_count": 119,
   "metadata": {},
   "outputs": [
    {
     "name": "stderr",
     "output_type": "stream",
     "text": [
      "C:\\Users\\admin\\AppData\\Local\\Temp\\ipykernel_27540\\3820836541.py:1: UserWarning: Could not infer format, so each element will be parsed individually, falling back to `dateutil`. To ensure parsing is consistent and as-expected, please specify a format.\n",
      "  bus_df['time'] = pd.to_datetime(bus_df['time']).dt.time\n"
     ]
    }
   ],
   "source": [
    "bus_df['time'] = pd.to_datetime(bus_df['time']).dt.time"
   ]
  },
  {
   "cell_type": "code",
   "execution_count": 120,
   "metadata": {},
   "outputs": [],
   "source": [
    "# df['Time'] = pd.to_datetime(df['Time']).dt.time\n",
    "bus_df['hour'] = bus_df['time'].map(lambda x: x.hour)\n",
    "bus_df['min'] = bus_df['time'].map(lambda x: x.minute)"
   ]
  },
  {
   "cell_type": "code",
   "execution_count": 121,
   "metadata": {},
   "outputs": [
    {
     "data": {
      "text/html": [
       "<div>\n",
       "<style scoped>\n",
       "    .dataframe tbody tr th:only-of-type {\n",
       "        vertical-align: middle;\n",
       "    }\n",
       "\n",
       "    .dataframe tbody tr th {\n",
       "        vertical-align: top;\n",
       "    }\n",
       "\n",
       "    .dataframe thead th {\n",
       "        text-align: right;\n",
       "    }\n",
       "</style>\n",
       "<table border=\"1\" class=\"dataframe\">\n",
       "  <thead>\n",
       "    <tr style=\"text-align: right;\">\n",
       "      <th></th>\n",
       "      <th>date</th>\n",
       "      <th>route</th>\n",
       "      <th>time</th>\n",
       "      <th>day</th>\n",
       "      <th>location</th>\n",
       "      <th>incident</th>\n",
       "      <th>min_delay</th>\n",
       "      <th>min_gap</th>\n",
       "      <th>direction</th>\n",
       "      <th>vehicle</th>\n",
       "      <th>day_month</th>\n",
       "      <th>month</th>\n",
       "      <th>hour</th>\n",
       "      <th>min</th>\n",
       "    </tr>\n",
       "  </thead>\n",
       "  <tbody>\n",
       "    <tr>\n",
       "      <th>1</th>\n",
       "      <td>2023-01-01</td>\n",
       "      <td>69</td>\n",
       "      <td>02:34:00</td>\n",
       "      <td>Sunday</td>\n",
       "      <td>warden station</td>\n",
       "      <td>Security</td>\n",
       "      <td>22</td>\n",
       "      <td>44</td>\n",
       "      <td>S</td>\n",
       "      <td>8407</td>\n",
       "      <td>1</td>\n",
       "      <td>1</td>\n",
       "      <td>2</td>\n",
       "      <td>34</td>\n",
       "    </tr>\n",
       "    <tr>\n",
       "      <th>2</th>\n",
       "      <td>2023-01-01</td>\n",
       "      <td>35</td>\n",
       "      <td>03:06:00</td>\n",
       "      <td>Sunday</td>\n",
       "      <td>jane station</td>\n",
       "      <td>Cleaning - Unsanitary</td>\n",
       "      <td>30</td>\n",
       "      <td>60</td>\n",
       "      <td>N</td>\n",
       "      <td>1051</td>\n",
       "      <td>1</td>\n",
       "      <td>1</td>\n",
       "      <td>3</td>\n",
       "      <td>6</td>\n",
       "    </tr>\n",
       "    <tr>\n",
       "      <th>3</th>\n",
       "      <td>2023-01-01</td>\n",
       "      <td>900</td>\n",
       "      <td>03:14:00</td>\n",
       "      <td>Sunday</td>\n",
       "      <td>kipling station</td>\n",
       "      <td>Security</td>\n",
       "      <td>17</td>\n",
       "      <td>17</td>\n",
       "      <td>unknown</td>\n",
       "      <td>3334</td>\n",
       "      <td>1</td>\n",
       "      <td>1</td>\n",
       "      <td>3</td>\n",
       "      <td>14</td>\n",
       "    </tr>\n",
       "    <tr>\n",
       "      <th>7</th>\n",
       "      <td>2023-01-01</td>\n",
       "      <td>52</td>\n",
       "      <td>04:25:00</td>\n",
       "      <td>Sunday</td>\n",
       "      <td>lawrence and yonge</td>\n",
       "      <td>Emergency Services</td>\n",
       "      <td>30</td>\n",
       "      <td>60</td>\n",
       "      <td>E</td>\n",
       "      <td>3520</td>\n",
       "      <td>1</td>\n",
       "      <td>1</td>\n",
       "      <td>4</td>\n",
       "      <td>25</td>\n",
       "    </tr>\n",
       "    <tr>\n",
       "      <th>8</th>\n",
       "      <td>2023-01-01</td>\n",
       "      <td>24</td>\n",
       "      <td>04:35:00</td>\n",
       "      <td>Sunday</td>\n",
       "      <td>danforth and main</td>\n",
       "      <td>Cleaning - Unsanitary</td>\n",
       "      <td>20</td>\n",
       "      <td>40</td>\n",
       "      <td>W</td>\n",
       "      <td>8404</td>\n",
       "      <td>1</td>\n",
       "      <td>1</td>\n",
       "      <td>4</td>\n",
       "      <td>35</td>\n",
       "    </tr>\n",
       "  </tbody>\n",
       "</table>\n",
       "</div>"
      ],
      "text/plain": [
       "        date  route      time     day            location  \\\n",
       "1 2023-01-01     69  02:34:00  Sunday      warden station   \n",
       "2 2023-01-01     35  03:06:00  Sunday        jane station   \n",
       "3 2023-01-01    900  03:14:00  Sunday     kipling station   \n",
       "7 2023-01-01     52  04:25:00  Sunday  lawrence and yonge   \n",
       "8 2023-01-01     24  04:35:00  Sunday   danforth and main   \n",
       "\n",
       "                incident  min_delay  min_gap direction  vehicle  day_month  \\\n",
       "1               Security         22       44         S     8407          1   \n",
       "2  Cleaning - Unsanitary         30       60         N     1051          1   \n",
       "3               Security         17       17   unknown     3334          1   \n",
       "7     Emergency Services         30       60         E     3520          1   \n",
       "8  Cleaning - Unsanitary         20       40         W     8404          1   \n",
       "\n",
       "   month  hour  min  \n",
       "1      1     2   34  \n",
       "2      1     3    6  \n",
       "3      1     3   14  \n",
       "7      1     4   25  \n",
       "8      1     4   35  "
      ]
     },
     "execution_count": 121,
     "metadata": {},
     "output_type": "execute_result"
    }
   ],
   "source": [
    "bus_df.head()"
   ]
  },
  {
   "cell_type": "markdown",
   "metadata": {},
   "source": [
    "## 1.9 Save"
   ]
  },
  {
   "cell_type": "code",
   "execution_count": 122,
   "metadata": {},
   "outputs": [],
   "source": [
    "# dòng trùng\n",
    "bus_df.duplicated().sum()\n",
    "bus_df = bus_df.drop_duplicates()"
   ]
  },
  {
   "cell_type": "code",
   "execution_count": 123,
   "metadata": {},
   "outputs": [
    {
     "name": "stderr",
     "output_type": "stream",
     "text": [
      "C:\\Users\\admin\\AppData\\Local\\Temp\\ipykernel_27540\\2044505389.py:4: FutureWarning: DataFrame.applymap has been deprecated. Use DataFrame.map instead.\n",
      "  return dataset.applymap(trim)\n"
     ]
    }
   ],
   "source": [
    "bus_df = trim(bus_df)"
   ]
  },
  {
   "cell_type": "code",
   "execution_count": 124,
   "metadata": {},
   "outputs": [
    {
     "data": {
      "text/html": [
       "<div>\n",
       "<style scoped>\n",
       "    .dataframe tbody tr th:only-of-type {\n",
       "        vertical-align: middle;\n",
       "    }\n",
       "\n",
       "    .dataframe tbody tr th {\n",
       "        vertical-align: top;\n",
       "    }\n",
       "\n",
       "    .dataframe thead th {\n",
       "        text-align: right;\n",
       "    }\n",
       "</style>\n",
       "<table border=\"1\" class=\"dataframe\">\n",
       "  <thead>\n",
       "    <tr style=\"text-align: right;\">\n",
       "      <th></th>\n",
       "      <th>date</th>\n",
       "      <th>route</th>\n",
       "      <th>time</th>\n",
       "      <th>day</th>\n",
       "      <th>location</th>\n",
       "      <th>incident</th>\n",
       "      <th>min_delay</th>\n",
       "      <th>min_gap</th>\n",
       "      <th>direction</th>\n",
       "      <th>vehicle</th>\n",
       "      <th>day_month</th>\n",
       "      <th>month</th>\n",
       "      <th>hour</th>\n",
       "      <th>min</th>\n",
       "    </tr>\n",
       "  </thead>\n",
       "  <tbody>\n",
       "    <tr>\n",
       "      <th>1</th>\n",
       "      <td>2023-01-01</td>\n",
       "      <td>69</td>\n",
       "      <td>02:34:00</td>\n",
       "      <td>Sunday</td>\n",
       "      <td>warden station</td>\n",
       "      <td>Security</td>\n",
       "      <td>22</td>\n",
       "      <td>44</td>\n",
       "      <td>S</td>\n",
       "      <td>8407</td>\n",
       "      <td>1</td>\n",
       "      <td>1</td>\n",
       "      <td>2</td>\n",
       "      <td>34</td>\n",
       "    </tr>\n",
       "    <tr>\n",
       "      <th>2</th>\n",
       "      <td>2023-01-01</td>\n",
       "      <td>35</td>\n",
       "      <td>03:06:00</td>\n",
       "      <td>Sunday</td>\n",
       "      <td>jane station</td>\n",
       "      <td>Cleaning - Unsanitary</td>\n",
       "      <td>30</td>\n",
       "      <td>60</td>\n",
       "      <td>N</td>\n",
       "      <td>1051</td>\n",
       "      <td>1</td>\n",
       "      <td>1</td>\n",
       "      <td>3</td>\n",
       "      <td>6</td>\n",
       "    </tr>\n",
       "    <tr>\n",
       "      <th>3</th>\n",
       "      <td>2023-01-01</td>\n",
       "      <td>900</td>\n",
       "      <td>03:14:00</td>\n",
       "      <td>Sunday</td>\n",
       "      <td>kipling station</td>\n",
       "      <td>Security</td>\n",
       "      <td>17</td>\n",
       "      <td>17</td>\n",
       "      <td>unknown</td>\n",
       "      <td>3334</td>\n",
       "      <td>1</td>\n",
       "      <td>1</td>\n",
       "      <td>3</td>\n",
       "      <td>14</td>\n",
       "    </tr>\n",
       "    <tr>\n",
       "      <th>7</th>\n",
       "      <td>2023-01-01</td>\n",
       "      <td>52</td>\n",
       "      <td>04:25:00</td>\n",
       "      <td>Sunday</td>\n",
       "      <td>lawrence and yonge</td>\n",
       "      <td>Emergency Services</td>\n",
       "      <td>30</td>\n",
       "      <td>60</td>\n",
       "      <td>E</td>\n",
       "      <td>3520</td>\n",
       "      <td>1</td>\n",
       "      <td>1</td>\n",
       "      <td>4</td>\n",
       "      <td>25</td>\n",
       "    </tr>\n",
       "    <tr>\n",
       "      <th>8</th>\n",
       "      <td>2023-01-01</td>\n",
       "      <td>24</td>\n",
       "      <td>04:35:00</td>\n",
       "      <td>Sunday</td>\n",
       "      <td>danforth and main</td>\n",
       "      <td>Cleaning - Unsanitary</td>\n",
       "      <td>20</td>\n",
       "      <td>40</td>\n",
       "      <td>W</td>\n",
       "      <td>8404</td>\n",
       "      <td>1</td>\n",
       "      <td>1</td>\n",
       "      <td>4</td>\n",
       "      <td>35</td>\n",
       "    </tr>\n",
       "  </tbody>\n",
       "</table>\n",
       "</div>"
      ],
      "text/plain": [
       "        date  route      time     day            location  \\\n",
       "1 2023-01-01     69  02:34:00  Sunday      warden station   \n",
       "2 2023-01-01     35  03:06:00  Sunday        jane station   \n",
       "3 2023-01-01    900  03:14:00  Sunday     kipling station   \n",
       "7 2023-01-01     52  04:25:00  Sunday  lawrence and yonge   \n",
       "8 2023-01-01     24  04:35:00  Sunday   danforth and main   \n",
       "\n",
       "                incident  min_delay  min_gap direction  vehicle  day_month  \\\n",
       "1               Security         22       44         S     8407          1   \n",
       "2  Cleaning - Unsanitary         30       60         N     1051          1   \n",
       "3               Security         17       17   unknown     3334          1   \n",
       "7     Emergency Services         30       60         E     3520          1   \n",
       "8  Cleaning - Unsanitary         20       40         W     8404          1   \n",
       "\n",
       "   month  hour  min  \n",
       "1      1     2   34  \n",
       "2      1     3    6  \n",
       "3      1     3   14  \n",
       "7      1     4   25  \n",
       "8      1     4   35  "
      ]
     },
     "execution_count": 124,
     "metadata": {},
     "output_type": "execute_result"
    }
   ],
   "source": [
    "bus_df.head()"
   ]
  },
  {
   "cell_type": "code",
   "execution_count": 125,
   "metadata": {},
   "outputs": [
    {
     "name": "stdout",
     "output_type": "stream",
     "text": [
      "<class 'pandas.core.frame.DataFrame'>\n",
      "Index: 49051 entries, 1 to 56206\n",
      "Data columns (total 14 columns):\n",
      " #   Column     Non-Null Count  Dtype         \n",
      "---  ------     --------------  -----         \n",
      " 0   date       49051 non-null  datetime64[ns]\n",
      " 1   route      49051 non-null  int64         \n",
      " 2   time       49051 non-null  object        \n",
      " 3   day        49051 non-null  object        \n",
      " 4   location   49051 non-null  object        \n",
      " 5   incident   49051 non-null  object        \n",
      " 6   min_delay  49051 non-null  int64         \n",
      " 7   min_gap    49051 non-null  int64         \n",
      " 8   direction  49051 non-null  object        \n",
      " 9   vehicle    49051 non-null  int64         \n",
      " 10  day_month  49051 non-null  int64         \n",
      " 11  month      49051 non-null  int64         \n",
      " 12  hour       49051 non-null  int64         \n",
      " 13  min        49051 non-null  int64         \n",
      "dtypes: datetime64[ns](1), int64(8), object(5)\n",
      "memory usage: 5.6+ MB\n"
     ]
    }
   ],
   "source": [
    "bus_df.info()"
   ]
  },
  {
   "cell_type": "code",
   "execution_count": 126,
   "metadata": {},
   "outputs": [
    {
     "name": "stdout",
     "output_type": "stream",
     "text": [
      "date (365,)\n",
      "route (214,)\n",
      "time (1440,)\n",
      "day (7,)\n",
      "location (10107,)\n",
      "incident (13,)\n",
      "min_delay (84,)\n",
      "min_gap (91,)\n",
      "direction (5,)\n",
      "vehicle (2327,)\n",
      "day_month (31,)\n",
      "month (12,)\n",
      "hour (24,)\n",
      "min (60,)\n"
     ]
    },
    {
     "data": {
      "text/plain": [
       "[None,\n",
       " None,\n",
       " None,\n",
       " None,\n",
       " None,\n",
       " None,\n",
       " None,\n",
       " None,\n",
       " None,\n",
       " None,\n",
       " None,\n",
       " None,\n",
       " None,\n",
       " None]"
      ]
     },
     "execution_count": 126,
     "metadata": {},
     "output_type": "execute_result"
    }
   ],
   "source": [
    "[print(i,bus_df[i].value_counts().shape) for i in bus_df.columns]"
   ]
  },
  {
   "cell_type": "code",
   "execution_count": 127,
   "metadata": {},
   "outputs": [],
   "source": [
    "bus_df.to_csv('../data/clean_data/bus_clean.csv', index=False)"
   ]
  },
  {
   "cell_type": "markdown",
   "metadata": {},
   "source": [
    "# 2. Subway"
   ]
  },
  {
   "cell_type": "code",
   "execution_count": 4,
   "metadata": {},
   "outputs": [
    {
     "data": {
      "text/html": [
       "<div>\n",
       "<style scoped>\n",
       "    .dataframe tbody tr th:only-of-type {\n",
       "        vertical-align: middle;\n",
       "    }\n",
       "\n",
       "    .dataframe tbody tr th {\n",
       "        vertical-align: top;\n",
       "    }\n",
       "\n",
       "    .dataframe thead th {\n",
       "        text-align: right;\n",
       "    }\n",
       "</style>\n",
       "<table border=\"1\" class=\"dataframe\">\n",
       "  <thead>\n",
       "    <tr style=\"text-align: right;\">\n",
       "      <th></th>\n",
       "      <th>Date</th>\n",
       "      <th>Time</th>\n",
       "      <th>Day</th>\n",
       "      <th>Station</th>\n",
       "      <th>Code</th>\n",
       "      <th>Min Delay</th>\n",
       "      <th>Min Gap</th>\n",
       "      <th>Bound</th>\n",
       "      <th>Line</th>\n",
       "      <th>Vehicle</th>\n",
       "    </tr>\n",
       "  </thead>\n",
       "  <tbody>\n",
       "    <tr>\n",
       "      <th>0</th>\n",
       "      <td>2023-01-01</td>\n",
       "      <td>02:22</td>\n",
       "      <td>Sunday</td>\n",
       "      <td>MUSEUM STATION</td>\n",
       "      <td>MUPAA</td>\n",
       "      <td>3</td>\n",
       "      <td>9</td>\n",
       "      <td>S</td>\n",
       "      <td>YU</td>\n",
       "      <td>5931</td>\n",
       "    </tr>\n",
       "    <tr>\n",
       "      <th>1</th>\n",
       "      <td>2023-01-01</td>\n",
       "      <td>02:30</td>\n",
       "      <td>Sunday</td>\n",
       "      <td>KIPLING STATION</td>\n",
       "      <td>MUIS</td>\n",
       "      <td>0</td>\n",
       "      <td>0</td>\n",
       "      <td>E</td>\n",
       "      <td>BD</td>\n",
       "      <td>5341</td>\n",
       "    </tr>\n",
       "    <tr>\n",
       "      <th>2</th>\n",
       "      <td>2023-01-01</td>\n",
       "      <td>02:33</td>\n",
       "      <td>Sunday</td>\n",
       "      <td>WARDEN STATION</td>\n",
       "      <td>SUO</td>\n",
       "      <td>0</td>\n",
       "      <td>0</td>\n",
       "      <td>W</td>\n",
       "      <td>BD</td>\n",
       "      <td>0</td>\n",
       "    </tr>\n",
       "    <tr>\n",
       "      <th>3</th>\n",
       "      <td>2023-01-01</td>\n",
       "      <td>03:17</td>\n",
       "      <td>Sunday</td>\n",
       "      <td>KEELE STATION</td>\n",
       "      <td>MUIS</td>\n",
       "      <td>0</td>\n",
       "      <td>0</td>\n",
       "      <td>NaN</td>\n",
       "      <td>BD</td>\n",
       "      <td>0</td>\n",
       "    </tr>\n",
       "    <tr>\n",
       "      <th>4</th>\n",
       "      <td>2023-01-01</td>\n",
       "      <td>07:16</td>\n",
       "      <td>Sunday</td>\n",
       "      <td>BATHURST STATION</td>\n",
       "      <td>MUIS</td>\n",
       "      <td>0</td>\n",
       "      <td>0</td>\n",
       "      <td>NaN</td>\n",
       "      <td>BD</td>\n",
       "      <td>0</td>\n",
       "    </tr>\n",
       "  </tbody>\n",
       "</table>\n",
       "</div>"
      ],
      "text/plain": [
       "        Date   Time     Day           Station   Code  Min Delay  Min Gap  \\\n",
       "0 2023-01-01  02:22  Sunday    MUSEUM STATION  MUPAA          3        9   \n",
       "1 2023-01-01  02:30  Sunday   KIPLING STATION   MUIS          0        0   \n",
       "2 2023-01-01  02:33  Sunday    WARDEN STATION    SUO          0        0   \n",
       "3 2023-01-01  03:17  Sunday     KEELE STATION   MUIS          0        0   \n",
       "4 2023-01-01  07:16  Sunday  BATHURST STATION   MUIS          0        0   \n",
       "\n",
       "  Bound Line  Vehicle  \n",
       "0     S   YU     5931  \n",
       "1     E   BD     5341  \n",
       "2     W   BD        0  \n",
       "3   NaN   BD        0  \n",
       "4   NaN   BD        0  "
      ]
     },
     "execution_count": 4,
     "metadata": {},
     "output_type": "execute_result"
    }
   ],
   "source": [
    "df_subway = pd.read_excel('../data/raw_data/ttc-subway-delay-data-2023.xlsx')\n",
    "df_subway.head()"
   ]
  },
  {
   "cell_type": "markdown",
   "metadata": {},
   "source": [
    "## 2.1 Overview"
   ]
  },
  {
   "cell_type": "code",
   "execution_count": 5,
   "metadata": {},
   "outputs": [
    {
     "name": "stdout",
     "output_type": "stream",
     "text": [
      "<class 'pandas.core.frame.DataFrame'>\n",
      "RangeIndex: 20882 entries, 0 to 20881\n",
      "Data columns (total 10 columns):\n",
      " #   Column     Non-Null Count  Dtype         \n",
      "---  ------     --------------  -----         \n",
      " 0   Date       20882 non-null  datetime64[ns]\n",
      " 1   Time       20882 non-null  object        \n",
      " 2   Day        20882 non-null  object        \n",
      " 3   Station    20882 non-null  object        \n",
      " 4   Code       20882 non-null  object        \n",
      " 5   Min Delay  20882 non-null  int64         \n",
      " 6   Min Gap    20882 non-null  int64         \n",
      " 7   Bound      13157 non-null  object        \n",
      " 8   Line       20834 non-null  object        \n",
      " 9   Vehicle    20882 non-null  int64         \n",
      "dtypes: datetime64[ns](1), int64(3), object(6)\n",
      "memory usage: 1.6+ MB\n"
     ]
    }
   ],
   "source": [
    "df_subway.info()"
   ]
  },
  {
   "cell_type": "code",
   "execution_count": 6,
   "metadata": {},
   "outputs": [
    {
     "name": "stdout",
     "output_type": "stream",
     "text": [
      "Date (334,)\n",
      "Time (1409,)\n",
      "Day (7,)\n",
      "Station (359,)\n",
      "Code (176,)\n",
      "Min Delay (108,)\n",
      "Min Gap (113,)\n",
      "Bound (5,)\n",
      "Line (13,)\n",
      "Vehicle (697,)\n"
     ]
    },
    {
     "data": {
      "text/plain": [
       "[None, None, None, None, None, None, None, None, None, None]"
      ]
     },
     "execution_count": 6,
     "metadata": {},
     "output_type": "execute_result"
    }
   ],
   "source": [
    "[print(i,df_subway[i].value_counts().shape) for i in df_subway.columns]"
   ]
  },
  {
   "cell_type": "code",
   "execution_count": 7,
   "metadata": {},
   "outputs": [],
   "source": [
    "df = df_subway.copy()"
   ]
  },
  {
   "cell_type": "code",
   "execution_count": 8,
   "metadata": {},
   "outputs": [],
   "source": [
    "df.columns = [i.replace(' ', '_').lower() for i in df.columns]"
   ]
  },
  {
   "cell_type": "code",
   "execution_count": 9,
   "metadata": {},
   "outputs": [
    {
     "data": {
      "text/plain": [
       "date            0\n",
       "time            0\n",
       "day             0\n",
       "station         0\n",
       "code            0\n",
       "min_delay       0\n",
       "min_gap         0\n",
       "bound        7725\n",
       "line           48\n",
       "vehicle         0\n",
       "dtype: int64"
      ]
     },
     "execution_count": 9,
     "metadata": {},
     "output_type": "execute_result"
    }
   ],
   "source": [
    "df.isna().sum() "
   ]
  },
  {
   "cell_type": "markdown",
   "metadata": {},
   "source": [
    "## 2.2 Date"
   ]
  },
  {
   "cell_type": "code",
   "execution_count": 10,
   "metadata": {},
   "outputs": [],
   "source": [
    "df['day_month'] = df['date'].dt.day\n",
    "df['month'] = df['date'].dt.month\n",
    "# df['year'] = df['date'].dt.year"
   ]
  },
  {
   "cell_type": "code",
   "execution_count": 11,
   "metadata": {},
   "outputs": [
    {
     "data": {
      "text/html": [
       "<div>\n",
       "<style scoped>\n",
       "    .dataframe tbody tr th:only-of-type {\n",
       "        vertical-align: middle;\n",
       "    }\n",
       "\n",
       "    .dataframe tbody tr th {\n",
       "        vertical-align: top;\n",
       "    }\n",
       "\n",
       "    .dataframe thead th {\n",
       "        text-align: right;\n",
       "    }\n",
       "</style>\n",
       "<table border=\"1\" class=\"dataframe\">\n",
       "  <thead>\n",
       "    <tr style=\"text-align: right;\">\n",
       "      <th></th>\n",
       "      <th>date</th>\n",
       "      <th>time</th>\n",
       "      <th>day</th>\n",
       "      <th>station</th>\n",
       "      <th>code</th>\n",
       "      <th>min_delay</th>\n",
       "      <th>min_gap</th>\n",
       "      <th>bound</th>\n",
       "      <th>line</th>\n",
       "      <th>vehicle</th>\n",
       "      <th>day_month</th>\n",
       "      <th>month</th>\n",
       "    </tr>\n",
       "  </thead>\n",
       "  <tbody>\n",
       "    <tr>\n",
       "      <th>0</th>\n",
       "      <td>2023-01-01</td>\n",
       "      <td>02:22</td>\n",
       "      <td>Sunday</td>\n",
       "      <td>MUSEUM STATION</td>\n",
       "      <td>MUPAA</td>\n",
       "      <td>3</td>\n",
       "      <td>9</td>\n",
       "      <td>S</td>\n",
       "      <td>YU</td>\n",
       "      <td>5931</td>\n",
       "      <td>1</td>\n",
       "      <td>1</td>\n",
       "    </tr>\n",
       "    <tr>\n",
       "      <th>1</th>\n",
       "      <td>2023-01-01</td>\n",
       "      <td>02:30</td>\n",
       "      <td>Sunday</td>\n",
       "      <td>KIPLING STATION</td>\n",
       "      <td>MUIS</td>\n",
       "      <td>0</td>\n",
       "      <td>0</td>\n",
       "      <td>E</td>\n",
       "      <td>BD</td>\n",
       "      <td>5341</td>\n",
       "      <td>1</td>\n",
       "      <td>1</td>\n",
       "    </tr>\n",
       "    <tr>\n",
       "      <th>2</th>\n",
       "      <td>2023-01-01</td>\n",
       "      <td>02:33</td>\n",
       "      <td>Sunday</td>\n",
       "      <td>WARDEN STATION</td>\n",
       "      <td>SUO</td>\n",
       "      <td>0</td>\n",
       "      <td>0</td>\n",
       "      <td>W</td>\n",
       "      <td>BD</td>\n",
       "      <td>0</td>\n",
       "      <td>1</td>\n",
       "      <td>1</td>\n",
       "    </tr>\n",
       "    <tr>\n",
       "      <th>3</th>\n",
       "      <td>2023-01-01</td>\n",
       "      <td>03:17</td>\n",
       "      <td>Sunday</td>\n",
       "      <td>KEELE STATION</td>\n",
       "      <td>MUIS</td>\n",
       "      <td>0</td>\n",
       "      <td>0</td>\n",
       "      <td>NaN</td>\n",
       "      <td>BD</td>\n",
       "      <td>0</td>\n",
       "      <td>1</td>\n",
       "      <td>1</td>\n",
       "    </tr>\n",
       "    <tr>\n",
       "      <th>4</th>\n",
       "      <td>2023-01-01</td>\n",
       "      <td>07:16</td>\n",
       "      <td>Sunday</td>\n",
       "      <td>BATHURST STATION</td>\n",
       "      <td>MUIS</td>\n",
       "      <td>0</td>\n",
       "      <td>0</td>\n",
       "      <td>NaN</td>\n",
       "      <td>BD</td>\n",
       "      <td>0</td>\n",
       "      <td>1</td>\n",
       "      <td>1</td>\n",
       "    </tr>\n",
       "  </tbody>\n",
       "</table>\n",
       "</div>"
      ],
      "text/plain": [
       "        date   time     day           station   code  min_delay  min_gap  \\\n",
       "0 2023-01-01  02:22  Sunday    MUSEUM STATION  MUPAA          3        9   \n",
       "1 2023-01-01  02:30  Sunday   KIPLING STATION   MUIS          0        0   \n",
       "2 2023-01-01  02:33  Sunday    WARDEN STATION    SUO          0        0   \n",
       "3 2023-01-01  03:17  Sunday     KEELE STATION   MUIS          0        0   \n",
       "4 2023-01-01  07:16  Sunday  BATHURST STATION   MUIS          0        0   \n",
       "\n",
       "  bound line  vehicle  day_month  month  \n",
       "0     S   YU     5931          1      1  \n",
       "1     E   BD     5341          1      1  \n",
       "2     W   BD        0          1      1  \n",
       "3   NaN   BD        0          1      1  \n",
       "4   NaN   BD        0          1      1  "
      ]
     },
     "execution_count": 11,
     "metadata": {},
     "output_type": "execute_result"
    }
   ],
   "source": [
    "df.head()"
   ]
  },
  {
   "cell_type": "markdown",
   "metadata": {},
   "source": [
    "## 2.3 Time"
   ]
  },
  {
   "cell_type": "code",
   "execution_count": 12,
   "metadata": {},
   "outputs": [
    {
     "name": "stderr",
     "output_type": "stream",
     "text": [
      "C:\\Users\\admin\\AppData\\Local\\Temp\\ipykernel_23876\\2743972928.py:1: UserWarning: Could not infer format, so each element will be parsed individually, falling back to `dateutil`. To ensure parsing is consistent and as-expected, please specify a format.\n",
      "  df['time'] = pd.to_datetime(df['time']).dt.time\n"
     ]
    }
   ],
   "source": [
    "df['time'] = pd.to_datetime(df['time']).dt.time"
   ]
  },
  {
   "cell_type": "code",
   "execution_count": 13,
   "metadata": {},
   "outputs": [],
   "source": [
    "df['hour'] = df['time'].map(lambda x: x.hour)\n",
    "df['min'] = df['time'].map(lambda x: x.minute)"
   ]
  },
  {
   "cell_type": "code",
   "execution_count": 14,
   "metadata": {},
   "outputs": [
    {
     "data": {
      "text/html": [
       "<div>\n",
       "<style scoped>\n",
       "    .dataframe tbody tr th:only-of-type {\n",
       "        vertical-align: middle;\n",
       "    }\n",
       "\n",
       "    .dataframe tbody tr th {\n",
       "        vertical-align: top;\n",
       "    }\n",
       "\n",
       "    .dataframe thead th {\n",
       "        text-align: right;\n",
       "    }\n",
       "</style>\n",
       "<table border=\"1\" class=\"dataframe\">\n",
       "  <thead>\n",
       "    <tr style=\"text-align: right;\">\n",
       "      <th></th>\n",
       "      <th>date</th>\n",
       "      <th>time</th>\n",
       "      <th>day</th>\n",
       "      <th>station</th>\n",
       "      <th>code</th>\n",
       "      <th>min_delay</th>\n",
       "      <th>min_gap</th>\n",
       "      <th>bound</th>\n",
       "      <th>line</th>\n",
       "      <th>vehicle</th>\n",
       "      <th>day_month</th>\n",
       "      <th>month</th>\n",
       "      <th>hour</th>\n",
       "      <th>min</th>\n",
       "    </tr>\n",
       "  </thead>\n",
       "  <tbody>\n",
       "    <tr>\n",
       "      <th>0</th>\n",
       "      <td>2023-01-01</td>\n",
       "      <td>02:22:00</td>\n",
       "      <td>Sunday</td>\n",
       "      <td>MUSEUM STATION</td>\n",
       "      <td>MUPAA</td>\n",
       "      <td>3</td>\n",
       "      <td>9</td>\n",
       "      <td>S</td>\n",
       "      <td>YU</td>\n",
       "      <td>5931</td>\n",
       "      <td>1</td>\n",
       "      <td>1</td>\n",
       "      <td>2</td>\n",
       "      <td>22</td>\n",
       "    </tr>\n",
       "    <tr>\n",
       "      <th>1</th>\n",
       "      <td>2023-01-01</td>\n",
       "      <td>02:30:00</td>\n",
       "      <td>Sunday</td>\n",
       "      <td>KIPLING STATION</td>\n",
       "      <td>MUIS</td>\n",
       "      <td>0</td>\n",
       "      <td>0</td>\n",
       "      <td>E</td>\n",
       "      <td>BD</td>\n",
       "      <td>5341</td>\n",
       "      <td>1</td>\n",
       "      <td>1</td>\n",
       "      <td>2</td>\n",
       "      <td>30</td>\n",
       "    </tr>\n",
       "    <tr>\n",
       "      <th>2</th>\n",
       "      <td>2023-01-01</td>\n",
       "      <td>02:33:00</td>\n",
       "      <td>Sunday</td>\n",
       "      <td>WARDEN STATION</td>\n",
       "      <td>SUO</td>\n",
       "      <td>0</td>\n",
       "      <td>0</td>\n",
       "      <td>W</td>\n",
       "      <td>BD</td>\n",
       "      <td>0</td>\n",
       "      <td>1</td>\n",
       "      <td>1</td>\n",
       "      <td>2</td>\n",
       "      <td>33</td>\n",
       "    </tr>\n",
       "    <tr>\n",
       "      <th>3</th>\n",
       "      <td>2023-01-01</td>\n",
       "      <td>03:17:00</td>\n",
       "      <td>Sunday</td>\n",
       "      <td>KEELE STATION</td>\n",
       "      <td>MUIS</td>\n",
       "      <td>0</td>\n",
       "      <td>0</td>\n",
       "      <td>NaN</td>\n",
       "      <td>BD</td>\n",
       "      <td>0</td>\n",
       "      <td>1</td>\n",
       "      <td>1</td>\n",
       "      <td>3</td>\n",
       "      <td>17</td>\n",
       "    </tr>\n",
       "    <tr>\n",
       "      <th>4</th>\n",
       "      <td>2023-01-01</td>\n",
       "      <td>07:16:00</td>\n",
       "      <td>Sunday</td>\n",
       "      <td>BATHURST STATION</td>\n",
       "      <td>MUIS</td>\n",
       "      <td>0</td>\n",
       "      <td>0</td>\n",
       "      <td>NaN</td>\n",
       "      <td>BD</td>\n",
       "      <td>0</td>\n",
       "      <td>1</td>\n",
       "      <td>1</td>\n",
       "      <td>7</td>\n",
       "      <td>16</td>\n",
       "    </tr>\n",
       "  </tbody>\n",
       "</table>\n",
       "</div>"
      ],
      "text/plain": [
       "        date      time     day           station   code  min_delay  min_gap  \\\n",
       "0 2023-01-01  02:22:00  Sunday    MUSEUM STATION  MUPAA          3        9   \n",
       "1 2023-01-01  02:30:00  Sunday   KIPLING STATION   MUIS          0        0   \n",
       "2 2023-01-01  02:33:00  Sunday    WARDEN STATION    SUO          0        0   \n",
       "3 2023-01-01  03:17:00  Sunday     KEELE STATION   MUIS          0        0   \n",
       "4 2023-01-01  07:16:00  Sunday  BATHURST STATION   MUIS          0        0   \n",
       "\n",
       "  bound line  vehicle  day_month  month  hour  min  \n",
       "0     S   YU     5931          1      1     2   22  \n",
       "1     E   BD     5341          1      1     2   30  \n",
       "2     W   BD        0          1      1     2   33  \n",
       "3   NaN   BD        0          1      1     3   17  \n",
       "4   NaN   BD        0          1      1     7   16  "
      ]
     },
     "execution_count": 14,
     "metadata": {},
     "output_type": "execute_result"
    }
   ],
   "source": [
    "df.head()"
   ]
  },
  {
   "cell_type": "markdown",
   "metadata": {},
   "source": [
    "## 2.4 Station"
   ]
  },
  {
   "cell_type": "code",
   "execution_count": 15,
   "metadata": {},
   "outputs": [],
   "source": [
    "def clean_station_col(text):\n",
    "    text = re.sub(rf'[{punctuation}]', '',text) # Remove punctuation\n",
    "    text = re.sub('\\s+(BD|SRT|YUS|YU)+\\s',' ',text) # Remove BD, SRT,YU,YUS\n",
    "    text = re.sub('CTR','CENTRE',text) # Replace ctr with centre\n",
    "    text = re.sub('(SATATIO|STAITON|STATI|CAR HOUSE|STN|STATIO|YARD|WYE|HOSTLER|CARHOUSE|SHOP|SHOPS|LOWER|COMMERCE|HOSTLE)+$',' STATION',text) # Replace texts not end with station to station\n",
    "    # split by (, TO, AND and only the words before them\n",
    "    text = text.split('(')[0]\n",
    "    text = text.split(' TO ')[0]\n",
    "    text = text.split(' AND ')[0]\n",
    "    if 'YONGEUNIVERSITY' in text or 'YONGE UNIVERSITY' in text:\n",
    "        text = 'YONGE UNIVERSITY LINE'\n",
    "    if  not text.endswith('LINE') and not text.endswith('SUBWAY') and 'STATION' not in text:\n",
    "        text = text + ' STATION'\n",
    "    if 'SCARB' in text:\n",
    "        text = 'SCARBOROUGH CENTRE STATION'\n",
    "    if 'DAVISVILLE' in text:\n",
    "        text = 'DAVISVILLE STATION'\n",
    "    if 'GREENWOOD' in text:\n",
    "        text = 'GREENWOOD STATION'\n",
    "    if 'KEELE' in text:\n",
    "        text = 'KEELE STATION'\n",
    "    if 'MCCOWAN' in text:\n",
    "        text = 'MCCOWAN STATION'\n",
    "    if 'WILSON' in text:\n",
    "        text = 'WILSON STATION'\n",
    "    return text"
   ]
  },
  {
   "cell_type": "code",
   "execution_count": 16,
   "metadata": {},
   "outputs": [],
   "source": [
    "df['station'] = df['station'].apply(clean_station_col)"
   ]
  },
  {
   "cell_type": "code",
   "execution_count": 17,
   "metadata": {},
   "outputs": [],
   "source": [
    "# a list of station\n",
    "station_list = ['BATHURST',\n",
    "'BAY',\n",
    "'BAYVIEW',\n",
    "'BESSARION',\n",
    "'BLOOR',\n",
    "'BROADVIEW',\n",
    "'CASTLE FRANK',\n",
    "'CHESTER',\n",
    "'CHRISTIE',\n",
    "'COLLEGE',\n",
    "'COXWELL',\n",
    "'DAVISVILLE',\n",
    "'DON MILLS',\n",
    "'DONLANDS',\n",
    "'DOWNSVIEW PARK',\n",
    "'DUFFERIN',\n",
    "'DUNDAS',\n",
    "'DUNDAS WEST',\n",
    "'DUPONT',\n",
    "'EGLINTON',\n",
    "'EGLINTON WEST',\n",
    "'ELLESMERE',\n",
    "'FINCH',\n",
    "'FINCH WEST',\n",
    "'GLENCAIRN',\n",
    "'GREENWOOD',\n",
    "'HIGH PARK',\n",
    "'HIGHWAY 407',\n",
    "'ISLINGTON',\n",
    "'JANE',\n",
    "'KEELE',\n",
    "'KENNEDY',\n",
    "'KING',\n",
    "'KIPLING',\n",
    "'LANSDOWNE',\n",
    "'LAWRENCE',\n",
    "'LAWRENCE EAST',\n",
    "'LAWRENCE WEST',\n",
    "'LESLIE',\n",
    "'MAIN STREET',\n",
    "'MCCOWAN',\n",
    "'MIDLAND',\n",
    "'MUSEUM',\n",
    "'NORTH YORK CENTRE',\n",
    "'OLD MILL',\n",
    "'OSGOODE',\n",
    "'OSSINGTON',\n",
    "'PAPE',\n",
    "'PIONEER VILLAGE',\n",
    "'QUEEN',\n",
    "\"QUEEN'S PARK\",\n",
    "'ROSEDALE',\n",
    "'ROYAL YORK',\n",
    "'RUNNYMEDE',\n",
    "'SCARBOROUGH CENTRE',\n",
    "'SHEPPARD WEST',\n",
    "'SHEPPARD',\n",
    "'SHERBOURNE',\n",
    "'SPADINA',\n",
    "'ST CLAIR',\n",
    "'ST CLAIR WEST',\n",
    "'ST ANDREW',\n",
    "'ST GEORGE',\n",
    "'ST PATRICK',\n",
    "'SUMMERHILL',\n",
    "'UNION',\n",
    "'VAUGHAN METRO CENTRE',\n",
    "'VAUGHAN MC',\n",
    "'VICTORIA PARK',\n",
    "'WARDEN',\n",
    "'WELLESLEY',\n",
    "'WILSON',\n",
    "'WOODBINE',\n",
    "'YORK MILLS',\n",
    "'YORK UNIVERSITY',\n",
    "'YORKDALE',\n",
    "'YONGE',\n",
    "'QUEENS PARK',\n",
    "'SCAR',\n",
    "'SHP',\n",
    "'NORTH YORK CTR'\n",
    "]\n",
    "\n",
    "# create regex pattern out of the list of words\n",
    "station_list_comb = '|'.join(station_list)\n",
    "# remove rows from the subway dataset if they don't contain any stations from the station list\n",
    "df = df[df['station'].str.contains(station_list_comb)]"
   ]
  },
  {
   "cell_type": "code",
   "execution_count": 18,
   "metadata": {},
   "outputs": [],
   "source": [
    "# remove noisy station names where they have less than 10 delays\n",
    "df = df[df.groupby(['station'])['date'].transform('count') > 10]"
   ]
  },
  {
   "cell_type": "code",
   "execution_count": 19,
   "metadata": {},
   "outputs": [],
   "source": [
    "# clean up station column for specific\n",
    "df['station'] = df['station'].replace(dict.fromkeys(['BLOOR STATION','YONGE STATION'],'BLOOR YONGE STATION'))\n",
    "df['station'] = df['station'].replace(dict.fromkeys(['SHEPPARDYONGE STATION','SHEPPARD STATION','SHEPPARD-YONGE STATION','YONGE SHEP STATION','YONGE SHP STATION'],'SHEPPARD YONGE STATION'),regex=True)"
   ]
  },
  {
   "cell_type": "code",
   "execution_count": 20,
   "metadata": {},
   "outputs": [],
   "source": [
    "df['station'] = [i.lower() for i in df['station']]"
   ]
  },
  {
   "cell_type": "code",
   "execution_count": 21,
   "metadata": {},
   "outputs": [],
   "source": [
    "# if a subway train is delayed at a station\n",
    "df['at_station'] = df['station'].apply(lambda x: 1 if 'station' in x else 0)"
   ]
  },
  {
   "cell_type": "markdown",
   "metadata": {},
   "source": [
    "## 2.5 Bound"
   ]
  },
  {
   "cell_type": "code",
   "execution_count": 22,
   "metadata": {},
   "outputs": [
    {
     "data": {
      "text/plain": [
       "bound\n",
       "S    3577\n",
       "N    3536\n",
       "W    3037\n",
       "E    2903\n",
       "B      39\n",
       "Name: count, dtype: int64"
      ]
     },
     "execution_count": 22,
     "metadata": {},
     "output_type": "execute_result"
    }
   ],
   "source": [
    "df['bound'].value_counts()"
   ]
  },
  {
   "cell_type": "code",
   "execution_count": 23,
   "metadata": {},
   "outputs": [],
   "source": [
    "df['bound'] = df['bound'].replace('B', 'unknown')"
   ]
  },
  {
   "cell_type": "code",
   "execution_count": 24,
   "metadata": {},
   "outputs": [
    {
     "name": "stderr",
     "output_type": "stream",
     "text": [
      "C:\\Users\\admin\\AppData\\Local\\Temp\\ipykernel_23876\\1425439513.py:1: FutureWarning: A value is trying to be set on a copy of a DataFrame or Series through chained assignment using an inplace method.\n",
      "The behavior will change in pandas 3.0. This inplace method will never work because the intermediate object on which we are setting values always behaves as a copy.\n",
      "\n",
      "For example, when doing 'df[col].method(value, inplace=True)', try using 'df.method({col: value}, inplace=True)' or df[col] = df[col].method(value) instead, to perform the operation inplace on the original object.\n",
      "\n",
      "\n",
      "  df['bound'].fillna('unknown', inplace = True)\n"
     ]
    }
   ],
   "source": [
    "df['bound'].fillna('unknown', inplace = True)"
   ]
  },
  {
   "cell_type": "markdown",
   "metadata": {},
   "source": [
    "## 2.6 Line"
   ]
  },
  {
   "cell_type": "code",
   "execution_count": 25,
   "metadata": {},
   "outputs": [
    {
     "data": {
      "text/plain": [
       "line\n",
       "YU           10375\n",
       "BD            8625\n",
       "SRT            692\n",
       "SHP            633\n",
       "YU/BD          299\n",
       "YU / BD          6\n",
       "YUS/BD           6\n",
       "BD LINE 2        2\n",
       "BD/YU            1\n",
       "999              1\n",
       "YUS              1\n",
       "YU & BD          1\n",
       "Name: count, dtype: int64"
      ]
     },
     "execution_count": 25,
     "metadata": {},
     "output_type": "execute_result"
    }
   ],
   "source": [
    "df['line'].value_counts()"
   ]
  },
  {
   "cell_type": "code",
   "execution_count": 26,
   "metadata": {},
   "outputs": [],
   "source": [
    "df['line'] = df['line'].replace(['YU / BD', 'YUS/BD', 'BD/YU', 'YU & BD'], 'YU/BD')\n",
    "df['line'] = df['line'].replace('YUS', 'YU')\n",
    "df['line'] = df['line'].replace('999', np.nan)\n",
    "df['line'] = df['line'].replace('BD LINE 2', 'BD')"
   ]
  },
  {
   "cell_type": "code",
   "execution_count": 27,
   "metadata": {},
   "outputs": [],
   "source": [
    "df.dropna(subset=['line'], inplace=True)"
   ]
  },
  {
   "cell_type": "code",
   "execution_count": 28,
   "metadata": {},
   "outputs": [
    {
     "data": {
      "text/plain": [
       "line\n",
       "YU       10376\n",
       "BD        8627\n",
       "SRT        692\n",
       "SHP        633\n",
       "YU/BD      313\n",
       "Name: count, dtype: int64"
      ]
     },
     "execution_count": 28,
     "metadata": {},
     "output_type": "execute_result"
    }
   ],
   "source": [
    "df['line'].value_counts()"
   ]
  },
  {
   "cell_type": "markdown",
   "metadata": {},
   "source": [
    "## 2.7 Min Delay"
   ]
  },
  {
   "cell_type": "code",
   "execution_count": 29,
   "metadata": {},
   "outputs": [
    {
     "data": {
      "text/plain": [
       "(0.0, 100.0)"
      ]
     },
     "execution_count": 29,
     "metadata": {},
     "output_type": "execute_result"
    },
    {
     "data": {
      "image/png": "[encoded data removed]",
      "text/plain": [
       "<Figure size 800x400 with 1 Axes>"
      ]
     },
     "metadata": {},
     "output_type": "display_data"
    }
   ],
   "source": [
    "sns.set(rc={'figure.figsize':(8,4)})\n",
    "sns.histplot(data = df['min_delay'], kde=True , color='green')\n",
    "plt.xlim([0,100])"
   ]
  },
  {
   "cell_type": "code",
   "execution_count": 30,
   "metadata": {},
   "outputs": [],
   "source": [
    "# Delays over 40 minutes are considered exceptional\n",
    "df.drop(df[df[\"min_delay\"] > 40].index, inplace=True)\n",
    "df['min_delay'] = df['min_delay'].astype('int')"
   ]
  },
  {
   "cell_type": "code",
   "execution_count": 31,
   "metadata": {},
   "outputs": [],
   "source": [
    "# remove delay = 0\n",
    "df = df[df['min_delay']>=1]"
   ]
  },
  {
   "cell_type": "markdown",
   "metadata": {},
   "source": [
    "## 2.8 Save"
   ]
  },
  {
   "cell_type": "code",
   "execution_count": 32,
   "metadata": {},
   "outputs": [],
   "source": [
    "df.duplicated().sum()\n",
    "df = df.drop_duplicates()"
   ]
  },
  {
   "cell_type": "code",
   "execution_count": 33,
   "metadata": {},
   "outputs": [
    {
     "name": "stderr",
     "output_type": "stream",
     "text": [
      "C:\\Users\\admin\\AppData\\Local\\Temp\\ipykernel_23876\\2044505389.py:4: FutureWarning: DataFrame.applymap has been deprecated. Use DataFrame.map instead.\n",
      "  return dataset.applymap(trim)\n"
     ]
    }
   ],
   "source": [
    "subway_df = trim(df)"
   ]
  },
  {
   "cell_type": "code",
   "execution_count": 34,
   "metadata": {},
   "outputs": [
    {
     "data": {
      "text/html": [
       "<div>\n",
       "<style scoped>\n",
       "    .dataframe tbody tr th:only-of-type {\n",
       "        vertical-align: middle;\n",
       "    }\n",
       "\n",
       "    .dataframe tbody tr th {\n",
       "        vertical-align: top;\n",
       "    }\n",
       "\n",
       "    .dataframe thead th {\n",
       "        text-align: right;\n",
       "    }\n",
       "</style>\n",
       "<table border=\"1\" class=\"dataframe\">\n",
       "  <thead>\n",
       "    <tr style=\"text-align: right;\">\n",
       "      <th></th>\n",
       "      <th>date</th>\n",
       "      <th>time</th>\n",
       "      <th>day</th>\n",
       "      <th>station</th>\n",
       "      <th>code</th>\n",
       "      <th>min_delay</th>\n",
       "      <th>min_gap</th>\n",
       "      <th>bound</th>\n",
       "      <th>line</th>\n",
       "      <th>vehicle</th>\n",
       "      <th>day_month</th>\n",
       "      <th>month</th>\n",
       "      <th>hour</th>\n",
       "      <th>min</th>\n",
       "      <th>at_station</th>\n",
       "    </tr>\n",
       "  </thead>\n",
       "  <tbody>\n",
       "    <tr>\n",
       "      <th>0</th>\n",
       "      <td>2023-01-01</td>\n",
       "      <td>02:22:00</td>\n",
       "      <td>Sunday</td>\n",
       "      <td>museum station</td>\n",
       "      <td>MUPAA</td>\n",
       "      <td>3</td>\n",
       "      <td>9</td>\n",
       "      <td>S</td>\n",
       "      <td>YU</td>\n",
       "      <td>5931</td>\n",
       "      <td>1</td>\n",
       "      <td>1</td>\n",
       "      <td>2</td>\n",
       "      <td>22</td>\n",
       "      <td>1</td>\n",
       "    </tr>\n",
       "    <tr>\n",
       "      <th>7</th>\n",
       "      <td>2023-01-01</td>\n",
       "      <td>08:02:00</td>\n",
       "      <td>Sunday</td>\n",
       "      <td>vaughan mc station</td>\n",
       "      <td>TUNOA</td>\n",
       "      <td>6</td>\n",
       "      <td>12</td>\n",
       "      <td>S</td>\n",
       "      <td>YU</td>\n",
       "      <td>5451</td>\n",
       "      <td>1</td>\n",
       "      <td>1</td>\n",
       "      <td>8</td>\n",
       "      <td>2</td>\n",
       "      <td>1</td>\n",
       "    </tr>\n",
       "    <tr>\n",
       "      <th>8</th>\n",
       "      <td>2023-01-01</td>\n",
       "      <td>08:11:00</td>\n",
       "      <td>Sunday</td>\n",
       "      <td>greenwood station</td>\n",
       "      <td>MUNOA</td>\n",
       "      <td>5</td>\n",
       "      <td>10</td>\n",
       "      <td>E</td>\n",
       "      <td>BD</td>\n",
       "      <td>0</td>\n",
       "      <td>1</td>\n",
       "      <td>1</td>\n",
       "      <td>8</td>\n",
       "      <td>11</td>\n",
       "      <td>1</td>\n",
       "    </tr>\n",
       "    <tr>\n",
       "      <th>10</th>\n",
       "      <td>2023-01-01</td>\n",
       "      <td>08:15:00</td>\n",
       "      <td>Sunday</td>\n",
       "      <td>keele station</td>\n",
       "      <td>TUNOA</td>\n",
       "      <td>5</td>\n",
       "      <td>10</td>\n",
       "      <td>W</td>\n",
       "      <td>BD</td>\n",
       "      <td>0</td>\n",
       "      <td>1</td>\n",
       "      <td>1</td>\n",
       "      <td>8</td>\n",
       "      <td>15</td>\n",
       "      <td>1</td>\n",
       "    </tr>\n",
       "    <tr>\n",
       "      <th>11</th>\n",
       "      <td>2023-01-01</td>\n",
       "      <td>08:16:00</td>\n",
       "      <td>Sunday</td>\n",
       "      <td>greenwood station</td>\n",
       "      <td>TUNOA</td>\n",
       "      <td>5</td>\n",
       "      <td>10</td>\n",
       "      <td>E</td>\n",
       "      <td>BD</td>\n",
       "      <td>0</td>\n",
       "      <td>1</td>\n",
       "      <td>1</td>\n",
       "      <td>8</td>\n",
       "      <td>16</td>\n",
       "      <td>1</td>\n",
       "    </tr>\n",
       "  </tbody>\n",
       "</table>\n",
       "</div>"
      ],
      "text/plain": [
       "         date      time     day             station   code  min_delay  \\\n",
       "0  2023-01-01  02:22:00  Sunday      museum station  MUPAA          3   \n",
       "7  2023-01-01  08:02:00  Sunday  vaughan mc station  TUNOA          6   \n",
       "8  2023-01-01  08:11:00  Sunday   greenwood station  MUNOA          5   \n",
       "10 2023-01-01  08:15:00  Sunday       keele station  TUNOA          5   \n",
       "11 2023-01-01  08:16:00  Sunday   greenwood station  TUNOA          5   \n",
       "\n",
       "    min_gap bound line  vehicle  day_month  month  hour  min  at_station  \n",
       "0         9     S   YU     5931          1      1     2   22           1  \n",
       "7        12     S   YU     5451          1      1     8    2           1  \n",
       "8        10     E   BD        0          1      1     8   11           1  \n",
       "10       10     W   BD        0          1      1     8   15           1  \n",
       "11       10     E   BD        0          1      1     8   16           1  "
      ]
     },
     "execution_count": 34,
     "metadata": {},
     "output_type": "execute_result"
    }
   ],
   "source": [
    "df.head()"
   ]
  },
  {
   "cell_type": "code",
   "execution_count": 35,
   "metadata": {},
   "outputs": [
    {
     "name": "stdout",
     "output_type": "stream",
     "text": [
      "<class 'pandas.core.frame.DataFrame'>\n",
      "Index: 7382 entries, 0 to 20880\n",
      "Data columns (total 15 columns):\n",
      " #   Column      Non-Null Count  Dtype         \n",
      "---  ------      --------------  -----         \n",
      " 0   date        7382 non-null   datetime64[ns]\n",
      " 1   time        7382 non-null   object        \n",
      " 2   day         7382 non-null   object        \n",
      " 3   station     7382 non-null   object        \n",
      " 4   code        7382 non-null   object        \n",
      " 5   min_delay   7382 non-null   int32         \n",
      " 6   min_gap     7382 non-null   int64         \n",
      " 7   bound       7382 non-null   object        \n",
      " 8   line        7382 non-null   object        \n",
      " 9   vehicle     7382 non-null   int64         \n",
      " 10  day_month   7382 non-null   int32         \n",
      " 11  month       7382 non-null   int32         \n",
      " 12  hour        7382 non-null   int64         \n",
      " 13  min         7382 non-null   int64         \n",
      " 14  at_station  7382 non-null   int64         \n",
      "dtypes: datetime64[ns](1), int32(3), int64(5), object(6)\n",
      "memory usage: 836.2+ KB\n"
     ]
    }
   ],
   "source": [
    "df.info()"
   ]
  },
  {
   "cell_type": "code",
   "execution_count": 36,
   "metadata": {},
   "outputs": [
    {
     "name": "stdout",
     "output_type": "stream",
     "text": [
      "date (334,)\n",
      "time (1247,)\n",
      "day (7,)\n",
      "station (77,)\n",
      "code (157,)\n",
      "min_delay (39,)\n",
      "min_gap (45,)\n",
      "bound (5,)\n",
      "line (4,)\n",
      "vehicle (615,)\n",
      "day_month (31,)\n",
      "month (11,)\n",
      "hour (24,)\n",
      "min (60,)\n",
      "at_station (2,)\n"
     ]
    },
    {
     "data": {
      "text/plain": [
       "[None,\n",
       " None,\n",
       " None,\n",
       " None,\n",
       " None,\n",
       " None,\n",
       " None,\n",
       " None,\n",
       " None,\n",
       " None,\n",
       " None,\n",
       " None,\n",
       " None,\n",
       " None,\n",
       " None]"
      ]
     },
     "execution_count": 36,
     "metadata": {},
     "output_type": "execute_result"
    }
   ],
   "source": [
    "[print(i,df[i].value_counts().shape) for i in df.columns]"
   ]
  },
  {
   "cell_type": "code",
   "execution_count": 38,
   "metadata": {},
   "outputs": [],
   "source": [
    "subway_df.to_csv('../data/clean_data/subway_cleaned_win.csv',index = False)"
   ]
  },
  {
   "cell_type": "code",
   "execution_count": null,
   "metadata": {},
   "outputs": [],
   "source": []
  },
  {
   "cell_type": "code",
   "execution_count": null,
   "metadata": {},
   "outputs": [],
   "source": []
  }
 ],
 "metadata": {
  "kernelspec": {
   "display_name": ".venv",
   "language": "python",
   "name": "python3"
  },
  "language_info": {
   "codemirror_mode": {
    "name": "ipython",
    "version": 3
   },
   "file_extension": ".py",
   "mimetype": "text/x-python",
   "name": "python",
   "nbconvert_exporter": "python",
   "pygments_lexer": "ipython3",
   "version": "3.10.11"
  }
 },
 "nbformat": 4,
 "nbformat_minor": 2
}
