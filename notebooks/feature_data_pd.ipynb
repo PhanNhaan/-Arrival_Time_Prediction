{
 "cells": [
  {
   "cell_type": "code",
   "execution_count": 130,
   "metadata": {},
   "outputs": [],
   "source": [
    "import pandas as pd\n",
    "import numpy as np\n",
    "\n",
    "from sklearn.preprocessing import LabelEncoder\n",
    "\n",
    "from sklearn.preprocessing import MinMaxScaler\n",
    "\n",
    "\n",
    "from tensorflow.keras.preprocessing.text import Tokenizer\n",
    "from tensorflow.keras.preprocessing.sequence import pad_sequences"
   ]
  },
  {
   "cell_type": "markdown",
   "metadata": {},
   "source": [
    "# 1. Bus"
   ]
  },
  {
   "cell_type": "code",
   "execution_count": 131,
   "metadata": {},
   "outputs": [],
   "source": [
    "bus = pd.read_csv('../data/clean_data/bus_clean.csv')"
   ]
  },
  {
   "cell_type": "code",
   "execution_count": 132,
   "metadata": {},
   "outputs": [
    {
     "name": "stdout",
     "output_type": "stream",
     "text": [
      "<class 'pandas.core.frame.DataFrame'>\n",
      "RangeIndex: 49051 entries, 0 to 49050\n",
      "Data columns (total 14 columns):\n",
      " #   Column     Non-Null Count  Dtype \n",
      "---  ------     --------------  ----- \n",
      " 0   date       49051 non-null  object\n",
      " 1   route      49051 non-null  int64 \n",
      " 2   time       49051 non-null  object\n",
      " 3   day        49051 non-null  object\n",
      " 4   location   49051 non-null  object\n",
      " 5   incident   49051 non-null  object\n",
      " 6   min_delay  49051 non-null  int64 \n",
      " 7   min_gap    49051 non-null  int64 \n",
      " 8   direction  49051 non-null  object\n",
      " 9   vehicle    49051 non-null  int64 \n",
      " 10  day_month  49051 non-null  int64 \n",
      " 11  month      49051 non-null  int64 \n",
      " 12  hour       49051 non-null  int64 \n",
      " 13  min        49051 non-null  int64 \n",
      "dtypes: int64(8), object(6)\n",
      "memory usage: 5.2+ MB\n"
     ]
    }
   ],
   "source": [
    "bus.info()"
   ]
  },
  {
   "cell_type": "markdown",
   "metadata": {},
   "source": [
    "## 1.2 StringIndexer col categorical"
   ]
  },
  {
   "cell_type": "code",
   "execution_count": 133,
   "metadata": {},
   "outputs": [],
   "source": [
    "indexed_data = bus.copy()"
   ]
  },
  {
   "cell_type": "code",
   "execution_count": 134,
   "metadata": {},
   "outputs": [],
   "source": [
    "categorical_cols = [\"day\", \"incident\", \"direction\", \"location\"]"
   ]
  },
  {
   "cell_type": "code",
   "execution_count": 135,
   "metadata": {},
   "outputs": [],
   "source": [
    "le = LabelEncoder()\n",
    "le_day = le.fit(indexed_data[\"day\"].unique())\n",
    "indexed_data[\"day_indexed\"] = le_day.transform(indexed_data[\"day\"])\n",
    "\n",
    "le = LabelEncoder()\n",
    "le_code = le.fit(indexed_data[\"incident\"].unique())\n",
    "indexed_data[\"incident_indexed\"] = le_code.transform(indexed_data[\"incident\"])\n",
    "\n",
    "le = LabelEncoder()\n",
    "le_bound = le.fit(indexed_data[\"direction\"].unique())\n",
    "indexed_data[\"direction_indexed\"] = le_bound.transform(indexed_data[\"direction\"])\n",
    "\n",
    "le = LabelEncoder()\n",
    "le_line = le.fit(indexed_data[\"location\"].unique())\n",
    "indexed_data[\"location_indexed\"] = le_line.transform(indexed_data[\"location\"]) "
   ]
  },
  {
   "cell_type": "markdown",
   "metadata": {},
   "source": [
    "## 2.3 W2v cal station"
   ]
  },
  {
   "cell_type": "code",
   "execution_count": 136,
   "metadata": {},
   "outputs": [],
   "source": [
    "tokenizer = Tokenizer(num_words=10000)\n",
    "tokenizer.fit_on_texts(indexed_data['location']) \n",
    "sequences = tokenizer.texts_to_sequences(indexed_data['location'])\n",
    "station_w2v = pad_sequences(sequences, maxlen=7) "
   ]
  },
  {
   "cell_type": "code",
   "execution_count": 137,
   "metadata": {},
   "outputs": [],
   "source": [
    "indexed_data['location_w2v'] = station_w2v.tolist()"
   ]
  },
  {
   "cell_type": "markdown",
   "metadata": {},
   "source": [
    "## 2.4 Vector and scala feature col"
   ]
  },
  {
   "cell_type": "code",
   "execution_count": 138,
   "metadata": {},
   "outputs": [],
   "source": [
    "feature_cols =['route',\n",
    " 'min_gap',\n",
    " 'vehicle',\n",
    " 'day_month',\n",
    " 'month',\n",
    " 'hour',\n",
    " 'min',\n",
    " 'day_indexed',\n",
    " 'incident_indexed',\n",
    " 'direction_indexed']"
   ]
  },
  {
   "cell_type": "code",
   "execution_count": 139,
   "metadata": {},
   "outputs": [],
   "source": [
    "features_data = indexed_data.copy()"
   ]
  },
  {
   "cell_type": "code",
   "execution_count": 140,
   "metadata": {},
   "outputs": [],
   "source": [
    "selected_columns_df = features_data[feature_cols].values\n",
    "features_data['features'] = features_data['location_w2v']\n",
    "\n",
    "for i in range(len(selected_columns_df)):\n",
    "    features_data.at[i, 'features'] = features_data.at[i, 'features'] + selected_columns_df[i].tolist()"
   ]
  },
  {
   "cell_type": "code",
   "execution_count": 141,
   "metadata": {},
   "outputs": [],
   "source": [
    "array = np.array(features_data['features'].tolist())\n",
    "\n",
    "scaler = MinMaxScaler()\n",
    "scaler_model =scaler.fit(array)\n",
    "scaled_array = scaler_model.transform(array)\n",
    "\n",
    "features_data['scaled'] = scaled_array.tolist()"
   ]
  },
  {
   "cell_type": "code",
   "execution_count": 142,
   "metadata": {},
   "outputs": [],
   "source": [
    "# index\n",
    "feature_cols.append('location_indexed')\n",
    "features_data['features_index'] = features_data[feature_cols].apply(lambda row: row.tolist(), axis=1)"
   ]
  },
  {
   "cell_type": "code",
   "execution_count": 143,
   "metadata": {},
   "outputs": [],
   "source": [
    "array = np.array(features_data['features_index'].tolist())\n",
    "\n",
    "scaler = MinMaxScaler()\n",
    "scaler_model =scaler.fit(array)\n",
    "scaled_array = scaler_model.transform(array)\n",
    "\n",
    "features_data['scaled_index'] = scaled_array.tolist()"
   ]
  },
  {
   "cell_type": "markdown",
   "metadata": {},
   "source": [
    "## 2.6 Save data featured"
   ]
  },
  {
   "cell_type": "code",
   "execution_count": 144,
   "metadata": {},
   "outputs": [
    {
     "name": "stdout",
     "output_type": "stream",
     "text": [
      "<class 'pandas.core.frame.DataFrame'>\n",
      "RangeIndex: 49051 entries, 0 to 49050\n",
      "Data columns (total 23 columns):\n",
      " #   Column             Non-Null Count  Dtype \n",
      "---  ------             --------------  ----- \n",
      " 0   date               49051 non-null  object\n",
      " 1   route              49051 non-null  int64 \n",
      " 2   time               49051 non-null  object\n",
      " 3   day                49051 non-null  object\n",
      " 4   location           49051 non-null  object\n",
      " 5   incident           49051 non-null  object\n",
      " 6   min_delay          49051 non-null  int64 \n",
      " 7   min_gap            49051 non-null  int64 \n",
      " 8   direction          49051 non-null  object\n",
      " 9   vehicle            49051 non-null  int64 \n",
      " 10  day_month          49051 non-null  int64 \n",
      " 11  month              49051 non-null  int64 \n",
      " 12  hour               49051 non-null  int64 \n",
      " 13  min                49051 non-null  int64 \n",
      " 14  day_indexed        49051 non-null  int32 \n",
      " 15  incident_indexed   49051 non-null  int32 \n",
      " 16  direction_indexed  49051 non-null  int32 \n",
      " 17  location_indexed   49051 non-null  int32 \n",
      " 18  location_w2v       49051 non-null  object\n",
      " 19  features           49051 non-null  object\n",
      " 20  scaled             49051 non-null  object\n",
      " 21  features_index     49051 non-null  object\n",
      " 22  scaled_index       49051 non-null  object\n",
      "dtypes: int32(4), int64(8), object(11)\n",
      "memory usage: 7.9+ MB\n"
     ]
    }
   ],
   "source": [
    "features_data.info()"
   ]
  },
  {
   "cell_type": "code",
   "execution_count": 145,
   "metadata": {},
   "outputs": [],
   "source": [
    "features_data.to_csv('../data/features_data/bus_feature_pd.csv', index=False)"
   ]
  },
  {
   "cell_type": "markdown",
   "metadata": {},
   "source": [
    "# 2. SubWay"
   ]
  },
  {
   "cell_type": "markdown",
   "metadata": {},
   "source": [
    "## 2.1 Load data"
   ]
  },
  {
   "cell_type": "code",
   "execution_count": 168,
   "metadata": {},
   "outputs": [],
   "source": [
    "subway = pd.read_csv('../data/clean_data/subway_cleaned.csv')"
   ]
  },
  {
   "cell_type": "code",
   "execution_count": 169,
   "metadata": {},
   "outputs": [],
   "source": [
    "# subway_drop = subway.drop([\"date\", \"time\"], axis=1)\n",
    "# subway_drop"
   ]
  },
  {
   "cell_type": "markdown",
   "metadata": {},
   "source": [
    "## 2.2 StringIndexer col categorical"
   ]
  },
  {
   "cell_type": "code",
   "execution_count": 170,
   "metadata": {},
   "outputs": [],
   "source": [
    "# categorical_cols = [\"day\", \"code\", \"bound\", \"line\"]"
   ]
  },
  {
   "cell_type": "code",
   "execution_count": 171,
   "metadata": {},
   "outputs": [],
   "source": [
    "indexed_data = subway.copy()"
   ]
  },
  {
   "cell_type": "code",
   "execution_count": 172,
   "metadata": {},
   "outputs": [
    {
     "data": {
      "text/html": [
       "<div>\n",
       "<style scoped>\n",
       "    .dataframe tbody tr th:only-of-type {\n",
       "        vertical-align: middle;\n",
       "    }\n",
       "\n",
       "    .dataframe tbody tr th {\n",
       "        vertical-align: top;\n",
       "    }\n",
       "\n",
       "    .dataframe thead th {\n",
       "        text-align: right;\n",
       "    }\n",
       "</style>\n",
       "<table border=\"1\" class=\"dataframe\">\n",
       "  <thead>\n",
       "    <tr style=\"text-align: right;\">\n",
       "      <th></th>\n",
       "      <th>date</th>\n",
       "      <th>time</th>\n",
       "      <th>day</th>\n",
       "      <th>station</th>\n",
       "      <th>code</th>\n",
       "      <th>min_delay</th>\n",
       "      <th>min_gap</th>\n",
       "      <th>bound</th>\n",
       "      <th>line</th>\n",
       "      <th>vehicle</th>\n",
       "      <th>day_month</th>\n",
       "      <th>month</th>\n",
       "      <th>hour</th>\n",
       "      <th>min</th>\n",
       "      <th>at_station</th>\n",
       "    </tr>\n",
       "  </thead>\n",
       "  <tbody>\n",
       "    <tr>\n",
       "      <th>0</th>\n",
       "      <td>2023-01-01</td>\n",
       "      <td>02:22:00</td>\n",
       "      <td>Sunday</td>\n",
       "      <td>museum station</td>\n",
       "      <td>MUPAA</td>\n",
       "      <td>3</td>\n",
       "      <td>9</td>\n",
       "      <td>S</td>\n",
       "      <td>YU</td>\n",
       "      <td>5931</td>\n",
       "      <td>1</td>\n",
       "      <td>1</td>\n",
       "      <td>2</td>\n",
       "      <td>22</td>\n",
       "      <td>1</td>\n",
       "    </tr>\n",
       "    <tr>\n",
       "      <th>1</th>\n",
       "      <td>2023-01-01</td>\n",
       "      <td>08:02:00</td>\n",
       "      <td>Sunday</td>\n",
       "      <td>vaughan mc station</td>\n",
       "      <td>TUNOA</td>\n",
       "      <td>6</td>\n",
       "      <td>12</td>\n",
       "      <td>S</td>\n",
       "      <td>YU</td>\n",
       "      <td>5451</td>\n",
       "      <td>1</td>\n",
       "      <td>1</td>\n",
       "      <td>8</td>\n",
       "      <td>2</td>\n",
       "      <td>1</td>\n",
       "    </tr>\n",
       "    <tr>\n",
       "      <th>2</th>\n",
       "      <td>2023-01-01</td>\n",
       "      <td>08:11:00</td>\n",
       "      <td>Sunday</td>\n",
       "      <td>greenwood station</td>\n",
       "      <td>MUNOA</td>\n",
       "      <td>5</td>\n",
       "      <td>10</td>\n",
       "      <td>E</td>\n",
       "      <td>BD</td>\n",
       "      <td>0</td>\n",
       "      <td>1</td>\n",
       "      <td>1</td>\n",
       "      <td>8</td>\n",
       "      <td>11</td>\n",
       "      <td>1</td>\n",
       "    </tr>\n",
       "    <tr>\n",
       "      <th>3</th>\n",
       "      <td>2023-01-01</td>\n",
       "      <td>08:15:00</td>\n",
       "      <td>Sunday</td>\n",
       "      <td>keele station</td>\n",
       "      <td>TUNOA</td>\n",
       "      <td>5</td>\n",
       "      <td>10</td>\n",
       "      <td>W</td>\n",
       "      <td>BD</td>\n",
       "      <td>0</td>\n",
       "      <td>1</td>\n",
       "      <td>1</td>\n",
       "      <td>8</td>\n",
       "      <td>15</td>\n",
       "      <td>1</td>\n",
       "    </tr>\n",
       "    <tr>\n",
       "      <th>4</th>\n",
       "      <td>2023-01-01</td>\n",
       "      <td>08:16:00</td>\n",
       "      <td>Sunday</td>\n",
       "      <td>greenwood station</td>\n",
       "      <td>TUNOA</td>\n",
       "      <td>5</td>\n",
       "      <td>10</td>\n",
       "      <td>E</td>\n",
       "      <td>BD</td>\n",
       "      <td>0</td>\n",
       "      <td>1</td>\n",
       "      <td>1</td>\n",
       "      <td>8</td>\n",
       "      <td>16</td>\n",
       "      <td>1</td>\n",
       "    </tr>\n",
       "    <tr>\n",
       "      <th>...</th>\n",
       "      <td>...</td>\n",
       "      <td>...</td>\n",
       "      <td>...</td>\n",
       "      <td>...</td>\n",
       "      <td>...</td>\n",
       "      <td>...</td>\n",
       "      <td>...</td>\n",
       "      <td>...</td>\n",
       "      <td>...</td>\n",
       "      <td>...</td>\n",
       "      <td>...</td>\n",
       "      <td>...</td>\n",
       "      <td>...</td>\n",
       "      <td>...</td>\n",
       "      <td>...</td>\n",
       "    </tr>\n",
       "    <tr>\n",
       "      <th>7377</th>\n",
       "      <td>2023-11-30</td>\n",
       "      <td>22:37:00</td>\n",
       "      <td>Thursday</td>\n",
       "      <td>glencairn station</td>\n",
       "      <td>SUUT</td>\n",
       "      <td>14</td>\n",
       "      <td>19</td>\n",
       "      <td>S</td>\n",
       "      <td>YU</td>\n",
       "      <td>5761</td>\n",
       "      <td>30</td>\n",
       "      <td>11</td>\n",
       "      <td>22</td>\n",
       "      <td>37</td>\n",
       "      <td>1</td>\n",
       "    </tr>\n",
       "    <tr>\n",
       "      <th>7378</th>\n",
       "      <td>2023-11-30</td>\n",
       "      <td>23:09:00</td>\n",
       "      <td>Thursday</td>\n",
       "      <td>bloor yonge station</td>\n",
       "      <td>MUSAN</td>\n",
       "      <td>5</td>\n",
       "      <td>10</td>\n",
       "      <td>S</td>\n",
       "      <td>YU</td>\n",
       "      <td>5666</td>\n",
       "      <td>30</td>\n",
       "      <td>11</td>\n",
       "      <td>23</td>\n",
       "      <td>9</td>\n",
       "      <td>1</td>\n",
       "    </tr>\n",
       "    <tr>\n",
       "      <th>7379</th>\n",
       "      <td>2023-11-30</td>\n",
       "      <td>01:57:00</td>\n",
       "      <td>Thursday</td>\n",
       "      <td>sheppard yonge station</td>\n",
       "      <td>MUATC</td>\n",
       "      <td>5</td>\n",
       "      <td>10</td>\n",
       "      <td>N</td>\n",
       "      <td>YU</td>\n",
       "      <td>6066</td>\n",
       "      <td>30</td>\n",
       "      <td>11</td>\n",
       "      <td>1</td>\n",
       "      <td>57</td>\n",
       "      <td>1</td>\n",
       "    </tr>\n",
       "    <tr>\n",
       "      <th>7380</th>\n",
       "      <td>2023-11-30</td>\n",
       "      <td>06:29:00</td>\n",
       "      <td>Thursday</td>\n",
       "      <td>bessarion station</td>\n",
       "      <td>TUML</td>\n",
       "      <td>7</td>\n",
       "      <td>0</td>\n",
       "      <td>E</td>\n",
       "      <td>SHP</td>\n",
       "      <td>6186</td>\n",
       "      <td>30</td>\n",
       "      <td>11</td>\n",
       "      <td>6</td>\n",
       "      <td>29</td>\n",
       "      <td>1</td>\n",
       "    </tr>\n",
       "    <tr>\n",
       "      <th>7381</th>\n",
       "      <td>2023-11-30</td>\n",
       "      <td>07:39:00</td>\n",
       "      <td>Thursday</td>\n",
       "      <td>leslie station</td>\n",
       "      <td>PUOPO</td>\n",
       "      <td>9</td>\n",
       "      <td>16</td>\n",
       "      <td>W</td>\n",
       "      <td>SHP</td>\n",
       "      <td>6181</td>\n",
       "      <td>30</td>\n",
       "      <td>11</td>\n",
       "      <td>7</td>\n",
       "      <td>39</td>\n",
       "      <td>1</td>\n",
       "    </tr>\n",
       "  </tbody>\n",
       "</table>\n",
       "<p>7382 rows × 15 columns</p>\n",
       "</div>"
      ],
      "text/plain": [
       "            date      time       day                 station   code  \\\n",
       "0     2023-01-01  02:22:00    Sunday          museum station  MUPAA   \n",
       "1     2023-01-01  08:02:00    Sunday      vaughan mc station  TUNOA   \n",
       "2     2023-01-01  08:11:00    Sunday       greenwood station  MUNOA   \n",
       "3     2023-01-01  08:15:00    Sunday           keele station  TUNOA   \n",
       "4     2023-01-01  08:16:00    Sunday       greenwood station  TUNOA   \n",
       "...          ...       ...       ...                     ...    ...   \n",
       "7377  2023-11-30  22:37:00  Thursday       glencairn station   SUUT   \n",
       "7378  2023-11-30  23:09:00  Thursday     bloor yonge station  MUSAN   \n",
       "7379  2023-11-30  01:57:00  Thursday  sheppard yonge station  MUATC   \n",
       "7380  2023-11-30  06:29:00  Thursday       bessarion station   TUML   \n",
       "7381  2023-11-30  07:39:00  Thursday          leslie station  PUOPO   \n",
       "\n",
       "      min_delay  min_gap bound line  vehicle  day_month  month  hour  min  \\\n",
       "0             3        9     S   YU     5931          1      1     2   22   \n",
       "1             6       12     S   YU     5451          1      1     8    2   \n",
       "2             5       10     E   BD        0          1      1     8   11   \n",
       "3             5       10     W   BD        0          1      1     8   15   \n",
       "4             5       10     E   BD        0          1      1     8   16   \n",
       "...         ...      ...   ...  ...      ...        ...    ...   ...  ...   \n",
       "7377         14       19     S   YU     5761         30     11    22   37   \n",
       "7378          5       10     S   YU     5666         30     11    23    9   \n",
       "7379          5       10     N   YU     6066         30     11     1   57   \n",
       "7380          7        0     E  SHP     6186         30     11     6   29   \n",
       "7381          9       16     W  SHP     6181         30     11     7   39   \n",
       "\n",
       "      at_station  \n",
       "0              1  \n",
       "1              1  \n",
       "2              1  \n",
       "3              1  \n",
       "4              1  \n",
       "...          ...  \n",
       "7377           1  \n",
       "7378           1  \n",
       "7379           1  \n",
       "7380           1  \n",
       "7381           1  \n",
       "\n",
       "[7382 rows x 15 columns]"
      ]
     },
     "execution_count": 172,
     "metadata": {},
     "output_type": "execute_result"
    }
   ],
   "source": [
    "indexed_data"
   ]
  },
  {
   "cell_type": "code",
   "execution_count": 173,
   "metadata": {},
   "outputs": [],
   "source": [
    "le = LabelEncoder()\n",
    "le_day = le.fit(indexed_data[\"day\"].unique())\n",
    "indexed_data[\"day_indexed\"] = le_day.transform(indexed_data[\"day\"])\n",
    "\n",
    "le = LabelEncoder()\n",
    "le_code = le.fit(indexed_data[\"code\"].unique())\n",
    "indexed_data[\"code_indexed\"] = le_code.transform(indexed_data[\"code\"])\n",
    "\n",
    "le = LabelEncoder()\n",
    "le_bound = le.fit(indexed_data[\"bound\"].unique())\n",
    "indexed_data[\"bound_indexed\"] = le_bound.transform(indexed_data[\"bound\"])\n",
    "\n",
    "le = LabelEncoder()\n",
    "le_line = le.fit(indexed_data[\"line\"].unique())\n",
    "indexed_data[\"line_indexed\"] = le_line.transform(indexed_data[\"line\"]) \n",
    "\n",
    "le = LabelEncoder()\n",
    "le_station = le.fit(indexed_data[\"station\"].unique())\n",
    "indexed_data[\"station_indexed\"] = le_station.transform(indexed_data[\"station\"]) "
   ]
  },
  {
   "cell_type": "markdown",
   "metadata": {},
   "source": [
    "## 2.3 W2v cal station"
   ]
  },
  {
   "cell_type": "code",
   "execution_count": 174,
   "metadata": {},
   "outputs": [],
   "source": [
    "tokenizer = Tokenizer(num_words=10000)\n",
    "tokenizer.fit_on_texts(indexed_data['station']) \n",
    "sequences = tokenizer.texts_to_sequences(indexed_data['station'])\n",
    "station_w2v = pad_sequences(sequences, maxlen=4) "
   ]
  },
  {
   "cell_type": "code",
   "execution_count": 175,
   "metadata": {},
   "outputs": [],
   "source": [
    "indexed_data['station_w2v'] = station_w2v.tolist()"
   ]
  },
  {
   "cell_type": "markdown",
   "metadata": {},
   "source": [
    "## 2.4 Vector and scala feature col"
   ]
  },
  {
   "cell_type": "code",
   "execution_count": 176,
   "metadata": {},
   "outputs": [],
   "source": [
    "feature_cols =['min_gap',\n",
    " 'vehicle',\n",
    " 'day_month',\n",
    " 'month',\n",
    " 'hour',\n",
    " 'min',\n",
    " 'at_station',\n",
    " 'day_indexed',\n",
    " 'code_indexed',\n",
    " 'bound_indexed',\n",
    " 'line_indexed'\n",
    " ]"
   ]
  },
  {
   "cell_type": "code",
   "execution_count": 177,
   "metadata": {},
   "outputs": [],
   "source": [
    "features_data = indexed_data.copy()"
   ]
  },
  {
   "cell_type": "code",
   "execution_count": 178,
   "metadata": {},
   "outputs": [],
   "source": [
    "selected_columns_df = features_data[feature_cols].values"
   ]
  },
  {
   "cell_type": "code",
   "execution_count": 179,
   "metadata": {},
   "outputs": [],
   "source": [
    "features_data['features'] = features_data['station_w2v']"
   ]
  },
  {
   "cell_type": "code",
   "execution_count": 180,
   "metadata": {},
   "outputs": [],
   "source": [
    "for i in range(len(selected_columns_df)):\n",
    "    features_data.at[i, 'features'] = features_data.at[i, 'features'] + selected_columns_df[i].tolist()"
   ]
  },
  {
   "cell_type": "code",
   "execution_count": 192,
   "metadata": {},
   "outputs": [],
   "source": [
    "array = np.array(features_data['features'].tolist())\n",
    "\n",
    "scaler = MinMaxScaler()\n",
    "scaler_model =scaler.fit(array)\n",
    "scaled_array = scaler_model.transform(array)\n",
    "\n",
    "features_data['scaled'] = scaled_array.tolist()"
   ]
  },
  {
   "cell_type": "code",
   "execution_count": 182,
   "metadata": {},
   "outputs": [],
   "source": [
    "# index\n",
    "feature_cols.append('station_indexed')\n",
    "features_data['features_index'] = features_data[feature_cols].apply(lambda row: row.tolist(), axis=1)"
   ]
  },
  {
   "cell_type": "code",
   "execution_count": 183,
   "metadata": {},
   "outputs": [],
   "source": [
    "array = np.array(features_data['features_index'].tolist())\n",
    "\n",
    "# Assuming X is your data\n",
    "scaler = MinMaxScaler()\n",
    "scaler_model =scaler.fit(array)\n",
    "# Fit to data, then transform it\n",
    "scaled_array = scaler_model.transform(array)\n",
    "\n",
    "features_data['scaled_index'] = scaled_array.tolist()"
   ]
  },
  {
   "cell_type": "markdown",
   "metadata": {},
   "source": [
    "## 2.6 Save data featured"
   ]
  },
  {
   "cell_type": "code",
   "execution_count": 184,
   "metadata": {},
   "outputs": [
    {
     "name": "stdout",
     "output_type": "stream",
     "text": [
      "<class 'pandas.core.frame.DataFrame'>\n",
      "RangeIndex: 7382 entries, 0 to 7381\n",
      "Data columns (total 25 columns):\n",
      " #   Column           Non-Null Count  Dtype \n",
      "---  ------           --------------  ----- \n",
      " 0   date             7382 non-null   object\n",
      " 1   time             7382 non-null   object\n",
      " 2   day              7382 non-null   object\n",
      " 3   station          7382 non-null   object\n",
      " 4   code             7382 non-null   object\n",
      " 5   min_delay        7382 non-null   int64 \n",
      " 6   min_gap          7382 non-null   int64 \n",
      " 7   bound            7382 non-null   object\n",
      " 8   line             7382 non-null   object\n",
      " 9   vehicle          7382 non-null   int64 \n",
      " 10  day_month        7382 non-null   int64 \n",
      " 11  month            7382 non-null   int64 \n",
      " 12  hour             7382 non-null   int64 \n",
      " 13  min              7382 non-null   int64 \n",
      " 14  at_station       7382 non-null   int64 \n",
      " 15  day_indexed      7382 non-null   int32 \n",
      " 16  code_indexed     7382 non-null   int32 \n",
      " 17  bound_indexed    7382 non-null   int32 \n",
      " 18  line_indexed     7382 non-null   int32 \n",
      " 19  station_indexed  7382 non-null   int32 \n",
      " 20  station_w2v      7382 non-null   object\n",
      " 21  features         7382 non-null   object\n",
      " 22  scaled           7382 non-null   object\n",
      " 23  features_index   7382 non-null   object\n",
      " 24  scaled_index     7382 non-null   object\n",
      "dtypes: int32(5), int64(8), object(12)\n",
      "memory usage: 1.3+ MB\n"
     ]
    }
   ],
   "source": [
    "features_data.info()"
   ]
  },
  {
   "cell_type": "code",
   "execution_count": 185,
   "metadata": {},
   "outputs": [],
   "source": [
    "features_data.to_csv('../data/features_data/subway_feature_pd.csv', index=False)"
   ]
  },
  {
   "cell_type": "code",
   "execution_count": null,
   "metadata": {},
   "outputs": [],
   "source": []
  },
  {
   "cell_type": "code",
   "execution_count": null,
   "metadata": {},
   "outputs": [],
   "source": []
  },
  {
   "cell_type": "code",
   "execution_count": null,
   "metadata": {},
   "outputs": [],
   "source": []
  },
  {
   "cell_type": "code",
   "execution_count": null,
   "metadata": {},
   "outputs": [],
   "source": []
  },
  {
   "cell_type": "code",
   "execution_count": null,
   "metadata": {},
   "outputs": [],
   "source": []
  },
  {
   "cell_type": "markdown",
   "metadata": {},
   "source": [
    "# 3."
   ]
  },
  {
   "cell_type": "code",
   "execution_count": 186,
   "metadata": {},
   "outputs": [
    {
     "data": {
      "text/plain": [
       "date              2023-01-01\n",
       "time                02:22:00\n",
       "day                   Sunday\n",
       "station       museum station\n",
       "code                   MUPAA\n",
       "min_delay                  3\n",
       "min_gap                    9\n",
       "bound                      S\n",
       "line                      YU\n",
       "vehicle                 5931\n",
       "day_month                  1\n",
       "month                      1\n",
       "hour                       2\n",
       "min                       22\n",
       "at_station                 1\n",
       "Name: 0, dtype: object"
      ]
     },
     "execution_count": 186,
     "metadata": {},
     "output_type": "execute_result"
    }
   ],
   "source": [
    "X =subway.loc[0]\n",
    "X"
   ]
  },
  {
   "cell_type": "code",
   "execution_count": 196,
   "metadata": {},
   "outputs": [],
   "source": [
    "def feature(X):\n",
    "    X =X.copy()\n",
    "    X['day_indexed'] = le_day.transform([X['day']])[0]\n",
    "    X['code_indexed'] = le_code.transform([X['code']])[0]\n",
    "    X['bound_indexed'] = le_bound.transform([X['bound']])[0]\n",
    "    X['line_indexed'] = le_line.transform([X['line']])[0]\n",
    "    X['station_w2v'] = tokenizer.texts_to_sequences([X['station']])[0]\n",
    "    X['station_w2v'] = pad_sequences([X['station_w2v']], maxlen=4)[0]\n",
    "    selected_columns = [X['min_gap'], X['vehicle'], X['day_month'], X['month'], X['hour'], X['min'], X['at_station'], X['day_indexed'], X['code_indexed'], X['bound_indexed'], X['line_indexed']]\n",
    "    X['features'] = X['station_w2v'].tolist() + selected_columns\n",
    "    # print(X['features'])\n",
    "    X['features'] = scaler_model.transform([X['features']])[0]\n",
    "    return X['features']"
   ]
  },
  {
   "cell_type": "code",
   "execution_count": 197,
   "metadata": {},
   "outputs": [
    {
     "data": {
      "text/plain": [
       "15"
      ]
     },
     "execution_count": 197,
     "metadata": {},
     "output_type": "execute_result"
    }
   ],
   "source": [
    "len(feature(X))"
   ]
  }
 ],
 "metadata": {
  "kernelspec": {
   "display_name": "Python 3",
   "language": "python",
   "name": "python3"
  },
  "language_info": {
   "codemirror_mode": {
    "name": "ipython",
    "version": 3
   },
   "file_extension": ".py",
   "mimetype": "text/x-python",
   "name": "python",
   "nbconvert_exporter": "python",
   "pygments_lexer": "ipython3",
   "version": "3.10.11"
  }
 },
 "nbformat": 4,
 "nbformat_minor": 2
}
